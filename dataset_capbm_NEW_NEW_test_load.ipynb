{
 "cells": [
  {
   "cell_type": "code",
   "execution_count": 1,
   "metadata": {},
   "outputs": [],
   "source": [
    "import os\n",
    "import pathlib\n",
    "from datasets import deep_fashion_capbm\n",
    "\n",
    "import numpy as np\n",
    "import pandas as pd\n",
    "\n",
    "import matplotlib as mpl\n",
    "import matplotlib.pyplot as plt\n",
    "%matplotlib inline\n",
    "\n",
    "from torch.utils.data import DataLoader, Subset\n",
    "from torchvision.transforms import Resize, Lambda, Compose\n",
    "\n",
    "import torch\n",
    "import torchvision\n",
    "\n",
    "import utils.mem\n",
    "import utils.list\n",
    "\n",
    "from tqdm.notebook import tqdm"
   ]
  },
  {
   "cell_type": "code",
   "execution_count": 2,
   "metadata": {},
   "outputs": [],
   "source": [
    "capbm_image_transform = torchvision.models.EfficientNet_B3_Weights.DEFAULT.transforms()\n",
    "capbm_image_transform.antialias = True\n",
    "\n",
    "capbm_dataset_dir = os.path.join(pathlib.Path.home(), \"data\", \"DeepFashion\", \"Category and Attribute Prediction Benchmark\")\n",
    "capbm_dataset = deep_fashion_capbm.CatAndAttrPredBmkDataset(capbm_dataset_dir, img_transform=capbm_image_transform)"
   ]
  },
  {
   "cell_type": "code",
   "execution_count": 3,
   "metadata": {},
   "outputs": [
    {
     "name": "stdout",
     "output_type": "stream",
     "text": [
      "289222\n"
     ]
    }
   ],
   "source": [
    "print(capbm_dataset._num_imgs)"
   ]
  },
  {
   "cell_type": "code",
   "execution_count": 5,
   "metadata": {},
   "outputs": [],
   "source": [
    "capbm_train_dataset = Subset(capbm_dataset, capbm_dataset.get_subset_indices(split=\"train\"))\n",
    "capbm_test_dataset = Subset(capbm_dataset, capbm_dataset.get_subset_indices(split=\"test\"))\n",
    "capbm_val_dataset = Subset(capbm_dataset, capbm_dataset.get_subset_indices(split=\"val\"))\n",
    "\n",
    "capbm_train_loader = DataLoader(capbm_train_dataset, batch_size=32, num_workers=6)\n",
    "capbm_test_loader = DataLoader(capbm_test_dataset, batch_size=32, num_workers=6)\n",
    "capbm_val_loader = DataLoader(capbm_val_dataset, batch_size=32, num_workers=6)"
   ]
  },
  {
   "cell_type": "code",
   "execution_count": 6,
   "metadata": {},
   "outputs": [
    {
     "name": "stdout",
     "output_type": "stream",
     "text": [
      "-- PICKLE STATUS START --\n",
      "self._dataset_dirname\n",
      "   True\n",
      "self._img_transform\n",
      "   True\n",
      "self._split_num_mask\n",
      "   True\n",
      "self._img_subdir_name_inv_dict\n",
      "   True\n",
      "self._num_imgs\n",
      "   True\n",
      "self._img_filename_codes_arr\n",
      "   True\n",
      "self._img_bbox_codes_arr\n",
      "   True\n",
      "self._img_cat_codes_arr\n",
      "   True\n",
      "-- PICKLE STATUS END --\n"
     ]
    }
   ],
   "source": [
    "capbm_dataset._is_pickable()"
   ]
  },
  {
   "cell_type": "code",
   "execution_count": 8,
   "metadata": {},
   "outputs": [
    {
     "name": "stdout",
     "output_type": "stream",
     "text": [
      "Memory overhead:    5.517 MiB\n",
      "Data points:       289222\n",
      "  Train:           209222\n",
      "    Val:            40000\n",
      "   Test:            40000\n"
     ]
    }
   ],
   "source": [
    "print(\"Memory overhead:  {:s}\".format(utils.mem.sprint_fancy_num_bytes(capbm_dataset._num_bytes())))\n",
    "print(\"Data points:     {:8d}\".format(len(capbm_dataset)))\n",
    "print(\"  Train:         {:8d}\".format(len(capbm_dataset.get_subset_indices(\"train\"))))\n",
    "print(\"    Val:         {:8d}\".format(len(capbm_dataset.get_subset_indices(\"val\"))))\n",
    "print(\"   Test:         {:8d}\".format(len(capbm_dataset.get_subset_indices(\"test\"))))"
   ]
  },
  {
   "cell_type": "code",
   "execution_count": 9,
   "metadata": {},
   "outputs": [
    {
     "name": "stdout",
     "output_type": "stream",
     "text": [
      "torch.Size([3, 300, 300]) torch.float32\n",
      "<class 'int'>\n"
     ]
    }
   ],
   "source": [
    "for el in capbm_dataset[0]:\n",
    "    if type(el) == torch.Tensor: print(el.shape, el.dtype)\n",
    "    else: print(type(el))"
   ]
  },
  {
   "cell_type": "code",
   "execution_count": 10,
   "metadata": {},
   "outputs": [
    {
     "name": "stdout",
     "output_type": "stream",
     "text": [
      "type(batch) <class 'list'>\n",
      "type(batch[0]) <class 'torch.Tensor'>\n",
      "batch[0].size() torch.Size([32, 3, 300, 300])\n",
      "type(batch[1]) <class 'torch.Tensor'>\n",
      "batch[1].size() torch.Size([32])\n"
     ]
    }
   ],
   "source": [
    "for batch in capbm_train_loader:\n",
    "\n",
    "    print(\"type(batch)\", type(batch))\n",
    "    for idx, el in enumerate(batch):\n",
    "        print(\"type(batch[{:d}])\".format(idx), type(batch[idx]))\n",
    "        print(\"batch[{:d}].size()\".format(idx), batch[idx].size())\n",
    "\n",
    "    break"
   ]
  },
  {
   "cell_type": "code",
   "execution_count": 11,
   "metadata": {},
   "outputs": [
    {
     "data": {
      "application/vnd.jupyter.widget-view+json": {
       "model_id": "dba3d0f2b7844fa4814aa33a5034dbb1",
       "version_major": 2,
       "version_minor": 0
      },
      "text/plain": [
       "  0%|          | 0/6539 [00:00<?, ?it/s]"
      ]
     },
     "metadata": {},
     "output_type": "display_data"
    }
   ],
   "source": [
    "for batch in tqdm(capbm_train_loader):\n",
    "    pass"
   ]
  },
  {
   "cell_type": "code",
   "execution_count": null,
   "metadata": {},
   "outputs": [],
   "source": []
  }
 ],
 "metadata": {
  "kernelspec": {
   "display_name": ".venv",
   "language": "python",
   "name": "python3"
  },
  "language_info": {
   "codemirror_mode": {
    "name": "ipython",
    "version": 3
   },
   "file_extension": ".py",
   "mimetype": "text/x-python",
   "name": "python",
   "nbconvert_exporter": "python",
   "pygments_lexer": "ipython3",
   "version": "3.8.10"
  },
  "orig_nbformat": 4,
  "vscode": {
   "interpreter": {
    "hash": "649142fb4cdab8a2d2387ea4a1c8e262f08b2b20e4af0e114d36ea602bf8b868"
   }
  }
 },
 "nbformat": 4,
 "nbformat_minor": 2
}
