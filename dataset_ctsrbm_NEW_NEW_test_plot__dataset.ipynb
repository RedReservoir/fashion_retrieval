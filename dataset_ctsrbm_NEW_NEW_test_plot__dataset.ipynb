{
 "cells": [
  {
   "cell_type": "code",
   "execution_count": null,
   "metadata": {},
   "outputs": [],
   "source": [
    "import os\n",
    "import pathlib\n",
    "from datasets import deep_fashion_ctsrbm\n",
    "\n",
    "import numpy as np\n",
    "import pandas as pd\n",
    "\n",
    "import matplotlib as mpl\n",
    "import matplotlib.pyplot as plt\n",
    "%matplotlib inline\n",
    "\n",
    "from torch.utils.data import DataLoader\n",
    "import torchvision.io\n",
    "from torchvision.transforms import Resize, Lambda, Compose\n",
    "\n",
    "import torch\n",
    "\n",
    "from tqdm.notebook import trange, tqdm"
   ]
  },
  {
   "attachments": {},
   "cell_type": "markdown",
   "metadata": {},
   "source": [
    "---"
   ]
  },
  {
   "cell_type": "code",
   "execution_count": null,
   "metadata": {},
   "outputs": [],
   "source": [
    "ctsrbm_image_transform = Resize(size=(128, 128), antialias=True)\n",
    "ctsrbm_dataset_dir = os.path.join(pathlib.Path.home(), \"data\", \"DeepFashion\", \"Consumer-to-shop Clothes Retrieval Benchmark\")\n",
    "ctsrbm_dataset = deep_fashion_ctsrbm.ConsToShopClothRetrBmkDataset(ctsrbm_dataset_dir, img_transform=ctsrbm_image_transform, neg_img_filename_list_id=\"dummy_good\")"
   ]
  },
  {
   "cell_type": "code",
   "execution_count": null,
   "metadata": {},
   "outputs": [],
   "source": [
    "def show_data_ConsToShopClothRetrBmkDataset(image_1, image_2, image_3):\n",
    "\n",
    "    fig, axs = plt.subplots(ncols=3)\n",
    "\n",
    "    axs[0].imshow(image_1.permute(1, 2, 0))\n",
    "    axs[1].imshow(image_2.permute(1, 2, 0))\n",
    "    axs[2].imshow(image_3.permute(1, 2, 0))\n",
    "\n",
    "    plt.show()"
   ]
  },
  {
   "cell_type": "code",
   "execution_count": null,
   "metadata": {},
   "outputs": [],
   "source": [
    "for idx in range(30):\n",
    "    image_1, image_2, image_3 = ctsrbm_dataset[idx]\n",
    "    show_data_ConsToShopClothRetrBmkDataset(image_1, image_2, image_3)"
   ]
  },
  {
   "cell_type": "code",
   "execution_count": null,
   "metadata": {},
   "outputs": [],
   "source": []
  }
 ],
 "metadata": {
  "kernelspec": {
   "display_name": ".venv",
   "language": "python",
   "name": "python3"
  },
  "language_info": {
   "codemirror_mode": {
    "name": "ipython",
    "version": 3
   },
   "file_extension": ".py",
   "mimetype": "text/x-python",
   "name": "python",
   "nbconvert_exporter": "python",
   "pygments_lexer": "ipython3",
   "version": "3.8.10"
  },
  "orig_nbformat": 4,
  "vscode": {
   "interpreter": {
    "hash": "649142fb4cdab8a2d2387ea4a1c8e262f08b2b20e4af0e114d36ea602bf8b868"
   }
  }
 },
 "nbformat": 4,
 "nbformat_minor": 2
}
