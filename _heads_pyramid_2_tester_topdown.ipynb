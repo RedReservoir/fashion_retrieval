{
 "cells": [
  {
   "cell_type": "code",
   "execution_count": 1,
   "metadata": {},
   "outputs": [],
   "source": [
    "import torch\n",
    "import torchvision\n",
    "\n",
    "from torchsummary import summary\n",
    "\n",
    "#\n",
    "\n",
    "import src.utils.tensor\n",
    "import src.comps.heads\n",
    "import src.comps.heads_pyramid_2"
   ]
  },
  {
   "cell_type": "code",
   "execution_count": 2,
   "metadata": {},
   "outputs": [],
   "source": [
    "in_feats = [\n",
    "    torch.rand((1, 96, 112, 112)),\n",
    "    torch.rand((1, 192, 56, 56)),\n",
    "    torch.rand((1, 384, 28, 28)),\n",
    "    torch.rand((1, 768, 14, 14)),\n",
    "    torch.rand((1, 1536, 7, 7))\n",
    "]\n",
    "\n",
    "in_feats = [\n",
    "    torch.rand((1, 96, 56, 56)),\n",
    "    torch.rand((1, 192, 28, 28)),\n",
    "    torch.rand((1, 384, 14, 14)),\n",
    "    torch.rand((1, 768, 7, 7)),\n",
    "]"
   ]
  },
  {
   "attachments": {},
   "cell_type": "markdown",
   "metadata": {},
   "source": [
    "# RetrievalHead"
   ]
  },
  {
   "cell_type": "code",
   "execution_count": 3,
   "metadata": {},
   "outputs": [
    {
     "name": "stdout",
     "output_type": "stream",
     "text": [
      "# of parameters: 786432\n"
     ]
    }
   ],
   "source": [
    "in_feat_shape = tuple(in_feats[-1].shape)[1:]\n",
    "emb_size = 1024\n",
    "\n",
    "head = src.comps.heads.RetHead(\n",
    "    in_feat_shape,\n",
    "    emb_size\n",
    ")\n",
    "\n",
    "total_params = sum(p.numel() for p in head.parameters())\n",
    "print(\"# of parameters: {:d}\".format(total_params))"
   ]
  },
  {
   "cell_type": "code",
   "execution_count": 4,
   "metadata": {},
   "outputs": [
    {
     "name": "stdout",
     "output_type": "stream",
     "text": [
      "shape:  torch.Size([1024])\n",
      "dtype:  torch.float32\n",
      "device:  cpu\n",
      "mem:  4.07 KiB\n"
     ]
    }
   ],
   "source": [
    "output = head(in_feats[-1])\n",
    "\n",
    "src.utils.tensor.print_tensor_info(output)"
   ]
  },
  {
   "attachments": {},
   "cell_type": "markdown",
   "metadata": {},
   "source": [
    "# RetrievalHeadPyramidTopDownInstantSimple"
   ]
  },
  {
   "cell_type": "code",
   "execution_count": 5,
   "metadata": {},
   "outputs": [
    {
     "name": "stdout",
     "output_type": "stream",
     "text": [
      "# of parameters: 1474560\n"
     ]
    }
   ],
   "source": [
    "feat_shapes = [tuple(in_feat.shape)[1:] for in_feat in in_feats]\n",
    "in_feat_idxs = [0, 1, 2, 3]\n",
    "emb_size = 1024\n",
    "\n",
    "head = src.comps.heads_pyramid_2.RetrievalHeadPyramidTopDownInstantSimple(\n",
    "    feat_shapes,\n",
    "    in_feat_idxs,\n",
    "    emb_size\n",
    ")\n",
    "\n",
    "total_params = sum(p.numel() for p in head.parameters())\n",
    "print(\"# of parameters: {:d}\".format(total_params))"
   ]
  },
  {
   "cell_type": "code",
   "execution_count": 6,
   "metadata": {},
   "outputs": [
    {
     "name": "stdout",
     "output_type": "stream",
     "text": [
      "name: new_in_feat\n",
      "shape:  torch.Size([1, 96, 7, 7])\n",
      "dtype:  torch.float32\n",
      "device:  cpu\n",
      "mem:  18.45 KiB\n",
      "\n",
      "name: new_in_feat\n",
      "shape:  torch.Size([1, 192, 7, 7])\n",
      "dtype:  torch.float32\n",
      "device:  cpu\n",
      "mem:  36.82 KiB\n",
      "\n",
      "name: new_in_feat\n",
      "shape:  torch.Size([1, 384, 7, 7])\n",
      "dtype:  torch.float32\n",
      "device:  cpu\n",
      "mem:  73.57 KiB\n",
      "\n",
      "name: new_in_feat\n",
      "shape:  torch.Size([1, 768, 7, 7])\n",
      "dtype:  torch.float32\n",
      "device:  cpu\n",
      "mem:  147.07 KiB\n",
      "\n",
      "name: cat\n",
      "shape:  torch.Size([1, 1440, 7, 7])\n",
      "dtype:  torch.float32\n",
      "device:  cpu\n",
      "mem:  275.70 KiB\n",
      "\n",
      "name: conv1x1\n",
      "shape:  torch.Size([1, 1024, 7, 7])\n",
      "dtype:  torch.float32\n",
      "device:  cpu\n",
      "mem:  196.07 KiB\n",
      "\n",
      "shape:  torch.Size([1024])\n",
      "dtype:  torch.float32\n",
      "device:  cpu\n",
      "mem:  4.07 KiB\n"
     ]
    }
   ],
   "source": [
    "output = head(in_feats)\n",
    "\n",
    "src.utils.tensor.print_tensor_info(output)"
   ]
  },
  {
   "attachments": {},
   "cell_type": "markdown",
   "metadata": {},
   "source": [
    "# RetrievalHeadPyramidTopDownProgressiveSimple"
   ]
  },
  {
   "cell_type": "code",
   "execution_count": 7,
   "metadata": {},
   "outputs": [
    {
     "name": "stdout",
     "output_type": "stream",
     "text": [
      "# of parameters: 2408448\n"
     ]
    }
   ],
   "source": [
    "feat_shapes = [tuple(in_feat.shape)[1:] for in_feat in in_feats]\n",
    "in_feat_idxs = [0, 1, 2, 3]\n",
    "emb_sizes = [512, 768, 1024]\n",
    "\n",
    "head = src.comps.heads_pyramid_2.RetrievalHeadPyramidTopDownProgressiveSimple(\n",
    "    feat_shapes,\n",
    "    in_feat_idxs,\n",
    "    emb_sizes\n",
    ")\n",
    "\n",
    "total_params = sum(p.numel() for p in head.parameters())\n",
    "print(\"# of parameters: {:d}\".format(total_params))"
   ]
  },
  {
   "cell_type": "code",
   "execution_count": 8,
   "metadata": {},
   "outputs": [
    {
     "name": "stdout",
     "output_type": "stream",
     "text": [
      "name: begin\n",
      "shape:  torch.Size([1, 96, 56, 56])\n",
      "dtype:  torch.float32\n",
      "device:  cpu\n",
      "mem:  1.15 MiB\n",
      "\n",
      "name: downscale\n",
      "shape:  torch.Size([1, 96, 28, 28])\n",
      "dtype:  torch.float32\n",
      "device:  cpu\n",
      "mem:  294.07 KiB\n",
      "\n",
      "name: concat\n",
      "shape:  torch.Size([1, 288, 28, 28])\n",
      "dtype:  torch.float32\n",
      "device:  cpu\n",
      "mem:  882.07 KiB\n",
      "\n",
      "name: conv1x1\n",
      "shape:  torch.Size([1, 512, 28, 28])\n",
      "dtype:  torch.float32\n",
      "device:  cpu\n",
      "mem:  1.53 MiB\n",
      "\n",
      "name: downscale\n",
      "shape:  torch.Size([1, 512, 14, 14])\n",
      "dtype:  torch.float32\n",
      "device:  cpu\n",
      "mem:  392.07 KiB\n",
      "\n",
      "name: concat\n",
      "shape:  torch.Size([1, 896, 14, 14])\n",
      "dtype:  torch.float32\n",
      "device:  cpu\n",
      "mem:  686.07 KiB\n",
      "\n",
      "name: conv1x1\n",
      "shape:  torch.Size([1, 768, 14, 14])\n",
      "dtype:  torch.float32\n",
      "device:  cpu\n",
      "mem:  588.07 KiB\n",
      "\n",
      "name: downscale\n",
      "shape:  torch.Size([1, 768, 7, 7])\n",
      "dtype:  torch.float32\n",
      "device:  cpu\n",
      "mem:  147.07 KiB\n",
      "\n",
      "name: concat\n",
      "shape:  torch.Size([1, 1536, 7, 7])\n",
      "dtype:  torch.float32\n",
      "device:  cpu\n",
      "mem:  294.07 KiB\n",
      "\n",
      "name: conv1x1\n",
      "shape:  torch.Size([1, 1024, 7, 7])\n",
      "dtype:  torch.float32\n",
      "device:  cpu\n",
      "mem:  196.07 KiB\n",
      "\n",
      "shape:  torch.Size([1024])\n",
      "dtype:  torch.float32\n",
      "device:  cpu\n",
      "mem:  4.07 KiB\n"
     ]
    }
   ],
   "source": [
    "output = head(in_feats)\n",
    "\n",
    "src.utils.tensor.print_tensor_info(output)"
   ]
  },
  {
   "attachments": {},
   "cell_type": "markdown",
   "metadata": {},
   "source": [
    "# RetrievalHeadPyramidTopDownInstantConv"
   ]
  },
  {
   "cell_type": "code",
   "execution_count": 9,
   "metadata": {},
   "outputs": [
    {
     "name": "stdout",
     "output_type": "stream",
     "text": [
      "# of parameters: 1485120\n"
     ]
    }
   ],
   "source": [
    "feat_shapes = [tuple(in_feat.shape)[1:] for in_feat in in_feats]\n",
    "in_feat_idxs = [0, 1, 2, 3]\n",
    "emb_size = 1024\n",
    "conv_par_perc = 0\n",
    "\n",
    "head = src.comps.heads_pyramid_2.RetrievalHeadPyramidTopDownInstantConv(\n",
    "    feat_shapes,\n",
    "    in_feat_idxs,\n",
    "    emb_size,\n",
    "    conv_par_perc\n",
    ")\n",
    "\n",
    "total_params = sum(p.numel() for p in head.parameters())\n",
    "print(\"# of parameters: {:d}\".format(total_params))"
   ]
  },
  {
   "cell_type": "code",
   "execution_count": 10,
   "metadata": {},
   "outputs": [
    {
     "name": "stdout",
     "output_type": "stream",
     "text": [
      "name: new_in_feat\n",
      "shape:  torch.Size([1, 96, 7, 7])\n",
      "dtype:  torch.float32\n",
      "device:  cpu\n",
      "mem:  18.45 KiB\n",
      "\n",
      "name: new_in_feat\n",
      "shape:  torch.Size([1, 192, 7, 7])\n",
      "dtype:  torch.float32\n",
      "device:  cpu\n",
      "mem:  36.82 KiB\n",
      "\n",
      "name: new_in_feat\n",
      "shape:  torch.Size([1, 384, 7, 7])\n",
      "dtype:  torch.float32\n",
      "device:  cpu\n",
      "mem:  73.57 KiB\n",
      "\n",
      "name: new_in_feat\n",
      "shape:  torch.Size([1, 768, 7, 7])\n",
      "dtype:  torch.float32\n",
      "device:  cpu\n",
      "mem:  147.07 KiB\n",
      "\n",
      "name: cat\n",
      "shape:  torch.Size([1, 1440, 7, 7])\n",
      "dtype:  torch.float32\n",
      "device:  cpu\n",
      "mem:  275.70 KiB\n",
      "\n",
      "name: conv1x1\n",
      "shape:  torch.Size([1, 1024, 7, 7])\n",
      "dtype:  torch.float32\n",
      "device:  cpu\n",
      "mem:  196.07 KiB\n",
      "\n",
      "shape:  torch.Size([1024])\n",
      "dtype:  torch.float32\n",
      "device:  cpu\n",
      "mem:  4.07 KiB\n"
     ]
    }
   ],
   "source": [
    "output = head(in_feats)\n",
    "\n",
    "src.utils.tensor.print_tensor_info(output)"
   ]
  },
  {
   "attachments": {},
   "cell_type": "markdown",
   "metadata": {},
   "source": [
    "# RetrievalHeadPyramidTopDownProgressiveConv"
   ]
  },
  {
   "cell_type": "code",
   "execution_count": 13,
   "metadata": {},
   "outputs": [
    {
     "name": "stdout",
     "output_type": "stream",
     "text": [
      "# of parameters: 1624276\n"
     ]
    }
   ],
   "source": [
    "feat_shapes = [tuple(in_feat.shape)[1:] for in_feat in in_feats]\n",
    "in_feat_idxs = [0, 1, 2, 3]\n",
    "emb_size = [205, 478, 1024]\n",
    "conv_par_perc = 0\n",
    "\n",
    "head = src.comps.heads_pyramid_2.RetrievalHeadPyramidTopDownProgressiveConv(\n",
    "    feat_shapes,\n",
    "    in_feat_idxs,\n",
    "    emb_size,\n",
    "    conv_par_perc\n",
    ")\n",
    "\n",
    "total_params = sum(p.numel() for p in head.parameters())\n",
    "print(\"# of parameters: {:d}\".format(total_params))"
   ]
  },
  {
   "cell_type": "code",
   "execution_count": 14,
   "metadata": {},
   "outputs": [
    {
     "name": "stdout",
     "output_type": "stream",
     "text": [
      "name: begin\n",
      "shape:  torch.Size([1, 96, 56, 56])\n",
      "dtype:  torch.float32\n",
      "device:  cpu\n",
      "mem:  1.15 MiB\n",
      "\n",
      "name: downscale\n",
      "shape:  torch.Size([1, 96, 28, 28])\n",
      "dtype:  torch.float32\n",
      "device:  cpu\n",
      "mem:  294.07 KiB\n",
      "\n",
      "name: concat\n",
      "shape:  torch.Size([1, 288, 28, 28])\n",
      "dtype:  torch.float32\n",
      "device:  cpu\n",
      "mem:  882.07 KiB\n",
      "\n",
      "name: conv1x1\n",
      "shape:  torch.Size([1, 205, 28, 28])\n",
      "dtype:  torch.float32\n",
      "device:  cpu\n",
      "mem:  627.88 KiB\n",
      "\n",
      "name: downscale\n",
      "shape:  torch.Size([1, 205, 14, 14])\n",
      "dtype:  torch.float32\n",
      "device:  cpu\n",
      "mem:  157.02 KiB\n",
      "\n",
      "name: concat\n",
      "shape:  torch.Size([1, 589, 14, 14])\n",
      "dtype:  torch.float32\n",
      "device:  cpu\n",
      "mem:  451.02 KiB\n",
      "\n",
      "name: conv1x1\n",
      "shape:  torch.Size([1, 478, 14, 14])\n",
      "dtype:  torch.float32\n",
      "device:  cpu\n",
      "mem:  366.04 KiB\n",
      "\n",
      "name: downscale\n",
      "shape:  torch.Size([1, 478, 7, 7])\n",
      "dtype:  torch.float32\n",
      "device:  cpu\n",
      "mem:  91.56 KiB\n",
      "\n",
      "name: concat\n",
      "shape:  torch.Size([1, 1246, 7, 7])\n",
      "dtype:  torch.float32\n",
      "device:  cpu\n",
      "mem:  238.56 KiB\n",
      "\n",
      "name: conv1x1\n",
      "shape:  torch.Size([1, 1024, 7, 7])\n",
      "dtype:  torch.float32\n",
      "device:  cpu\n",
      "mem:  196.07 KiB\n",
      "\n",
      "shape:  torch.Size([1024])\n",
      "dtype:  torch.float32\n",
      "device:  cpu\n",
      "mem:  4.07 KiB\n"
     ]
    }
   ],
   "source": [
    "output = head(in_feats)\n",
    "\n",
    "src.utils.tensor.print_tensor_info(output)"
   ]
  }
 ],
 "metadata": {
  "kernelspec": {
   "display_name": ".venv",
   "language": "python",
   "name": "python3"
  },
  "language_info": {
   "codemirror_mode": {
    "name": "ipython",
    "version": 3
   },
   "file_extension": ".py",
   "mimetype": "text/x-python",
   "name": "python",
   "nbconvert_exporter": "python",
   "pygments_lexer": "ipython3",
   "version": "3.8.10"
  },
  "orig_nbformat": 4,
  "vscode": {
   "interpreter": {
    "hash": "649142fb4cdab8a2d2387ea4a1c8e262f08b2b20e4af0e114d36ea602bf8b868"
   }
  }
 },
 "nbformat": 4,
 "nbformat_minor": 2
}
