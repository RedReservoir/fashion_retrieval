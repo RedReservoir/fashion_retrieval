{
 "cells": [
  {
   "cell_type": "code",
   "execution_count": 1,
   "metadata": {},
   "outputs": [],
   "source": [
    "import os\n",
    "\n",
    "import torch\n",
    "\n",
    "import global_local_attention_module_pytorch"
   ]
  },
  {
   "cell_type": "code",
   "execution_count": 2,
   "metadata": {},
   "outputs": [],
   "source": [
    "# Prepare GPU\n",
    "\n",
    "device_idx = 9\n",
    "\n",
    "os.environ[\"CUDA_DEVICE_ORDER\"] = \"PCI_BUS_ID\"\n",
    "device = torch.device(device_idx)\n",
    "\n",
    "torch.cuda.empty_cache()"
   ]
  },
  {
   "cell_type": "code",
   "execution_count": 3,
   "metadata": {},
   "outputs": [],
   "source": [
    "# Prepare components\n",
    "\n",
    "feature_size = (96, 56, 56)\n",
    "reduced_channel_ratio = 2\n",
    "channel_attention_kernel_size = 3\n",
    "\n",
    "glam_module = global_local_attention_module_pytorch.GLAM(\n",
    "    in_channels=feature_size[0],\n",
    "    feature_map_size=feature_size[1],\n",
    "    num_reduced_channels=feature_size[0] // reduced_channel_ratio,\n",
    "    kernel_size=channel_attention_kernel_size\n",
    ")\n",
    "\n",
    "glam_module = glam_module.to(device)"
   ]
  },
  {
   "cell_type": "code",
   "execution_count": 4,
   "metadata": {},
   "outputs": [],
   "source": [
    "input_tensor = torch.rand(4, 96, 56, 56).to(device)\n",
    "output_tensor = glam_module(input_tensor)"
   ]
  },
  {
   "cell_type": "code",
   "execution_count": 5,
   "metadata": {},
   "outputs": [],
   "source": [
    "loss_fn = torch.nn.L1Loss()\n",
    "loss = loss_fn(input_tensor, output_tensor)\n",
    "loss.backward()"
   ]
  },
  {
   "cell_type": "code",
   "execution_count": 6,
   "metadata": {},
   "outputs": [
    {
     "name": "stdout",
     "output_type": "stream",
     "text": [
      "Name: fusion_weights\n",
      "Grad: 1\n",
      "\n",
      "Name: local_channel_att.conv.weight\n",
      "Grad: 1\n",
      "\n",
      "Name: local_channel_att.conv.bias\n",
      "Grad: 1\n",
      "\n",
      "Name: local_spatial_att.conv1x1_1.weight\n",
      "Grad: 1\n",
      "\n",
      "Name: local_spatial_att.conv1x1_1.bias\n",
      "Grad: 1\n",
      "\n",
      "Name: local_spatial_att.conv1x1_2.weight\n",
      "Grad: 1\n",
      "\n",
      "Name: local_spatial_att.conv1x1_2.bias\n",
      "Grad: 1\n",
      "\n",
      "Name: local_spatial_att.dilated_conv3x3.weight\n",
      "Grad: 1\n",
      "\n",
      "Name: local_spatial_att.dilated_conv3x3.bias\n",
      "Grad: 1\n",
      "\n",
      "Name: local_spatial_att.dilated_conv5x5.weight\n",
      "Grad: 1\n",
      "\n",
      "Name: local_spatial_att.dilated_conv5x5.bias\n",
      "Grad: 1\n",
      "\n",
      "Name: local_spatial_att.dilated_conv7x7.weight\n",
      "Grad: 1\n",
      "\n",
      "Name: local_spatial_att.dilated_conv7x7.bias\n",
      "Grad: 1\n",
      "\n",
      "Name: global_channel_att.conv_q.weight\n",
      "Grad: 1\n",
      "\n",
      "Name: global_channel_att.conv_q.bias\n",
      "Grad: 1\n",
      "\n",
      "Name: global_spatial_att.conv1x1_q.weight\n",
      "Grad: 1\n",
      "\n",
      "Name: global_spatial_att.conv1x1_q.bias\n",
      "Grad: 1\n",
      "\n",
      "Name: global_spatial_att.conv1x1_k.weight\n",
      "Grad: 1\n",
      "\n",
      "Name: global_spatial_att.conv1x1_k.bias\n",
      "Grad: 1\n",
      "\n",
      "Name: global_spatial_att.conv1x1_v.weight\n",
      "Grad: 1\n",
      "\n",
      "Name: global_spatial_att.conv1x1_v.bias\n",
      "Grad: 1\n",
      "\n",
      "Name: global_spatial_att.conv1x1_att.weight\n",
      "Grad: 1\n",
      "\n",
      "Name: global_spatial_att.conv1x1_att.bias\n",
      "Grad: 1\n",
      "\n"
     ]
    }
   ],
   "source": [
    "for name, params in glam_module.named_parameters():\n",
    "    print(\"Name: {:s}\".format(name))\n",
    "    print(\"Grad: {:b}\".format(params.grad is not None))\n",
    "    print()"
   ]
  },
  {
   "cell_type": "code",
   "execution_count": null,
   "metadata": {},
   "outputs": [],
   "source": []
  }
 ],
 "metadata": {
  "kernelspec": {
   "display_name": ".venv",
   "language": "python",
   "name": "python3"
  },
  "language_info": {
   "codemirror_mode": {
    "name": "ipython",
    "version": 3
   },
   "file_extension": ".py",
   "mimetype": "text/x-python",
   "name": "python",
   "nbconvert_exporter": "python",
   "pygments_lexer": "ipython3",
   "version": "3.8.10"
  },
  "orig_nbformat": 4,
  "vscode": {
   "interpreter": {
    "hash": "c1d9cd8eb66510c5ec86eb907d6561b8001175da1689fbe0f45c40d854d32b14"
   }
  }
 },
 "nbformat": 4,
 "nbformat_minor": 2
}
