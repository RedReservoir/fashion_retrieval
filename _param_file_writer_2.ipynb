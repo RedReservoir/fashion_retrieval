{
 "cells": [
  {
   "cell_type": "code",
   "execution_count": 4,
   "metadata": {},
   "outputs": [],
   "source": [
    "import os\n",
    "import pathlib\n",
    "import pprint\n",
    "import json\n",
    "import itertools\n",
    "import shutil"
   ]
  },
  {
   "cell_type": "code",
   "execution_count": 5,
   "metadata": {},
   "outputs": [],
   "source": [
    "def save_json_dict(\n",
    "        json_filename,\n",
    "        json_dict\n",
    "        ):\n",
    "\n",
    "    with open(json_filename, 'w') as json_file:\n",
    "        json.dump(json_dict, json_file, indent=4)\n",
    "\n",
    "\n",
    "def load_json_dict(\n",
    "        json_filename\n",
    "        ):\n",
    "\n",
    "    with open(json_filename, 'r') as json_file:\n",
    "        json_dict = json.load(json_file)\n",
    "\n",
    "    return json_dict"
   ]
  },
  {
   "attachments": {},
   "cell_type": "markdown",
   "metadata": {},
   "source": [
    "---"
   ]
  },
  {
   "attachments": {},
   "cell_type": "markdown",
   "metadata": {},
   "source": [
    "# Stage 1 EfficientNet V2 Small"
   ]
  },
  {
   "cell_type": "code",
   "execution_count": 13,
   "metadata": {},
   "outputs": [],
   "source": [
    "batch_size_list = [8, 16, 32]\n",
    "grad_acc_iters_list = [1, 1, 1]\n",
    "\n",
    "learning_rate_list = [1e-1, 3e-2, 1e-2, 3e-3, 1e-3]\n",
    "\n",
    "#\n",
    "\n",
    "params_dir = os.path.join(pathlib.Path.home(), \"fashion_retrieval\", \"params\", \"ret_train_DDP_2\", \"efficientnet_v2_s\")\n",
    "\n",
    "if os.path.exists(params_dir):\n",
    "    shutil.rmtree(params_dir)\n",
    "os.mkdir(params_dir)\n",
    "\n",
    "#\n",
    "\n",
    "for exp_idx, ((batch_size, grad_acc_iters), learning_rate) in\\\n",
    "    enumerate(itertools.product(zip(batch_size_list, grad_acc_iters_list), learning_rate_list)):\n",
    "\n",
    "    template_params_filename = os.path.join(pathlib.Path.home(), \"fashion_retrieval\", \"params\", \"templates\", \"train_ret_DDP_stage_1.json\")\n",
    "    params = load_json_dict(template_params_filename)\n",
    "\n",
    "    #\n",
    "\n",
    "    params[\"experiment_name\"] = os.path.join(\"ret_train_DDP_2\", \"efficientnet_v2_s\", \"run_{:03d}\".format(exp_idx))\n",
    "    \n",
    "    params[\"settings\"][\"device_idxs\"] = [0, 1, 2, 3]\n",
    "    \n",
    "    params[\"settings\"][\"backbone\"][\"class\"] = \"EfficientNetV2SmallBackbone\"\n",
    "    params[\"settings\"][\"backbone\"][\"img_size\"] = 224\n",
    "    \n",
    "    params[\"settings\"][\"data_loading\"][\"cutdown_ratio\"] = 1\n",
    "\n",
    "    params[\"settings\"][\"stage_1\"][\"optimizer\"][\"lr\"] = learning_rate\n",
    "\n",
    "    params[\"settings\"][\"stage_1\"][\"data_loading\"][\"batch_size\"] = batch_size\n",
    "    params[\"settings\"][\"stage_1\"][\"data_loading\"][\"grad_acc_iters\"] = grad_acc_iters\n",
    "    params[\"settings\"][\"stage_1\"][\"data_loading\"][\"train_random_seed\"] = 42\n",
    "    params[\"settings\"][\"stage_1\"][\"data_loading\"][\"num_workers\"] = 4\n",
    "    \n",
    "    params[\"settings\"][\"stage_1\"][\"autocast\"] = {\"enabled\": False}\n",
    "    params[\"settings\"][\"stage_1\"][\"data_gradual_inc\"] = {\"enabled\": False}\n",
    "\n",
    "    #\n",
    "\n",
    "    dest_params_filename = os.path.join(params_dir, \"run_{:03d}__train_ret_DDP_stage_1.json\".format(exp_idx))\n",
    "    save_json_dict(dest_params_filename, params)"
   ]
  },
  {
   "cell_type": "code",
   "execution_count": 4,
   "metadata": {},
   "outputs": [],
   "source": [
    "exec_filename = \"run__efficientnet_v2_s__107-0123.sh\"\n",
    "exec_file = open(exec_filename, \"w\")\n",
    "\n",
    "out_filename = \"out__efficientnet_v2_s__107-0123.txt\"\n",
    "\n",
    "for exp_idx, ((batch_size, grad_acc_iters), learning_rate) in\\\n",
    "    enumerate(itertools.product(zip(batch_size_list, grad_acc_iters_list), learning_rate_list)):\n",
    "\n",
    "    print(\"echo \\\"Running experiment {:s} {:03d}\\\"\".format(\"efficientnet_v2_s\", exp_idx), file=exec_file)\n",
    "    print(\"python train_ret_DDP_stage_1.py {:s} --master_port 12355 --reset_experiment --terminal_silent\".format(\n",
    "        os.path.join(\"params\", \"ret_train_DDP_2\", \"efficientnet_v2_s\", \"run_{:03d}__train_ret_DDP_stage_1.json\".format(exp_idx))\n",
    "    ), file=exec_file)\n",
    "    print(\"echo \\\"Finished experiment {:s} {:03d}\\\"\".format(\"efficientnet_v2_s\", exp_idx), file=exec_file)\n",
    "\n",
    "exec_file.close()"
   ]
  },
  {
   "attachments": {},
   "cell_type": "markdown",
   "metadata": {},
   "source": [
    "# Stage 1 Swin Transformer V2 Tiny"
   ]
  },
  {
   "cell_type": "code",
   "execution_count": 14,
   "metadata": {},
   "outputs": [],
   "source": [
    "batch_size_list = [8, 16, 32]\n",
    "grad_acc_iters_list = [1, 1, 1]\n",
    "\n",
    "learning_rate_list = [1e-1, 3e-2, 1e-2, 3e-3, 1e-3]\n",
    "\n",
    "#\n",
    "\n",
    "params_dir = os.path.join(pathlib.Path.home(), \"fashion_retrieval\", \"params\", \"ret_train_DDP_2\", \"swint_v2_t\")\n",
    "\n",
    "if os.path.exists(params_dir):\n",
    "    shutil.rmtree(params_dir)\n",
    "os.mkdir(params_dir)\n",
    "\n",
    "#\n",
    "\n",
    "for exp_idx, ((batch_size, grad_acc_iters), learning_rate) in\\\n",
    "    enumerate(itertools.product(zip(batch_size_list, grad_acc_iters_list), learning_rate_list)):\n",
    "\n",
    "    template_params_filename = os.path.join(pathlib.Path.home(), \"fashion_retrieval\", \"params\", \"templates\", \"train_ret_DDP_stage_1.json\")\n",
    "    params = load_json_dict(template_params_filename)\n",
    "\n",
    "    #\n",
    "\n",
    "    params[\"experiment_name\"] = os.path.join(\"ret_train_DDP_2\", \"swint_v2_t\", \"run_{:03d}\".format(exp_idx))\n",
    "    \n",
    "    params[\"settings\"][\"device_idxs\"] = [0, 1, 2, 3]\n",
    "    \n",
    "    params[\"settings\"][\"backbone\"][\"class\"] = \"SwinTransformerV2TinyBackbone\"\n",
    "    params[\"settings\"][\"backbone\"][\"img_size\"] = 256\n",
    "    \n",
    "    params[\"settings\"][\"data_loading\"][\"cutdown_ratio\"] = 1\n",
    "\n",
    "    params[\"settings\"][\"stage_1\"][\"optimizer\"][\"lr\"] = learning_rate\n",
    "\n",
    "    params[\"settings\"][\"stage_1\"][\"data_loading\"][\"batch_size\"] = batch_size\n",
    "    params[\"settings\"][\"stage_1\"][\"data_loading\"][\"grad_acc_iters\"] = grad_acc_iters\n",
    "    params[\"settings\"][\"stage_1\"][\"data_loading\"][\"train_random_seed\"] = 42\n",
    "    params[\"settings\"][\"stage_1\"][\"data_loading\"][\"num_workers\"] = 4\n",
    "    \n",
    "    params[\"settings\"][\"stage_1\"][\"autocast\"] = {\"enabled\": False}\n",
    "    params[\"settings\"][\"stage_1\"][\"data_gradual_inc\"] = {\"enabled\": False}\n",
    "\n",
    "    #\n",
    "\n",
    "    dest_params_filename = os.path.join(params_dir, \"run_{:03d}__train_ret_DDP_stage_1.json\".format(exp_idx))\n",
    "    save_json_dict(dest_params_filename, params)"
   ]
  },
  {
   "cell_type": "code",
   "execution_count": 6,
   "metadata": {},
   "outputs": [],
   "source": [
    "exec_filename = \"run__swint_v2_t__108-0123.sh\"\n",
    "exec_file = open(exec_filename, \"w\")\n",
    "\n",
    "out_filename = \"out__swint_v2_t__108-0123.txt\"\n",
    "\n",
    "for exp_idx, ((batch_size, grad_acc_iters), learning_rate) in\\\n",
    "    enumerate(itertools.product(zip(batch_size_list, grad_acc_iters_list), learning_rate_list)):\n",
    "\n",
    "    print(\"echo \\\"Running experiment {:s} {:03d}\\\"\".format(\"swint_v2_t\", exp_idx), file=exec_file)\n",
    "    print(\"python train_ret_DDP_stage_1.py {:s} --master_port 12356 --reset_experiment --terminal_silent\".format(\n",
    "        os.path.join(\"params\", \"ret_train_DDP_2\", \"swint_v2_t\", \"run_{:03d}__train_ret_DDP_stage_1.json\".format(exp_idx))\n",
    "    ), file=exec_file)\n",
    "    print(\"echo \\\"Finished experiment {:s} {:03d}\\\"\".format(\"swint_v2_t\", exp_idx), file=exec_file)\n",
    "\n",
    "exec_file.close()"
   ]
  },
  {
   "attachments": {},
   "cell_type": "markdown",
   "metadata": {},
   "source": [
    "---"
   ]
  },
  {
   "cell_type": "code",
   "execution_count": null,
   "metadata": {},
   "outputs": [],
   "source": []
  }
 ],
 "metadata": {
  "kernelspec": {
   "display_name": "Python 3",
   "language": "python",
   "name": "python3"
  },
  "language_info": {
   "codemirror_mode": {
    "name": "ipython",
    "version": 3
   },
   "file_extension": ".py",
   "mimetype": "text/x-python",
   "name": "python",
   "nbconvert_exporter": "python",
   "pygments_lexer": "ipython3",
   "version": "3.8.10"
  },
  "orig_nbformat": 4,
  "vscode": {
   "interpreter": {
    "hash": "916dbcbb3f70747c44a77c7bcd40155683ae19c65e1c03b4aa3499c5328201f1"
   }
  }
 },
 "nbformat": 4,
 "nbformat_minor": 2
}
