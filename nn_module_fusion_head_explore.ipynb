{
 "cells": [
  {
   "cell_type": "code",
   "execution_count": 6,
   "metadata": {},
   "outputs": [],
   "source": [
    "import torch\n",
    "import torchvision\n",
    "\n",
    "import os\n",
    "import pathlib\n",
    "import itertools\n",
    "\n",
    "from tqdm import tqdm\n",
    "\n",
    "from torchsummary import summary\n",
    "\n",
    "import global_local_attention_module_pytorch\n",
    "\n",
    "import src.utils.module\n",
    "import src.utils.comps\n",
    "\n",
    "import src.comps.heads_pyramid_2"
   ]
  },
  {
   "cell_type": "code",
   "execution_count": 7,
   "metadata": {},
   "outputs": [
    {
     "name": "stdout",
     "output_type": "stream",
     "text": [
      "1474560\n",
      "2073600\n"
     ]
    }
   ],
   "source": [
    "feature_sizes = [\n",
    "    (96, 56, 56),\n",
    "    (192, 28, 28),\n",
    "    (384, 14, 14),\n",
    "    (768, 7, 7)\n",
    "]\n",
    "\n",
    "head = src.comps.heads_pyramid_2.RetrievalHeadPyramidBottomUpInstantSimple(\n",
    "    feature_sizes,\n",
    "    [0, 1, 2, 3],\n",
    "    1024\n",
    ")\n",
    "\n",
    "print(src.utils.module.get_num_params(head))\n",
    "\n",
    "head = src.comps.heads_pyramid_2.RetrievalHeadPyramidBottomUpInstantSimple(\n",
    "    feature_sizes,\n",
    "    [0, 1, 2, 3],\n",
    "    1440\n",
    ")\n",
    "\n",
    "print(src.utils.module.get_num_params(head))\n"
   ]
  },
  {
   "cell_type": "code",
   "execution_count": 8,
   "metadata": {},
   "outputs": [
    {
     "name": "stdout",
     "output_type": "stream",
     "text": [
      "1474560\n",
      "2073600\n"
     ]
    }
   ],
   "source": [
    "feature_sizes = [\n",
    "    (96, 56, 56),\n",
    "    (192, 28, 28),\n",
    "    (384, 14, 14),\n",
    "    (768, 7, 7)\n",
    "]\n",
    "\n",
    "head = src.comps.heads_pyramid_2.RetrievalHeadPyramidTopDownInstantSimple(\n",
    "    feature_sizes,\n",
    "    [0, 1, 2, 3],\n",
    "    1024\n",
    ")\n",
    "\n",
    "print(src.utils.module.get_num_params(head))\n",
    "\n",
    "head = src.comps.heads_pyramid_2.RetrievalHeadPyramidTopDownInstantSimple(\n",
    "    feature_sizes,\n",
    "    [0, 1, 2, 3],\n",
    "    1440\n",
    ")\n",
    "\n",
    "print(src.utils.module.get_num_params(head))"
   ]
  }
 ],
 "metadata": {
  "kernelspec": {
   "display_name": ".venv",
   "language": "python",
   "name": "python3"
  },
  "language_info": {
   "codemirror_mode": {
    "name": "ipython",
    "version": 3
   },
   "file_extension": ".py",
   "mimetype": "text/x-python",
   "name": "python",
   "nbconvert_exporter": "python",
   "pygments_lexer": "ipython3",
   "version": "3.8.10"
  },
  "orig_nbformat": 4,
  "vscode": {
   "interpreter": {
    "hash": "649142fb4cdab8a2d2387ea4a1c8e262f08b2b20e4af0e114d36ea602bf8b868"
   }
  }
 },
 "nbformat": 4,
 "nbformat_minor": 2
}
