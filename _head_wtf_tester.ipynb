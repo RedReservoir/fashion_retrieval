{
 "cells": [
  {
   "cell_type": "code",
   "execution_count": 1,
   "metadata": {},
   "outputs": [],
   "source": [
    "import torch\n",
    "import torchvision\n",
    "\n",
    "from torchsummary import summary\n",
    "\n",
    "from src.comps.heads import RetHead\n",
    "from src.comps.heads_pyramid import RetrievalPyramidHead"
   ]
  },
  {
   "cell_type": "code",
   "execution_count": 2,
   "metadata": {},
   "outputs": [],
   "source": [
    "feat_shapes = [\n",
    "    (96, 56, 56),\n",
    "    (192, 28, 28),\n",
    "    (384, 14, 14),\n",
    "    (768, 7, 7)\n",
    "]\n",
    "\n",
    "ret_head = RetHead(feat_shapes[-1], 1024)\n",
    "ret_pyr_head = RetrievalPyramidHead([3], feat_shapes, 1024)"
   ]
  },
  {
   "cell_type": "code",
   "execution_count": 3,
   "metadata": {},
   "outputs": [
    {
     "name": "stdout",
     "output_type": "stream",
     "text": [
      "----------------------------------------------------------------\n",
      "        Layer (type)               Output Shape         Param #\n",
      "================================================================\n",
      "            Conv2d-1           [-1, 1024, 7, 7]         786,432\n",
      " AdaptiveAvgPool2d-2           [-1, 1024, 1, 1]               0\n",
      "================================================================\n",
      "Total params: 786,432\n",
      "Trainable params: 786,432\n",
      "Non-trainable params: 0\n",
      "----------------------------------------------------------------\n",
      "Input size (MB): 0.14\n",
      "Forward/backward pass size (MB): 0.39\n",
      "Params size (MB): 3.00\n",
      "Estimated Total Size (MB): 3.53\n",
      "----------------------------------------------------------------\n"
     ]
    }
   ],
   "source": [
    "summary(ret_head, input_size=(768, 7, 7), device=\"cpu\")"
   ]
  },
  {
   "cell_type": "code",
   "execution_count": 4,
   "metadata": {},
   "outputs": [
    {
     "name": "stdout",
     "output_type": "stream",
     "text": [
      "----------------------------------------------------------------\n",
      "        Layer (type)               Output Shape         Param #\n",
      "================================================================\n",
      "          Upsample-1            [-1, 768, 7, 7]               0\n",
      "            Conv2d-2           [-1, 1024, 7, 7]         786,432\n",
      " AdaptiveAvgPool2d-3           [-1, 1024, 1, 1]               0\n",
      "================================================================\n",
      "Total params: 786,432\n",
      "Trainable params: 786,432\n",
      "Non-trainable params: 0\n",
      "----------------------------------------------------------------\n",
      "Input size (MB): 2949819400192.00\n",
      "Forward/backward pass size (MB): 0.68\n",
      "Params size (MB): 3.00\n",
      "Estimated Total Size (MB): 2949819400195.68\n",
      "----------------------------------------------------------------\n"
     ]
    }
   ],
   "source": [
    "summary(ret_pyr_head, input_size=feat_shapes, device=\"cpu\")"
   ]
  },
  {
   "cell_type": "code",
   "execution_count": 7,
   "metadata": {},
   "outputs": [],
   "source": [
    "t_in = torch.rand(768, 7, 7)\n",
    "\n",
    "upsample_layer = torch.nn.Upsample(size=(7, 7), mode=\"nearest\")\n",
    "\n",
    "t_out = upsample_layer(t_in[None, :])[0]"
   ]
  },
  {
   "cell_type": "code",
   "execution_count": 8,
   "metadata": {},
   "outputs": [
    {
     "data": {
      "text/plain": [
       "torch.Size([768, 7, 7])"
      ]
     },
     "execution_count": 8,
     "metadata": {},
     "output_type": "execute_result"
    }
   ],
   "source": [
    "t_in.shape"
   ]
  },
  {
   "cell_type": "code",
   "execution_count": 9,
   "metadata": {},
   "outputs": [
    {
     "data": {
      "text/plain": [
       "torch.Size([768, 7, 7])"
      ]
     },
     "execution_count": 9,
     "metadata": {},
     "output_type": "execute_result"
    }
   ],
   "source": [
    "t_out.shape"
   ]
  },
  {
   "cell_type": "code",
   "execution_count": 14,
   "metadata": {},
   "outputs": [
    {
     "data": {
      "text/plain": [
       "tensor(37632)"
      ]
     },
     "execution_count": 14,
     "metadata": {},
     "output_type": "execute_result"
    }
   ],
   "source": [
    "(t_in == t_out).sum()"
   ]
  },
  {
   "cell_type": "code",
   "execution_count": 15,
   "metadata": {},
   "outputs": [
    {
     "data": {
      "text/plain": [
       "37632"
      ]
     },
     "execution_count": 15,
     "metadata": {},
     "output_type": "execute_result"
    }
   ],
   "source": [
    "768 * 7 * 7"
   ]
  }
 ],
 "metadata": {
  "kernelspec": {
   "display_name": ".venv",
   "language": "python",
   "name": "python3"
  },
  "language_info": {
   "codemirror_mode": {
    "name": "ipython",
    "version": 3
   },
   "file_extension": ".py",
   "mimetype": "text/x-python",
   "name": "python",
   "nbconvert_exporter": "python",
   "pygments_lexer": "ipython3",
   "version": "3.8.10"
  },
  "orig_nbformat": 4,
  "vscode": {
   "interpreter": {
    "hash": "9763dd9e6ffd3ba90efc7e78f67d8102c2c04859933e0b9dee14447dc9e9ae7a"
   }
  }
 },
 "nbformat": 4,
 "nbformat_minor": 2
}
