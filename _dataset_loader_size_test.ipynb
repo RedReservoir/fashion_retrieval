{
 "cells": [
  {
   "cell_type": "code",
   "execution_count": null,
   "metadata": {},
   "outputs": [],
   "source": [
    "import os\n",
    "import shutil\n",
    "import sys\n",
    "import pathlib\n",
    "import dill\n",
    "import pickle as pkl\n",
    "import json\n",
    "import argparse\n",
    "import random as rd\n",
    "\n",
    "from contextlib import nullcontext\n",
    "\n",
    "import numpy as np\n",
    "import pandas as pd\n",
    "\n",
    "import torch\n",
    "import torchvision\n",
    "\n",
    "from torch.utils.data import DataLoader, Subset\n",
    "\n",
    "from fir.datasets import deep_fashion_ctsrbm\n",
    "from fir.arch import backbones_cnn, backbones_trf, models, heads\n",
    "\n",
    "import fir.utils.train\n",
    "import fir.utils.log\n",
    "import fir.utils.dict\n",
    "import fir.utils.list\n",
    "import fir.utils.mem\n",
    "import fir.utils.sig\n",
    "import fir.utils.time\n",
    "\n",
    "from tqdm import tqdm\n",
    "\n",
    "from time import time\n",
    "from datetime import datetime\n",
    "\n",
    "from itertools import chain\n",
    "from functools import reduce\n",
    "\n",
    "import json\n",
    "import socket\n",
    "\n",
    "from torch.distributed import init_process_group, destroy_process_group\n",
    "from torch.utils.data.distributed import DistributedSampler\n",
    "from torch.nn.parallel import DistributedDataParallel as DDP\n",
    "\n",
    "import pprint"
   ]
  },
  {
   "cell_type": "code",
   "execution_count": null,
   "metadata": {},
   "outputs": [],
   "source": [
    "backbone = backbones_cnn.ResNet50Backbone()\n",
    "\n",
    "ctsrbm_dataset_dir = os.path.join(pathlib.Path.home(), \"data\", \"DeepFashion\", \"Consumer-to-shop Clothes Retrieval Benchmark\")\n",
    "backbone_image_transform = backbone.get_image_transform()\n",
    "\n",
    "ctsrbm_dataset = deep_fashion_ctsrbm.ConsToShopClothRetrBmkDataset(ctsrbm_dataset_dir, img_transform=backbone_image_transform, neg_img_filename_list_id=\"test\")\n",
    "\n",
    "ctsrbm_train_idxs = ctsrbm_dataset.get_subset_indices(split=\"train\")\n",
    "\n",
    "ctsrbm_train_dataset = Subset(ctsrbm_dataset, ctsrbm_train_idxs)\n",
    "\n",
    "ctsrbm_train_loader = DataLoader(\n",
    "    ctsrbm_train_dataset,\n",
    "    batch_size=16,\n",
    "    num_workers=4,\n",
    "    pin_memory=True,\n",
    "    shuffle=False\n",
    ")\n",
    "\n",
    "print(\"DataLoader size:\", len(ctsrbm_train_loader))"
   ]
  },
  {
   "cell_type": "code",
   "execution_count": null,
   "metadata": {},
   "outputs": [],
   "source": []
  }
 ],
 "metadata": {
  "kernelspec": {
   "display_name": ".venv",
   "language": "python",
   "name": "python3"
  },
  "language_info": {
   "codemirror_mode": {
    "name": "ipython",
    "version": 3
   },
   "file_extension": ".py",
   "mimetype": "text/x-python",
   "name": "python",
   "nbconvert_exporter": "python",
   "pygments_lexer": "ipython3",
   "version": "3.8.10"
  },
  "orig_nbformat": 4,
  "vscode": {
   "interpreter": {
    "hash": "c1d9cd8eb66510c5ec86eb907d6561b8001175da1689fbe0f45c40d854d32b14"
   }
  }
 },
 "nbformat": 4,
 "nbformat_minor": 2
}
