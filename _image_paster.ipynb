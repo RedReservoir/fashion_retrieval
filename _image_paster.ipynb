{
 "cells": [
  {
   "cell_type": "code",
   "execution_count": 10,
   "metadata": {},
   "outputs": [],
   "source": [
    "import numpy as np\n",
    "import PIL\n",
    "from PIL import Image\n",
    "import os\n",
    "import pathlib"
   ]
  },
  {
   "cell_type": "code",
   "execution_count": 11,
   "metadata": {},
   "outputs": [],
   "source": [
    "examples_dir = os.path.join(pathlib.Path().home(), \"fashion_retrieval\", \"imgs\", \"ctsrbm_retrieval_examples\", \"test_1\")\n",
    "\n",
    "for examples_subdir in os.listdir(examples_dir):\n",
    "\n",
    "    list_im = [\n",
    "        os.path.join(examples_dir, examples_subdir, \"retrieval_3.png\"),\n",
    "        os.path.join(examples_dir, examples_subdir, \"retrieval_1.png\"),\n",
    "        os.path.join(examples_dir, examples_subdir, \"retrieval_4.png\")\n",
    "    ]\n",
    "\n",
    "    imgs = [Image.open(i).convert(\"RGB\") for i in list_im]\n",
    "    min_shape = sorted( [(np.sum(i.size), i.size ) for i in imgs])[0][1]\n",
    "    imgs_comb = np.vstack([i.resize(min_shape) for i in imgs])\n",
    "    imgs_comb = Image.fromarray( imgs_comb)\n",
    "\n",
    "    img_path = os.path.join(pathlib.Path().home(), \"fashion_retrieval\", \"imgs\", \"ctsrbm_retrieval_examples\", \"test_1_3-1-4\", \"{:s}.png\".format(examples_subdir))\n",
    "    imgs_comb.save(img_path)"
   ]
  },
  {
   "cell_type": "code",
   "execution_count": 12,
   "metadata": {},
   "outputs": [],
   "source": [
    "examples_dir = os.path.join(pathlib.Path().home(), \"fashion_retrieval\", \"imgs\", \"ctsrbm_retrieval_examples\", \"test_2\")\n",
    "\n",
    "for examples_subdir in os.listdir(examples_dir):\n",
    "\n",
    "    list_im = [\n",
    "        os.path.join(examples_dir, examples_subdir, \"retrieval_3.png\"),\n",
    "        os.path.join(examples_dir, examples_subdir, \"retrieval_1.png\"),\n",
    "        os.path.join(examples_dir, examples_subdir, \"retrieval_4.png\")\n",
    "    ]\n",
    "\n",
    "    imgs = [Image.open(i).convert(\"RGB\") for i in list_im]\n",
    "    min_shape = sorted( [(np.sum(i.size), i.size ) for i in imgs])[0][1]\n",
    "    imgs_comb = np.vstack([i.resize(min_shape) for i in imgs])\n",
    "    imgs_comb = Image.fromarray( imgs_comb)\n",
    "\n",
    "    img_path = os.path.join(pathlib.Path().home(), \"fashion_retrieval\", \"imgs\", \"ctsrbm_retrieval_examples\", \"test_2_3-1-4\", \"{:s}.png\".format(examples_subdir))\n",
    "    imgs_comb.save(img_path)"
   ]
  },
  {
   "cell_type": "code",
   "execution_count": null,
   "metadata": {},
   "outputs": [],
   "source": []
  }
 ],
 "metadata": {
  "kernelspec": {
   "display_name": ".venv",
   "language": "python",
   "name": "python3"
  },
  "language_info": {
   "codemirror_mode": {
    "name": "ipython",
    "version": 3
   },
   "file_extension": ".py",
   "mimetype": "text/x-python",
   "name": "python",
   "nbconvert_exporter": "python",
   "pygments_lexer": "ipython3",
   "version": "3.8.10"
  },
  "orig_nbformat": 4,
  "vscode": {
   "interpreter": {
    "hash": "c1d9cd8eb66510c5ec86eb907d6561b8001175da1689fbe0f45c40d854d32b14"
   }
  }
 },
 "nbformat": 4,
 "nbformat_minor": 2
}
