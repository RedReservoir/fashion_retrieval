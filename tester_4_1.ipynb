{
 "cells": [
  {
   "cell_type": "code",
   "execution_count": 1,
   "metadata": {},
   "outputs": [],
   "source": [
    "import os\n",
    "import deep_fashion\n",
    "\n",
    "import numpy as np\n",
    "import pandas as pd\n",
    "\n",
    "import matplotlib as mpl\n",
    "import matplotlib.pyplot as plt\n",
    "%matplotlib inline\n",
    "\n",
    "from torch.utils.data import DataLoader\n",
    "from torchvision.transforms import Resize, Lambda, Compose\n",
    "\n",
    "import torch\n",
    "import utils\n",
    "\n",
    "import time"
   ]
  },
  {
   "cell_type": "code",
   "execution_count": 2,
   "metadata": {},
   "outputs": [],
   "source": [
    "capbm_image_transform = Resize(size=(128, 128), antialias=True)\n",
    "capbm_dataset_dir = os.path.join(\"..\", \"fashion_datasets_raw\", \"DeepFashion\", \"Category_AttrPred_BM\")\n",
    "capbm_dataset = deep_fashion.CatAttrPredBM(capbm_dataset_dir, capbm_image_transform)\n",
    "\n",
    "ctsrbm_image_transform = Compose([\n",
    "    Lambda(lambda img: img.repeat(3, 1, 1) if img.size(dim=0) == 1 else img),\n",
    "    Resize(size=(128, 128), antialias=True)\n",
    "])\n",
    "ctsrbm_dataset_dir = os.path.join(\"..\", \"fashion_datasets_raw\", \"DeepFashion\", \"ConsumerToShop_Retrieval_BM\")\n",
    "ctsrbm_dataset = deep_fashion.ConsToShopClothRetrBM(ctsrbm_dataset_dir, ctsrbm_image_transform)"
   ]
  },
  {
   "cell_type": "code",
   "execution_count": 13,
   "metadata": {},
   "outputs": [
    {
     "name": "stdout",
     "output_type": "stream",
     "text": [
      "Memory overhead:  50.21MB\n",
      "Data points:       289222\n",
      "  Train:           209222\n",
      "    Val:            40000\n",
      "   Test:            40000\n"
     ]
    }
   ],
   "source": [
    "print(\"Memory overhead:  {:s}\".format(utils.sprint_fancy_num_bytes(capbm_dataset._num_bytes())))\n",
    "print(\"Data points:     {:8d}\".format(len(capbm_dataset)))\n",
    "print(\"  Train:         {:8d}\".format(len(capbm_dataset.get_split_mask_idxs(\"train\"))))\n",
    "print(\"    Val:         {:8d}\".format(len(capbm_dataset.get_split_mask_idxs(\"val\"))))\n",
    "print(\"   Test:         {:8d}\".format(len(capbm_dataset.get_split_mask_idxs(\"test\"))))"
   ]
  },
  {
   "cell_type": "code",
   "execution_count": 5,
   "metadata": {},
   "outputs": [
    {
     "name": "stdout",
     "output_type": "stream",
     "text": [
      "torch.Size([3, 128, 128])\n",
      "<class 'int'>\n",
      "torch.Size([1000])\n"
     ]
    }
   ],
   "source": [
    "for el in capbm_dataset[0]:\n",
    "    if type(el) == torch.Tensor: print(el.shape)\n",
    "    else: print(type(el))"
   ]
  },
  {
   "cell_type": "code",
   "execution_count": 7,
   "metadata": {},
   "outputs": [
    {
     "name": "stdout",
     "output_type": "stream",
     "text": [
      "03:08.022\n"
     ]
    }
   ],
   "source": [
    "loader = DataLoader(\n",
    "    capbm_dataset,\n",
    "    batch_size=256,\n",
    "    shuffle=False,\n",
    "    num_workers=4\n",
    ")\n",
    "\n",
    "num_batches = 0\n",
    "\n",
    "time_start = time.time()\n",
    "for batch in loader:\n",
    "    num_batches += 1\n",
    "time_end = time.time()\n",
    "\n",
    "print(utils.sprint_fancy_time_diff(time_end - time_start))"
   ]
  }
 ],
 "metadata": {
  "kernelspec": {
   "display_name": "Python 3",
   "language": "python",
   "name": "python3"
  },
  "language_info": {
   "codemirror_mode": {
    "name": "ipython",
    "version": 3
   },
   "file_extension": ".py",
   "mimetype": "text/x-python",
   "name": "python",
   "nbconvert_exporter": "python",
   "pygments_lexer": "ipython3",
   "version": "3.8.10"
  },
  "orig_nbformat": 4,
  "vscode": {
   "interpreter": {
    "hash": "916dbcbb3f70747c44a77c7bcd40155683ae19c65e1c03b4aa3499c5328201f1"
   }
  }
 },
 "nbformat": 4,
 "nbformat_minor": 2
}
