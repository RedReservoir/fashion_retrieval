{
 "cells": [
  {
   "cell_type": "code",
   "execution_count": 1,
   "metadata": {},
   "outputs": [],
   "source": [
    "import os\n",
    "import pathlib\n",
    "import deep_fashion\n",
    "\n",
    "import numpy as np\n",
    "import pandas as pd\n",
    "\n",
    "import matplotlib as mpl\n",
    "import matplotlib.pyplot as plt\n",
    "%matplotlib inline\n",
    "\n",
    "from torch.utils.data import DataLoader, Subset\n",
    "from torchvision.transforms import Resize, Lambda, Compose\n",
    "\n",
    "import torch\n",
    "import torchvision\n",
    "\n",
    "import utils\n",
    "\n",
    "from tqdm.notebook import tqdm"
   ]
  },
  {
   "cell_type": "code",
   "execution_count": 2,
   "metadata": {},
   "outputs": [],
   "source": [
    "capbm_image_transform = torchvision.models.ResNet50_Weights.DEFAULT.transforms()\n",
    "capbm_image_transform.antialias = True\n",
    "\n",
    "capbm_dataset_dir = os.path.join(pathlib.Path.home(), \"data\", \"DeepFashion\", \"Category and Attribute Prediction Benchmark\")\n",
    "capbm_dataset = deep_fashion.CatAttrPredBM(capbm_dataset_dir, capbm_image_transform)\n",
    "\n",
    "capbm_train_dataset = Subset(capbm_dataset, capbm_dataset.get_split_mask_idxs(\"train\"))\n",
    "capbm_test_dataset = Subset(capbm_dataset, capbm_dataset.get_split_mask_idxs(\"test\"))\n",
    "capbm_val_dataset = Subset(capbm_dataset, capbm_dataset.get_split_mask_idxs(\"val\"))\n",
    "\n",
    "capbm_train_loader = DataLoader(capbm_train_dataset, batch_size=256, num_workers=4)\n",
    "capbm_test_loader = DataLoader(capbm_test_dataset, batch_size=256, num_workers=4)\n",
    "capbm_val_loader = DataLoader(capbm_val_dataset, batch_size=256, num_workers=4)"
   ]
  },
  {
   "cell_type": "code",
   "execution_count": 3,
   "metadata": {},
   "outputs": [
    {
     "name": "stdout",
     "output_type": "stream",
     "text": [
      "Memory overhead:  50.21MB\n",
      "Data points:       289222\n",
      "  Train:           209222\n",
      "    Val:            40000\n",
      "   Test:            40000\n"
     ]
    }
   ],
   "source": [
    "print(\"Memory overhead:  {:s}\".format(utils.sprint_fancy_num_bytes(capbm_dataset._num_bytes())))\n",
    "print(\"Data points:     {:8d}\".format(len(capbm_dataset)))\n",
    "print(\"  Train:         {:8d}\".format(len(capbm_dataset.get_split_mask_idxs(\"train\"))))\n",
    "print(\"    Val:         {:8d}\".format(len(capbm_dataset.get_split_mask_idxs(\"val\"))))\n",
    "print(\"   Test:         {:8d}\".format(len(capbm_dataset.get_split_mask_idxs(\"test\"))))"
   ]
  },
  {
   "cell_type": "code",
   "execution_count": 4,
   "metadata": {},
   "outputs": [
    {
     "name": "stdout",
     "output_type": "stream",
     "text": [
      "torch.Size([3, 128, 128])\n",
      "<class 'int'>\n",
      "torch.Size([1000])\n"
     ]
    }
   ],
   "source": [
    "for el in capbm_dataset[0]:\n",
    "    if type(el) == torch.Tensor: print(el.shape)\n",
    "    else: print(type(el))"
   ]
  },
  {
   "cell_type": "code",
   "execution_count": 5,
   "metadata": {},
   "outputs": [
    {
     "data": {
      "application/vnd.jupyter.widget-view+json": {
       "model_id": "bf41fd1979674f16a89604a85401681c",
       "version_major": 2,
       "version_minor": 0
      },
      "text/plain": [
       "  0%|          | 0/1130 [00:00<?, ?it/s]"
      ]
     },
     "metadata": {},
     "output_type": "display_data"
    },
    {
     "name": "stdout",
     "output_type": "stream",
     "text": [
      "06:24.209\n"
     ]
    }
   ],
   "source": [
    "for batch in tqdm(capbm_train_loader):\n",
    "    pass"
   ]
  },
  {
   "cell_type": "code",
   "execution_count": null,
   "metadata": {},
   "outputs": [],
   "source": [
    "for batch in tqdm(capbm_val_loader):\n",
    "    pass"
   ]
  }
 ],
 "metadata": {
  "kernelspec": {
   "display_name": ".venv",
   "language": "python",
   "name": "python3"
  },
  "language_info": {
   "codemirror_mode": {
    "name": "ipython",
    "version": 3
   },
   "file_extension": ".py",
   "mimetype": "text/x-python",
   "name": "python",
   "nbconvert_exporter": "python",
   "pygments_lexer": "ipython3",
   "version": "3.8.10"
  },
  "orig_nbformat": 4,
  "vscode": {
   "interpreter": {
    "hash": "649142fb4cdab8a2d2387ea4a1c8e262f08b2b20e4af0e114d36ea602bf8b868"
   }
  }
 },
 "nbformat": 4,
 "nbformat_minor": 2
}
