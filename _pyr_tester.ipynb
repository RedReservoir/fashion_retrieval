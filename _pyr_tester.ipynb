{
 "cells": [
  {
   "cell_type": "code",
   "execution_count": 1,
   "metadata": {},
   "outputs": [],
   "source": [
    "import torch\n",
    "import torchvision\n",
    "\n",
    "import fir.utils.ten\n",
    "\n",
    "from fir.arch.backbones_cnn_pyramid import ConvNeXtTinyPyramidBackbone\n",
    "from fir.arch.heads_pyramid import RetrievalPyramidHead"
   ]
  },
  {
   "cell_type": "code",
   "execution_count": 2,
   "metadata": {},
   "outputs": [
    {
     "name": "stdout",
     "output_type": "stream",
     "text": [
      "(96, 56, 56)\n",
      "(192, 28, 28)\n",
      "(384, 14, 14)\n",
      "(768, 7, 7)\n"
     ]
    }
   ],
   "source": [
    "backbone = ConvNeXtTinyPyramidBackbone(224)\n",
    "\n",
    "for idx in range(4):\n",
    "    print(backbone.feature_shapes[idx])"
   ]
  },
  {
   "cell_type": "code",
   "execution_count": 3,
   "metadata": {},
   "outputs": [],
   "source": [
    "input = torch.empty(size=(1, 3, 224, 224))\n",
    "feats = backbone(input)"
   ]
  },
  {
   "cell_type": "code",
   "execution_count": 4,
   "metadata": {},
   "outputs": [
    {
     "name": "stdout",
     "output_type": "stream",
     "text": [
      "name: Input\n",
      "  shape:  torch.Size([1, 3, 224, 224])\n",
      "  dtype:  torch.float32\n",
      "  device:  cpu\n",
      "  mem:  588.07 KiB\n"
     ]
    }
   ],
   "source": [
    "fir.utils.ten.print_tensor_info(input, name=\"Input\")"
   ]
  },
  {
   "cell_type": "code",
   "execution_count": 5,
   "metadata": {},
   "outputs": [
    {
     "name": "stdout",
     "output_type": "stream",
     "text": [
      "name: Feature 0\n",
      "  shape:  torch.Size([1, 96, 56, 56])\n",
      "  dtype:  torch.float32\n",
      "  device:  cpu\n",
      "  mem:  1.15 MiB\n",
      "name: Feature 1\n",
      "  shape:  torch.Size([1, 192, 28, 28])\n",
      "  dtype:  torch.float32\n",
      "  device:  cpu\n",
      "  mem:  588.07 KiB\n",
      "name: Feature 2\n",
      "  shape:  torch.Size([1, 384, 14, 14])\n",
      "  dtype:  torch.float32\n",
      "  device:  cpu\n",
      "  mem:  294.07 KiB\n",
      "name: Feature 3\n",
      "  shape:  torch.Size([1, 768, 7, 7])\n",
      "  dtype:  torch.float32\n",
      "  device:  cpu\n",
      "  mem:  147.07 KiB\n"
     ]
    }
   ],
   "source": [
    "for idx, feat in enumerate(feats):\n",
    "    fir.utils.ten.print_tensor_info(feat, name=\"Feature {:d}\".format(idx))"
   ]
  },
  {
   "cell_type": "code",
   "execution_count": 13,
   "metadata": {},
   "outputs": [],
   "source": [
    "feat_idxs = [0, 1, 2, 3]\n",
    "feat_shapes = backbone.feature_shapes\n",
    "\n",
    "head = RetrievalPyramidHead(feat_idxs, feat_shapes, emb_size=1024)"
   ]
  },
  {
   "cell_type": "code",
   "execution_count": 14,
   "metadata": {},
   "outputs": [
    {
     "name": "stdout",
     "output_type": "stream",
     "text": [
      "name: Conc Feats\n",
      "  shape:  torch.Size([1, 1440, 56, 56])\n",
      "  dtype:  torch.float32\n",
      "  device:  cpu\n",
      "  mem:  17.23 MiB\n"
     ]
    }
   ],
   "source": [
    "emb = head(feats)"
   ]
  },
  {
   "cell_type": "code",
   "execution_count": 15,
   "metadata": {},
   "outputs": [
    {
     "name": "stdout",
     "output_type": "stream",
     "text": [
      "name: Embedding\n",
      "  shape:  torch.Size([1024])\n",
      "  dtype:  torch.float32\n",
      "  device:  cpu\n",
      "  mem:  4.07 KiB\n"
     ]
    }
   ],
   "source": [
    "fir.utils.ten.print_tensor_info(emb, name=\"Embedding\")"
   ]
  },
  {
   "cell_type": "code",
   "execution_count": 16,
   "metadata": {},
   "outputs": [],
   "source": [
    "model = torch.nn.Sequential(backbone, head)"
   ]
  },
  {
   "cell_type": "code",
   "execution_count": 17,
   "metadata": {},
   "outputs": [
    {
     "name": "stdout",
     "output_type": "stream",
     "text": [
      "name: Conc Feats\n",
      "  shape:  torch.Size([1, 1440, 56, 56])\n",
      "  dtype:  torch.float32\n",
      "  device:  cpu\n",
      "  mem:  17.23 MiB\n"
     ]
    }
   ],
   "source": [
    "input = torch.empty(size=(1, 3, 224, 224))\n",
    "emb = model(input)"
   ]
  },
  {
   "cell_type": "code",
   "execution_count": 18,
   "metadata": {},
   "outputs": [
    {
     "name": "stdout",
     "output_type": "stream",
     "text": [
      "name: Input\n",
      "  shape:  torch.Size([1, 3, 224, 224])\n",
      "  dtype:  torch.float32\n",
      "  device:  cpu\n",
      "  mem:  588.07 KiB\n",
      "name: Embedding\n",
      "  shape:  torch.Size([1024])\n",
      "  dtype:  torch.float32\n",
      "  device:  cpu\n",
      "  mem:  4.07 KiB\n"
     ]
    }
   ],
   "source": [
    "fir.utils.ten.print_tensor_info(input, \"Input\")\n",
    "fir.utils.ten.print_tensor_info(emb, \"Embedding\")"
   ]
  },
  {
   "cell_type": "code",
   "execution_count": null,
   "metadata": {},
   "outputs": [],
   "source": []
  }
 ],
 "metadata": {
  "kernelspec": {
   "display_name": ".venv",
   "language": "python",
   "name": "python3"
  },
  "language_info": {
   "codemirror_mode": {
    "name": "ipython",
    "version": 3
   },
   "file_extension": ".py",
   "mimetype": "text/x-python",
   "name": "python",
   "nbconvert_exporter": "python",
   "pygments_lexer": "ipython3",
   "version": "3.8.10"
  },
  "orig_nbformat": 4,
  "vscode": {
   "interpreter": {
    "hash": "649142fb4cdab8a2d2387ea4a1c8e262f08b2b20e4af0e114d36ea602bf8b868"
   }
  }
 },
 "nbformat": 4,
 "nbformat_minor": 2
}
