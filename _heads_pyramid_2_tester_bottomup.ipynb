{
 "cells": [
  {
   "cell_type": "code",
   "execution_count": 1,
   "metadata": {},
   "outputs": [],
   "source": [
    "import torch\n",
    "import torchvision\n",
    "\n",
    "from torchsummary import summary\n",
    "\n",
    "#\n",
    "\n",
    "import src.utils.tensor\n",
    "import src.comps.heads\n",
    "import src.comps.heads_pyramid_2"
   ]
  },
  {
   "cell_type": "code",
   "execution_count": 2,
   "metadata": {},
   "outputs": [],
   "source": [
    "in_feats = [\n",
    "    torch.rand((1, 96, 112, 112)),\n",
    "    torch.rand((1, 192, 56, 56)),\n",
    "    torch.rand((1, 384, 28, 28)),\n",
    "    torch.rand((1, 768, 14, 14)),\n",
    "    torch.rand((1, 1536, 7, 7))\n",
    "]\n",
    "\n",
    "in_feats = [\n",
    "    torch.rand((1, 96, 56, 56)),\n",
    "    torch.rand((1, 192, 28, 28)),\n",
    "    torch.rand((1, 384, 14, 14)),\n",
    "    torch.rand((1, 768, 7, 7)),\n",
    "]"
   ]
  },
  {
   "attachments": {},
   "cell_type": "markdown",
   "metadata": {},
   "source": [
    "# RetrievalHead"
   ]
  },
  {
   "cell_type": "code",
   "execution_count": 3,
   "metadata": {},
   "outputs": [
    {
     "name": "stdout",
     "output_type": "stream",
     "text": [
      "# of parameters: 786432\n"
     ]
    }
   ],
   "source": [
    "in_feat_shape = tuple(in_feats[-1].shape)[1:]\n",
    "emb_size = 1024\n",
    "\n",
    "head = src.comps.heads.RetHead(\n",
    "    in_feat_shape,\n",
    "    emb_size\n",
    ")\n",
    "\n",
    "total_params = sum(p.numel() for p in head.parameters())\n",
    "print(\"# of parameters: {:d}\".format(total_params))"
   ]
  },
  {
   "cell_type": "code",
   "execution_count": 4,
   "metadata": {},
   "outputs": [
    {
     "name": "stdout",
     "output_type": "stream",
     "text": [
      "shape:  torch.Size([1024])\n",
      "dtype:  torch.float32\n",
      "device:  cpu\n",
      "mem:  4.07 KiB\n"
     ]
    }
   ],
   "source": [
    "output = head(in_feats[-1])\n",
    "\n",
    "src.utils.tensor.print_tensor_info(output)"
   ]
  },
  {
   "attachments": {},
   "cell_type": "markdown",
   "metadata": {},
   "source": [
    "# RetrievalHeadPyramidBottomUpInstantSimple"
   ]
  },
  {
   "cell_type": "code",
   "execution_count": 5,
   "metadata": {},
   "outputs": [
    {
     "name": "stdout",
     "output_type": "stream",
     "text": [
      "# of parameters: 1474560\n"
     ]
    }
   ],
   "source": [
    "feat_shapes = [tuple(in_feat.shape)[1:] for in_feat in in_feats]\n",
    "in_feat_idxs = [0, 1, 2, 3]\n",
    "emb_size = 1024\n",
    "\n",
    "head = src.comps.heads_pyramid_2.RetrievalHeadPyramidBottomUpInstantSimple(\n",
    "    feat_shapes,\n",
    "    in_feat_idxs,\n",
    "    emb_size\n",
    ")\n",
    "\n",
    "total_params = sum(p.numel() for p in head.parameters())\n",
    "print(\"# of parameters: {:d}\".format(total_params))"
   ]
  },
  {
   "cell_type": "code",
   "execution_count": 6,
   "metadata": {},
   "outputs": [
    {
     "name": "stdout",
     "output_type": "stream",
     "text": [
      "name: new_in_feat\n",
      "shape:  torch.Size([1, 96, 56, 56])\n",
      "dtype:  torch.float32\n",
      "device:  cpu\n",
      "mem:  1.15 MiB\n",
      "name: new_in_feat\n",
      "shape:  torch.Size([1, 192, 56, 56])\n",
      "dtype:  torch.float32\n",
      "device:  cpu\n",
      "mem:  2.30 MiB\n",
      "name: new_in_feat\n",
      "shape:  torch.Size([1, 384, 56, 56])\n",
      "dtype:  torch.float32\n",
      "device:  cpu\n",
      "mem:  4.59 MiB\n",
      "name: new_in_feat\n",
      "shape:  torch.Size([1, 768, 56, 56])\n",
      "dtype:  torch.float32\n",
      "device:  cpu\n",
      "mem:  9.19 MiB\n",
      "name: cat_in_feats\n",
      "shape:  torch.Size([1, 1440, 56, 56])\n",
      "dtype:  torch.float32\n",
      "device:  cpu\n",
      "mem:  17.23 MiB\n",
      "name: red_in_feats\n",
      "shape:  torch.Size([1, 1024, 56, 56])\n",
      "dtype:  torch.float32\n",
      "device:  cpu\n",
      "mem:  12.25 MiB\n",
      "shape:  torch.Size([1024])\n",
      "dtype:  torch.float32\n",
      "device:  cpu\n",
      "mem:  4.07 KiB\n"
     ]
    }
   ],
   "source": [
    "output = head(in_feats)\n",
    "\n",
    "src.utils.tensor.print_tensor_info(output)"
   ]
  },
  {
   "attachments": {},
   "cell_type": "markdown",
   "metadata": {},
   "source": [
    "# RetrievalHeadPyramidBottomUpProgressiveSimple"
   ]
  },
  {
   "cell_type": "code",
   "execution_count": 7,
   "metadata": {},
   "outputs": [
    {
     "name": "stdout",
     "output_type": "stream",
     "text": [
      "# of parameters: 2015232\n"
     ]
    }
   ],
   "source": [
    "feat_shapes = [tuple(in_feat.shape)[1:] for in_feat in in_feats]\n",
    "in_feat_idxs = [0, 1, 2, 3]\n",
    "emb_size = [512, 768, 1024]\n",
    "\n",
    "head = src.comps.heads_pyramid_2.RetrievalHeadPyramidBottomUpProgressiveSimple(\n",
    "    feat_shapes,\n",
    "    in_feat_idxs,\n",
    "    emb_size\n",
    ")\n",
    "\n",
    "total_params = sum(p.numel() for p in head.parameters())\n",
    "print(\"# of parameters: {:d}\".format(total_params))"
   ]
  },
  {
   "cell_type": "code",
   "execution_count": 8,
   "metadata": {},
   "outputs": [
    {
     "name": "stdout",
     "output_type": "stream",
     "text": [
      "name: start_feat\n",
      "shape:  torch.Size([1, 768, 7, 7])\n",
      "dtype:  torch.float32\n",
      "device:  cpu\n",
      "mem:  147.07 KiB\n",
      "name: up_feat\n",
      "shape:  torch.Size([1, 768, 14, 14])\n",
      "dtype:  torch.float32\n",
      "device:  cpu\n",
      "mem:  588.07 KiB\n",
      "name: new_feat\n",
      "shape:  torch.Size([1, 384, 14, 14])\n",
      "dtype:  torch.float32\n",
      "device:  cpu\n",
      "mem:  294.07 KiB\n",
      "name: cat_feat\n",
      "shape:  torch.Size([1, 1152, 14, 14])\n",
      "dtype:  torch.float32\n",
      "device:  cpu\n",
      "mem:  882.07 KiB\n",
      "name: red_feat\n",
      "shape:  torch.Size([1, 512, 14, 14])\n",
      "dtype:  torch.float32\n",
      "device:  cpu\n",
      "mem:  392.07 KiB\n",
      "name: up_feat\n",
      "shape:  torch.Size([1, 512, 28, 28])\n",
      "dtype:  torch.float32\n",
      "device:  cpu\n",
      "mem:  1.53 MiB\n",
      "name: new_feat\n",
      "shape:  torch.Size([1, 192, 28, 28])\n",
      "dtype:  torch.float32\n",
      "device:  cpu\n",
      "mem:  588.07 KiB\n",
      "name: cat_feat\n",
      "shape:  torch.Size([1, 704, 28, 28])\n",
      "dtype:  torch.float32\n",
      "device:  cpu\n",
      "mem:  2.11 MiB\n",
      "name: red_feat\n",
      "shape:  torch.Size([1, 768, 28, 28])\n",
      "dtype:  torch.float32\n",
      "device:  cpu\n",
      "mem:  2.30 MiB\n",
      "name: up_feat\n",
      "shape:  torch.Size([1, 768, 56, 56])\n",
      "dtype:  torch.float32\n",
      "device:  cpu\n",
      "mem:  9.19 MiB\n",
      "name: new_feat\n",
      "shape:  torch.Size([1, 96, 56, 56])\n",
      "dtype:  torch.float32\n",
      "device:  cpu\n",
      "mem:  1.15 MiB\n",
      "name: cat_feat\n",
      "shape:  torch.Size([1, 864, 56, 56])\n",
      "dtype:  torch.float32\n",
      "device:  cpu\n",
      "mem:  10.34 MiB\n",
      "name: red_feat\n",
      "shape:  torch.Size([1, 1024, 56, 56])\n",
      "dtype:  torch.float32\n",
      "device:  cpu\n",
      "mem:  12.25 MiB\n",
      "shape:  torch.Size([1024])\n",
      "dtype:  torch.float32\n",
      "device:  cpu\n",
      "mem:  4.07 KiB\n"
     ]
    }
   ],
   "source": [
    "output = head(in_feats)\n",
    "\n",
    "src.utils.tensor.print_tensor_info(output)"
   ]
  },
  {
   "attachments": {},
   "cell_type": "markdown",
   "metadata": {},
   "source": [
    "# RetrievalHeadPyramidBottomUpInstantConv"
   ]
  },
  {
   "cell_type": "code",
   "execution_count": 9,
   "metadata": {},
   "outputs": [
    {
     "name": "stdout",
     "output_type": "stream",
     "text": [
      "ConvTranspose2d layer\n",
      "in:  192 | out:  192 | g:  192\n",
      "ConvTranspose2d layer\n",
      "in:  384 | out:  384 | g:  384\n",
      "ConvTranspose2d layer\n",
      "in:  768 | out:  768 | g:  768\n",
      "# of parameters: 1507200\n"
     ]
    }
   ],
   "source": [
    "feat_shapes = [tuple(in_feat.shape)[1:] for in_feat in in_feats]\n",
    "in_feat_idxs = [0, 1, 2, 3]\n",
    "emb_size = 1024\n",
    "conv_par_perc = 0\n",
    "\n",
    "head = src.comps.heads_pyramid_2.RetrievalHeadPyramidBottomUpInstantConv(\n",
    "    feat_shapes,\n",
    "    in_feat_idxs,\n",
    "    emb_size,\n",
    "    conv_par_perc\n",
    ")\n",
    "\n",
    "total_params = sum(p.numel() for p in head.parameters())\n",
    "print(\"# of parameters: {:d}\".format(total_params))"
   ]
  },
  {
   "cell_type": "code",
   "execution_count": 10,
   "metadata": {},
   "outputs": [
    {
     "name": "stdout",
     "output_type": "stream",
     "text": [
      "name: new_feat\n",
      "shape:  torch.Size([1, 96, 56, 56])\n",
      "dtype:  torch.float32\n",
      "device:  cpu\n",
      "mem:  1.15 MiB\n",
      "name: new_feat\n",
      "shape:  torch.Size([1, 192, 56, 56])\n",
      "dtype:  torch.float32\n",
      "device:  cpu\n",
      "mem:  2.30 MiB\n",
      "name: new_feat\n",
      "shape:  torch.Size([1, 384, 56, 56])\n",
      "dtype:  torch.float32\n",
      "device:  cpu\n",
      "mem:  4.59 MiB\n",
      "name: new_feat\n",
      "shape:  torch.Size([1, 768, 56, 56])\n",
      "dtype:  torch.float32\n",
      "device:  cpu\n",
      "mem:  9.19 MiB\n",
      "name: cat_feats\n",
      "shape:  torch.Size([1, 1440, 56, 56])\n",
      "dtype:  torch.float32\n",
      "device:  cpu\n",
      "mem:  17.23 MiB\n",
      "name: red_feats\n",
      "shape:  torch.Size([1, 1024, 56, 56])\n",
      "dtype:  torch.float32\n",
      "device:  cpu\n",
      "mem:  12.25 MiB\n",
      "shape:  torch.Size([1024])\n",
      "dtype:  torch.float32\n",
      "device:  cpu\n",
      "mem:  4.07 KiB\n"
     ]
    }
   ],
   "source": [
    "output = head(in_feats)\n",
    "\n",
    "src.utils.tensor.print_tensor_info(output)"
   ]
  },
  {
   "attachments": {},
   "cell_type": "markdown",
   "metadata": {},
   "source": [
    "# RetrievalHeadPyramidBottomUpProgressiveConv"
   ]
  },
  {
   "cell_type": "code",
   "execution_count": 11,
   "metadata": {},
   "outputs": [
    {
     "name": "stdout",
     "output_type": "stream",
     "text": [
      "ConvTranspose2d layer\n",
      "in:  768 | out:  768 | g:  768\n",
      "ConvTranspose2d layer\n",
      "in:  512 | out:  512 | g:  512\n",
      "ConvTranspose2d layer\n",
      "in:  768 | out:  768 | g:  768\n",
      "# of parameters: 2035712\n"
     ]
    }
   ],
   "source": [
    "feat_shapes = [tuple(in_feat.shape)[1:] for in_feat in in_feats]\n",
    "in_feat_idxs = [0, 1, 2, 3]\n",
    "emb_size = [512, 768, 1024]\n",
    "conv_par_perc = 0\n",
    "\n",
    "head = src.comps.heads_pyramid_2.RetrievalHeadPyramidBottomUpProgressiveConv(\n",
    "    feat_shapes,\n",
    "    in_feat_idxs,\n",
    "    emb_size,\n",
    "    conv_par_perc\n",
    ")\n",
    "\n",
    "total_params = sum(p.numel() for p in head.parameters())\n",
    "print(\"# of parameters: {:d}\".format(total_params))"
   ]
  },
  {
   "cell_type": "code",
   "execution_count": 12,
   "metadata": {},
   "outputs": [
    {
     "name": "stdout",
     "output_type": "stream",
     "text": [
      "name: start_feat\n",
      "shape:  torch.Size([1, 768, 7, 7])\n",
      "dtype:  torch.float32\n",
      "device:  cpu\n",
      "mem:  147.07 KiB\n",
      "name: up_feat\n",
      "shape:  torch.Size([1, 768, 14, 14])\n",
      "dtype:  torch.float32\n",
      "device:  cpu\n",
      "mem:  588.07 KiB\n",
      "name: new_feat\n",
      "shape:  torch.Size([1, 384, 14, 14])\n",
      "dtype:  torch.float32\n",
      "device:  cpu\n",
      "mem:  294.07 KiB\n",
      "name: cat_feat\n",
      "shape:  torch.Size([1, 1152, 14, 14])\n",
      "dtype:  torch.float32\n",
      "device:  cpu\n",
      "mem:  882.07 KiB\n",
      "name: red_feat\n",
      "shape:  torch.Size([1, 512, 14, 14])\n",
      "dtype:  torch.float32\n",
      "device:  cpu\n",
      "mem:  392.07 KiB\n",
      "name: up_feat\n",
      "shape:  torch.Size([1, 512, 28, 28])\n",
      "dtype:  torch.float32\n",
      "device:  cpu\n",
      "mem:  1.53 MiB\n",
      "name: new_feat\n",
      "shape:  torch.Size([1, 192, 28, 28])\n",
      "dtype:  torch.float32\n",
      "device:  cpu\n",
      "mem:  588.07 KiB\n",
      "name: cat_feat\n",
      "shape:  torch.Size([1, 704, 28, 28])\n",
      "dtype:  torch.float32\n",
      "device:  cpu\n",
      "mem:  2.11 MiB\n",
      "name: red_feat\n",
      "shape:  torch.Size([1, 768, 28, 28])\n",
      "dtype:  torch.float32\n",
      "device:  cpu\n",
      "mem:  2.30 MiB\n",
      "name: up_feat\n",
      "shape:  torch.Size([1, 768, 56, 56])\n",
      "dtype:  torch.float32\n",
      "device:  cpu\n",
      "mem:  9.19 MiB\n",
      "name: new_feat\n",
      "shape:  torch.Size([1, 96, 56, 56])\n",
      "dtype:  torch.float32\n",
      "device:  cpu\n",
      "mem:  1.15 MiB\n",
      "name: cat_feat\n",
      "shape:  torch.Size([1, 864, 56, 56])\n",
      "dtype:  torch.float32\n",
      "device:  cpu\n",
      "mem:  10.34 MiB\n",
      "name: red_feat\n",
      "shape:  torch.Size([1, 1024, 56, 56])\n",
      "dtype:  torch.float32\n",
      "device:  cpu\n",
      "mem:  12.25 MiB\n",
      "shape:  torch.Size([1024])\n",
      "dtype:  torch.float32\n",
      "device:  cpu\n",
      "mem:  4.07 KiB\n"
     ]
    }
   ],
   "source": [
    "output = head(in_feats)\n",
    "\n",
    "src.utils.tensor.print_tensor_info(output)"
   ]
  }
 ],
 "metadata": {
  "kernelspec": {
   "display_name": ".venv",
   "language": "python",
   "name": "python3"
  },
  "language_info": {
   "codemirror_mode": {
    "name": "ipython",
    "version": 3
   },
   "file_extension": ".py",
   "mimetype": "text/x-python",
   "name": "python",
   "nbconvert_exporter": "python",
   "pygments_lexer": "ipython3",
   "version": "3.8.10"
  },
  "orig_nbformat": 4,
  "vscode": {
   "interpreter": {
    "hash": "9763dd9e6ffd3ba90efc7e78f67d8102c2c04859933e0b9dee14447dc9e9ae7a"
   }
  }
 },
 "nbformat": 4,
 "nbformat_minor": 2
}
