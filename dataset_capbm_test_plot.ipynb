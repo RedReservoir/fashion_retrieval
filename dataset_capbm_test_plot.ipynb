{
 "cells": [
  {
   "cell_type": "code",
   "execution_count": null,
   "metadata": {},
   "outputs": [],
   "source": [
    "import os\n",
    "import pathlib\n",
    "from datasets import deep_fashion_capbm\n",
    "\n",
    "import numpy as np\n",
    "import pandas as pd\n",
    "\n",
    "import matplotlib as mpl\n",
    "import matplotlib.pyplot as plt\n",
    "%matplotlib inline\n",
    "\n",
    "from torch.utils.data import DataLoader\n",
    "import torchvision.io\n",
    "from torchvision.transforms import Resize, Lambda, Compose\n",
    "\n",
    "import torch\n",
    "\n",
    "from tqdm.notebook import trange, tqdm"
   ]
  },
  {
   "attachments": {},
   "cell_type": "markdown",
   "metadata": {},
   "source": [
    "---"
   ]
  },
  {
   "cell_type": "code",
   "execution_count": null,
   "metadata": {},
   "outputs": [],
   "source": [
    "capbm_image_transform = Resize(size=(128, 128), antialias=True)\n",
    "capbm_dataset_dir = os.path.join(pathlib.Path.home(), \"data\", \"DeepFashion\", \"Category and Attribute Prediction Benchmark\")\n",
    "capbm_dataset = deep_fashion_capbm.CatAndAttrPredBmkDataset(capbm_dataset_dir, img_transform=capbm_image_transform)"
   ]
  },
  {
   "cell_type": "code",
   "execution_count": null,
   "metadata": {},
   "outputs": [],
   "source": [
    "def show_data_CatAttrPredBmkDataset(image, category):\n",
    "\n",
    "    image_copy = image\n",
    "\n",
    "    if type(image) == torch.Tensor:\n",
    "        image_copy = image_copy.permute(1, 2, 0)\n",
    "\n",
    "    plt.imshow(image_copy)\n",
    "    \n",
    "    title = \"\"\n",
    "    title += \"Category: {:d}\".format(category)\n",
    "\n",
    "    plt.title(title)\n",
    "\n",
    "    plt.show()"
   ]
  },
  {
   "cell_type": "code",
   "execution_count": null,
   "metadata": {},
   "outputs": [],
   "source": [
    "for idx in range(30):\n",
    "    image, category = capbm_dataset[idx]\n",
    "    show_data_CatAttrPredBmkDataset(image, category)"
   ]
  },
  {
   "cell_type": "code",
   "execution_count": null,
   "metadata": {},
   "outputs": [],
   "source": []
  }
 ],
 "metadata": {
  "kernelspec": {
   "display_name": "Python 3",
   "language": "python",
   "name": "python3"
  },
  "language_info": {
   "codemirror_mode": {
    "name": "ipython",
    "version": 3
   },
   "file_extension": ".py",
   "mimetype": "text/x-python",
   "name": "python",
   "nbconvert_exporter": "python",
   "pygments_lexer": "ipython3",
   "version": "3.8.10"
  },
  "orig_nbformat": 4,
  "vscode": {
   "interpreter": {
    "hash": "916dbcbb3f70747c44a77c7bcd40155683ae19c65e1c03b4aa3499c5328201f1"
   }
  }
 },
 "nbformat": 4,
 "nbformat_minor": 2
}
