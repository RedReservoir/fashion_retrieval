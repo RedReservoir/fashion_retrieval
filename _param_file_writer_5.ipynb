{
 "cells": [
  {
   "cell_type": "code",
   "execution_count": 1,
   "metadata": {},
   "outputs": [],
   "source": [
    "import os\n",
    "import pathlib\n",
    "import pprint\n",
    "\n",
    "import itertools\n",
    "\n",
    "import src.utils.json"
   ]
  },
  {
   "attachments": {},
   "cell_type": "markdown",
   "metadata": {},
   "source": [
    "---"
   ]
  },
  {
   "cell_type": "code",
   "execution_count": 2,
   "metadata": {},
   "outputs": [],
   "source": [
    "head_num_list = [0, 0, 0, 1, 2, 3, 4, 5, 6, 7, 8, 9, 9, 9, 10, 11]\n",
    "exp_num_list = [0, 1, 2, 0, 0, 0, 0, 0, 0, 0, 0, 0, 1, 2, 0, 0]\n",
    "\n",
    "for head_num, exp_num in zip(head_num_list, exp_num_list):\n",
    "\n",
    "    exp_filename_last = \"head_{:03d}_exp_{:03d}__train_ret_DDP_s1.json\".format(head_num, exp_num)\n",
    "    exp_filename = os.path.join(\"params\", \"ret_train_old_smpl_2\", \"convnext_t_s1\", exp_filename_last)\n",
    "    exp_data = src.utils.json.load_json_dict(exp_filename)\n",
    "\n",
    "    exp_data[\"experiment_name\"] = os.path.join(\"ret_train_old_smpl_2\", \"convnext_t_s1\", \"head_{:03d}_exp_{:03d}\".format(head_num, exp_num))\n",
    "\n",
    "    src.utils.json.save_json_dict(exp_data, exp_filename)"
   ]
  },
  {
   "cell_type": "code",
   "execution_count": 6,
   "metadata": {},
   "outputs": [],
   "source": [
    "head_num_to_device_idxs_dict = {\n",
    "    1: [4, 5],\n",
    "    2: [6, 7],\n",
    "    3: [4, 5],\n",
    "    4: [6, 7],\n",
    "    5: [6, 7],\n",
    "    6: [8, 9],\n",
    "    7: [8, 9],\n",
    "    8: [4, 5],\n",
    "    10: [8, 9],\n",
    "    11: [8, 9]\n",
    "}\n",
    "\n",
    "head_num_list = [1, 2, 3, 4, 5, 6, 7, 8, 10, 11]\n",
    "for head_num in head_num_list:\n",
    "\n",
    "    exp_000_filename_last = \"head_{:03d}_exp_000__train_ret_DDP_s1.json\".format(head_num)\n",
    "    exp_000_filename = os.path.join(\"params\", \"ret_train_old_smpl_2\", \"convnext_t_s1\", exp_000_filename_last)\n",
    "    exp_000_data = src.utils.json.load_json_dict(exp_000_filename)\n",
    "\n",
    "    #\n",
    "\n",
    "    exp_003_filename_last = \"head_{:03d}_exp_003__train_ret_DDP_s1.json\".format(head_num)\n",
    "    exp_003_filename = os.path.join(\"params\", \"ret_train_old_smpl_2\", \"convnext_t_s1\", exp_003_filename_last)\n",
    "    exp_003_data = exp_000_data.copy()\n",
    "    \n",
    "    exp_003_data[\"experiment_name\"] = os.path.join(\"ret_train_old_smpl_2\", \"convnext_t_s1\", \"head_{:03d}_exp_003\".format(head_num))\n",
    "    exp_003_data[\"settings\"][\"stage_1\"][\"optimizer\"][\"lr\"] = 3.16e-3\n",
    "    exp_003_data[\"settings\"][\"stage_1\"][\"max_epochs\"] = 5\n",
    "\n",
    "    exp_003_data[\"settings\"][\"device_idxs\"] = head_num_to_device_idxs_dict[head_num]\n",
    "    exp_003_data[\"settings\"][\"stage_1\"][\"data_loading\"][\"batch_size\"] = 64\n",
    "\n",
    "    src.utils.json.save_json_dict(exp_003_data, exp_003_filename)\n",
    "\n",
    "    #\n",
    "\n",
    "    exp_004_filename_last = \"head_{:03d}_exp_004__train_ret_DDP_s1.json\".format(head_num)\n",
    "    exp_004_filename = os.path.join(\"params\", \"ret_train_old_smpl_2\", \"convnext_t_s1\", exp_004_filename_last)\n",
    "    exp_004_data = exp_000_data.copy()\n",
    "\n",
    "    exp_004_data[\"experiment_name\"] = os.path.join(\"ret_train_old_smpl_2\", \"convnext_t_s1\", \"head_{:03d}_exp_004\".format(head_num))\n",
    "    exp_004_data[\"settings\"][\"stage_1\"][\"optimizer\"][\"lr\"] = 3.16e-4\n",
    "    exp_004_data[\"settings\"][\"stage_1\"][\"max_epochs\"] = 5\n",
    "\n",
    "    exp_004_data[\"settings\"][\"device_idxs\"] = head_num_to_device_idxs_dict[head_num]\n",
    "    exp_004_data[\"settings\"][\"stage_1\"][\"data_loading\"][\"batch_size\"] = 64\n",
    "\n",
    "    src.utils.json.save_json_dict(exp_004_data, exp_004_filename)\n"
   ]
  },
  {
   "attachments": {},
   "cell_type": "markdown",
   "metadata": {},
   "source": [
    "---"
   ]
  },
  {
   "cell_type": "code",
   "execution_count": null,
   "metadata": {},
   "outputs": [],
   "source": [
    "head_num_list = [0, 0, 0, 1, 2, 3, 4, 5, 6, 7, 8, 9, 9, 9, 10, 11]\n",
    "exp_num_list = [0, 1, 2, 0, 0, 0, 0, 0, 0, 0, 0, 0, 1, 2, 0, 0]\n",
    "\n",
    "for head_num, exp_num in zip(head_num_list, exp_num_list):\n",
    "\n",
    "    exp_filename_last = \"head_{:03d}_exp_{:03d}__train_ret_DDP_s1.json\".format(head_num, exp_num)\n",
    "    exp_filename = os.path.join(\"params\", \"ret_train_old_smpl_2\", \"convnext_t_s1\", exp_filename_last)\n",
    "    exp_data = src.utils.json.load_json_dict(exp_filename)\n",
    "\n",
    "    exp_data[\"experiment_name\"] = os.path.join(\"ret_train_old_smpl_2\", \"convnext_t_s1\", \"head_{:03d}_exp_{:03d}\".format(head_num, exp_num))\n",
    "\n",
    "    src.utils.json.save_json_dict(exp_data, exp_filename)"
   ]
  },
  {
   "cell_type": "code",
   "execution_count": 5,
   "metadata": {},
   "outputs": [],
   "source": [
    "head_num_to_device_idxs_dict = {\n",
    "    0: [6, 7, 8, 9],\n",
    "    6: [6, 7, 8, 9],\n",
    "    10: [6, 7, 8, 9],\n",
    "    7: [3, 4, 5, 6],\n",
    "    8: [3, 4, 5, 6],\n",
    "    9: [3, 4, 5, 6],\n",
    "    11: [3, 4, 5, 6]\n",
    "}\n",
    "\n",
    "\n",
    "head_num_list = [0, 6, 7, 8, 9, 10, 11]\n",
    "for head_num in head_num_list:\n",
    "\n",
    "    exp_000_filename_last = \"head_{:03d}_exp_000__train_ret_DDP_s2.json\".format(head_num)\n",
    "    exp_000_filename = os.path.join(\"params\", \"ret_train_old_smpl_2\", \"convnext_t_s2\", exp_000_filename_last)\n",
    "    exp_000_data = src.utils.json.load_json_dict(exp_000_filename)\n",
    "\n",
    "    #\n",
    "\n",
    "    exp_001_filename_last = \"head_{:03d}_exp_001__train_ret_DDP_s2.json\".format(head_num)\n",
    "    exp_001_filename = os.path.join(\"params\", \"ret_train_old_smpl_2\", \"convnext_t_s2\", exp_001_filename_last)\n",
    "    exp_001_data = exp_000_data.copy()\n",
    "    \n",
    "    exp_001_data[\"experiment_name\"] = os.path.join(\"ret_train_old_smpl_2\", \"convnext_t_s2\", \"head_{:03d}_exp_001\".format(head_num))\n",
    "    exp_001_data[\"settings\"][\"stage_2\"][\"optimizer\"][\"lr\"] = 3.16e-5\n",
    "    exp_001_data[\"settings\"][\"stage_2\"][\"max_epochs\"] = 5\n",
    "\n",
    "    exp_001_data[\"settings\"][\"device_idxs\"] = head_num_to_device_idxs_dict[head_num]\n",
    "    exp_001_data[\"settings\"][\"stage_2\"][\"data_loading\"][\"batch_size\"] = 16\n",
    "\n",
    "    src.utils.json.save_json_dict(exp_001_data, exp_001_filename)\n",
    "\n",
    "    #\n",
    "\n",
    "    exp_002_filename_last = \"head_{:03d}_exp_002__train_ret_DDP_s2.json\".format(head_num)\n",
    "    exp_002_filename = os.path.join(\"params\", \"ret_train_old_smpl_2\", \"convnext_t_s2\", exp_002_filename_last)\n",
    "    exp_002_data = exp_000_data.copy()\n",
    "\n",
    "    exp_002_data[\"experiment_name\"] = os.path.join(\"ret_train_old_smpl_2\", \"convnext_t_s2\", \"head_{:03d}_exp_002\".format(head_num))\n",
    "    exp_002_data[\"settings\"][\"stage_2\"][\"optimizer\"][\"lr\"] = 3.16e-4\n",
    "    exp_002_data[\"settings\"][\"stage_2\"][\"max_epochs\"] = 5\n",
    "\n",
    "    exp_002_data[\"settings\"][\"device_idxs\"] = head_num_to_device_idxs_dict[head_num]\n",
    "    exp_002_data[\"settings\"][\"stage_2\"][\"data_loading\"][\"batch_size\"] = 16\n",
    "\n",
    "    src.utils.json.save_json_dict(exp_002_data, exp_002_filename)"
   ]
  },
  {
   "cell_type": "code",
   "execution_count": null,
   "metadata": {},
   "outputs": [],
   "source": []
  }
 ],
 "metadata": {
  "kernelspec": {
   "display_name": "Python 3",
   "language": "python",
   "name": "python3"
  },
  "language_info": {
   "codemirror_mode": {
    "name": "ipython",
    "version": 3
   },
   "file_extension": ".py",
   "mimetype": "text/x-python",
   "name": "python",
   "nbconvert_exporter": "python",
   "pygments_lexer": "ipython3",
   "version": "3.8.10"
  },
  "orig_nbformat": 4,
  "vscode": {
   "interpreter": {
    "hash": "916dbcbb3f70747c44a77c7bcd40155683ae19c65e1c03b4aa3499c5328201f1"
   }
  }
 },
 "nbformat": 4,
 "nbformat_minor": 2
}
