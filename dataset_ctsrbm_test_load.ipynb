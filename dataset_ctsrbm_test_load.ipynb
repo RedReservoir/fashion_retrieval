{
 "cells": [
  {
   "cell_type": "code",
   "execution_count": 16,
   "metadata": {},
   "outputs": [],
   "source": [
    "import os\n",
    "import pathlib\n",
    "from datasets import deep_fashion\n",
    "\n",
    "import numpy as np\n",
    "import pandas as pd\n",
    "\n",
    "import matplotlib as mpl\n",
    "import matplotlib.pyplot as plt\n",
    "%matplotlib inline\n",
    "\n",
    "from torch.utils.data import DataLoader, Subset\n",
    "from torchvision.transforms import Resize, Lambda, Compose\n",
    "\n",
    "import torch\n",
    "import torchvision\n",
    "\n",
    "import utils.mem\n",
    "import utils.list\n",
    "\n",
    "from tqdm.notebook import tqdm"
   ]
  },
  {
   "cell_type": "code",
   "execution_count": 17,
   "metadata": {},
   "outputs": [],
   "source": [
    "ctsrbm_image_transform = torchvision.models.EfficientNet_B3_Weights.DEFAULT.transforms()\n",
    "ctsrbm_image_transform.antialias = True\n",
    "\n",
    "ctsrbm_dataset_dir = os.path.join(pathlib.Path.home(), \"data\", \"DeepFashion\", \"Consumer-to-shop Clothes Retrieval Benchmark\")\n",
    "ctsrbm_dataset = deep_fashion.ConsToShopClothRetrBM(ctsrbm_dataset_dir, img_transform=ctsrbm_image_transform, neg_aux_filename_id=\"dummy\")\n",
    "\n",
    "ctsrbm_train_dataset = Subset(ctsrbm_dataset, utils.list.cutdown_list(ctsrbm_dataset.get_split_mask_idxs(\"train\"), 0.5))\n",
    "ctsrbm_test_dataset = Subset(ctsrbm_dataset, ctsrbm_dataset.get_split_mask_idxs(\"test\"))\n",
    "ctsrbm_val_dataset = Subset(ctsrbm_dataset, ctsrbm_dataset.get_split_mask_idxs(\"val\"))\n",
    "\n",
    "ctsrbm_train_loader = DataLoader(ctsrbm_train_dataset, batch_size=32, num_workers=6)\n",
    "ctsrbm_test_loader = DataLoader(ctsrbm_test_dataset, batch_size=32, num_workers=6)\n",
    "ctsrbm_val_loader = DataLoader(ctsrbm_val_dataset, batch_size=32, num_workers=6)"
   ]
  },
  {
   "cell_type": "code",
   "execution_count": 18,
   "metadata": {},
   "outputs": [
    {
     "name": "stdout",
     "output_type": "stream",
     "text": [
      "-- PICKLE STATUS START --\n",
      "self._dataset_dir\n",
      "   True\n",
      "self._img_transform\n",
      "   True\n",
      "self._train_mask_idxs\n",
      "   True\n",
      "self._test_mask_idxs\n",
      "   True\n",
      "self._val_mask_idxs\n",
      "   True\n",
      "self._attribute_name_list\n",
      "   True\n",
      "self._supattribute_idx_list\n",
      "   True\n",
      "self._supattribute_name_list\n",
      "   True\n",
      "self._list_eval_partition_aux_idxs_cursor_list\n",
      "   True\n",
      "self._list_eval_partition_neg_aux_idxs_cursor_list\n",
      "   True\n",
      "self._image_filename_bbox_cursor_list\n",
      "   True\n",
      "self._item_attribute_cursor_list\n",
      "   True\n",
      "self._list_eval_partition_aux_idxs_file\n",
      "   TypeError: cannot pickle '_io.TextIOWrapper' object\n",
      "self._list_eval_partition_neg_aux_idxs_file\n",
      "   TypeError: cannot pickle '_io.TextIOWrapper' object\n",
      "self._image_bbox_file\n",
      "   TypeError: cannot pickle '_io.TextIOWrapper' object\n",
      "self._item_attribute_file\n",
      "   TypeError: cannot pickle '_io.TextIOWrapper' object\n",
      "self._list_eval_partition_aux_idxs_file_lock\n",
      "   RuntimeError: Lock objects should only be shared between processes through inheritance\n",
      "self._list_eval_partition_neg_aux_idxs_file_lock\n",
      "   RuntimeError: Lock objects should only be shared between processes through inheritance\n",
      "self._image_bbox_file_lock\n",
      "   RuntimeError: Lock objects should only be shared between processes through inheritance\n",
      "self._item_attribute_file_lock\n",
      "   RuntimeError: Lock objects should only be shared between processes through inheritance\n",
      "self._list_eval_partition_aux_idxs_filename\n",
      "   True\n",
      "self._list_eval_partition_neg_aux_idxs_filename\n",
      "   True\n",
      "-- PICKLE STATUS END --\n"
     ]
    }
   ],
   "source": [
    "ctsrbm_dataset._is_pickable()"
   ]
  },
  {
   "cell_type": "code",
   "execution_count": 19,
   "metadata": {},
   "outputs": [
    {
     "name": "stdout",
     "output_type": "stream",
     "text": [
      "Memory overhead:   30.039 MiB\n",
      "Data points:       239557\n",
      "  Train:            98832\n",
      "    Val:            48935\n",
      "   Test:            47773\n"
     ]
    }
   ],
   "source": [
    "print(\"Memory overhead:  {:s}\".format(utils.mem.sprint_fancy_num_bytes(ctsrbm_dataset._num_bytes())))\n",
    "print(\"Data points:     {:8d}\".format(len(ctsrbm_dataset)))\n",
    "print(\"  Train:         {:8d}\".format(len(ctsrbm_dataset.get_split_mask_idxs(\"train\"))))\n",
    "print(\"    Val:         {:8d}\".format(len(ctsrbm_dataset.get_split_mask_idxs(\"val\"))))\n",
    "print(\"   Test:         {:8d}\".format(len(ctsrbm_dataset.get_split_mask_idxs(\"test\"))))"
   ]
  },
  {
   "cell_type": "code",
   "execution_count": 20,
   "metadata": {},
   "outputs": [
    {
     "name": "stdout",
     "output_type": "stream",
     "text": [
      "torch.Size([3, 300, 300]) torch.float32\n",
      "torch.Size([3, 300, 300]) torch.float32\n",
      "torch.Size([3, 300, 300]) torch.float32\n",
      "torch.Size([303]) torch.float32\n"
     ]
    }
   ],
   "source": [
    "for el in ctsrbm_dataset[0]:\n",
    "    if type(el) == torch.Tensor: print(el.shape, el.dtype)\n",
    "    else: print(type(el))"
   ]
  },
  {
   "cell_type": "code",
   "execution_count": 21,
   "metadata": {},
   "outputs": [
    {
     "name": "stdout",
     "output_type": "stream",
     "text": [
      "type(batch) <class 'list'>\n",
      "type(batch[0]) <class 'torch.Tensor'>\n",
      "batch[0].size() torch.Size([32, 3, 300, 300])\n",
      "type(batch[1]) <class 'torch.Tensor'>\n",
      "batch[1].size() torch.Size([32, 3, 300, 300])\n",
      "type(batch[2]) <class 'torch.Tensor'>\n",
      "batch[2].size() torch.Size([32, 3, 300, 300])\n",
      "type(batch[3]) <class 'torch.Tensor'>\n",
      "batch[3].size() torch.Size([32, 303])\n"
     ]
    }
   ],
   "source": [
    "for batch in ctsrbm_train_loader:\n",
    "\n",
    "    print(\"type(batch)\", type(batch))\n",
    "    for idx, el in enumerate(batch):\n",
    "        print(\"type(batch[{:d}])\".format(idx), type(batch[idx]))\n",
    "        print(\"batch[{:d}].size()\".format(idx), batch[idx].size())\n",
    "\n",
    "    break"
   ]
  },
  {
   "cell_type": "code",
   "execution_count": 22,
   "metadata": {},
   "outputs": [
    {
     "data": {
      "application/vnd.jupyter.widget-view+json": {
       "model_id": "1a346275011c4f44a0e394feab38ab05",
       "version_major": 2,
       "version_minor": 0
      },
      "text/plain": [
       "  0%|          | 0/1545 [00:00<?, ?it/s]"
      ]
     },
     "metadata": {},
     "output_type": "display_data"
    }
   ],
   "source": [
    "for batch in tqdm(ctsrbm_train_loader):\n",
    "    pass"
   ]
  },
  {
   "cell_type": "code",
   "execution_count": null,
   "metadata": {},
   "outputs": [],
   "source": []
  }
 ],
 "metadata": {
  "kernelspec": {
   "display_name": ".venv",
   "language": "python",
   "name": "python3"
  },
  "language_info": {
   "codemirror_mode": {
    "name": "ipython",
    "version": 3
   },
   "file_extension": ".py",
   "mimetype": "text/x-python",
   "name": "python",
   "nbconvert_exporter": "python",
   "pygments_lexer": "ipython3",
   "version": "3.8.10"
  },
  "orig_nbformat": 4,
  "vscode": {
   "interpreter": {
    "hash": "649142fb4cdab8a2d2387ea4a1c8e262f08b2b20e4af0e114d36ea602bf8b868"
   }
  }
 },
 "nbformat": 4,
 "nbformat_minor": 2
}
