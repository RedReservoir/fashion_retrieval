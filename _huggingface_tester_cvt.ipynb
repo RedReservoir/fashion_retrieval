{
 "cells": [
  {
   "cell_type": "code",
   "execution_count": 3,
   "metadata": {},
   "outputs": [],
   "source": [
    "from transformers import CvtConfig, CvtModel, CvtForImageClassification\n",
    "\n",
    "import pprint"
   ]
  },
  {
   "cell_type": "code",
   "execution_count": 4,
   "metadata": {},
   "outputs": [
    {
     "name": "stdout",
     "output_type": "stream",
     "text": [
      "model_params:     19611712\n",
      "cls_model_params: 19997480\n"
     ]
    },
    {
     "data": {
      "application/vnd.jupyter.widget-view+json": {
       "model_id": "605f04f28dab4ac8842e40182c1d7326",
       "version_major": 2,
       "version_minor": 0
      },
      "text/plain": [
       "Downloading pytorch_model.bin:   0%|          | 0.00/80.3M [00:00<?, ?B/s]"
      ]
     },
     "metadata": {},
     "output_type": "display_data"
    },
    {
     "name": "stdout",
     "output_type": "stream",
     "text": [
      "model_params:     19611712\n",
      "cls_model_params: 19997480\n"
     ]
    },
    {
     "data": {
      "application/vnd.jupyter.widget-view+json": {
       "model_id": "0002f0935fde436881f7ac9d5dc76775",
       "version_major": 2,
       "version_minor": 0
      },
      "text/plain": [
       "Downloading (…)lve/main/config.json:   0%|          | 0.00/70.3k [00:00<?, ?B/s]"
      ]
     },
     "metadata": {},
     "output_type": "display_data"
    },
    {
     "data": {
      "application/vnd.jupyter.widget-view+json": {
       "model_id": "e9e446f108404aa2b0545b0b9e47533d",
       "version_major": 2,
       "version_minor": 0
      },
      "text/plain": [
       "Downloading pytorch_model.bin:   0%|          | 0.00/80.3M [00:00<?, ?B/s]"
      ]
     },
     "metadata": {},
     "output_type": "display_data"
    },
    {
     "name": "stdout",
     "output_type": "stream",
     "text": [
      "model_params:     19611712\n",
      "cls_model_params: 19997480\n"
     ]
    },
    {
     "data": {
      "application/vnd.jupyter.widget-view+json": {
       "model_id": "151bb83825654f74b6f64240c7c78e7c",
       "version_major": 2,
       "version_minor": 0
      },
      "text/plain": [
       "Downloading (…)lve/main/config.json:   0%|          | 0.00/70.3k [00:00<?, ?B/s]"
      ]
     },
     "metadata": {},
     "output_type": "display_data"
    },
    {
     "data": {
      "application/vnd.jupyter.widget-view+json": {
       "model_id": "d0ac4477297c499e9d3524828242e22d",
       "version_major": 2,
       "version_minor": 0
      },
      "text/plain": [
       "Downloading pytorch_model.bin:   0%|          | 0.00/127M [00:00<?, ?B/s]"
      ]
     },
     "metadata": {},
     "output_type": "display_data"
    },
    {
     "name": "stdout",
     "output_type": "stream",
     "text": [
      "model_params:     31236928\n",
      "cls_model_params: 31622696\n"
     ]
    },
    {
     "data": {
      "application/vnd.jupyter.widget-view+json": {
       "model_id": "669cebd885b54669be624c5d04776921",
       "version_major": 2,
       "version_minor": 0
      },
      "text/plain": [
       "Downloading (…)lve/main/config.json:   0%|          | 0.00/70.3k [00:00<?, ?B/s]"
      ]
     },
     "metadata": {},
     "output_type": "display_data"
    },
    {
     "data": {
      "application/vnd.jupyter.widget-view+json": {
       "model_id": "0008dece2bf0461b83234f5fb1338b55",
       "version_major": 2,
       "version_minor": 0
      },
      "text/plain": [
       "Downloading pytorch_model.bin:   0%|          | 0.00/127M [00:00<?, ?B/s]"
      ]
     },
     "metadata": {},
     "output_type": "display_data"
    },
    {
     "name": "stdout",
     "output_type": "stream",
     "text": [
      "model_params:     31236928\n",
      "cls_model_params: 31622696\n"
     ]
    },
    {
     "data": {
      "application/vnd.jupyter.widget-view+json": {
       "model_id": "c0b165005a4c4cd4846590a717301b75",
       "version_major": 2,
       "version_minor": 0
      },
      "text/plain": [
       "Downloading (…)lve/main/config.json:   0%|          | 0.00/70.3k [00:00<?, ?B/s]"
      ]
     },
     "metadata": {},
     "output_type": "display_data"
    },
    {
     "data": {
      "application/vnd.jupyter.widget-view+json": {
       "model_id": "40c5dbe5f397430b9b1f7ed7a9648b69",
       "version_major": 2,
       "version_minor": 0
      },
      "text/plain": [
       "Downloading pytorch_model.bin:   0%|          | 0.00/127M [00:00<?, ?B/s]"
      ]
     },
     "metadata": {},
     "output_type": "display_data"
    },
    {
     "name": "stdout",
     "output_type": "stream",
     "text": [
      "model_params:     31236928\n",
      "cls_model_params: 31622696\n"
     ]
    },
    {
     "data": {
      "application/vnd.jupyter.widget-view+json": {
       "model_id": "02e2f3dc3f6b43138d459c4b9b7589ba",
       "version_major": 2,
       "version_minor": 0
      },
      "text/plain": [
       "Downloading (…)lve/main/config.json:   0%|          | 0.00/70.2k [00:00<?, ?B/s]"
      ]
     },
     "metadata": {},
     "output_type": "display_data"
    },
    {
     "data": {
      "application/vnd.jupyter.widget-view+json": {
       "model_id": "427c3b8a30184aa6a5100186423692b3",
       "version_major": 2,
       "version_minor": 0
      },
      "text/plain": [
       "Downloading pytorch_model.bin:   0%|          | 0.00/1.11G [00:00<?, ?B/s]"
      ]
     },
     "metadata": {},
     "output_type": "display_data"
    },
    {
     "name": "stdout",
     "output_type": "stream",
     "text": [
      "model_params:     276169344\n",
      "cls_model_params: 277196392\n"
     ]
    }
   ],
   "source": [
    "pretrained_config_name_list = [\n",
    "    \"microsoft/cvt-13\",\n",
    "    \"microsoft/cvt-13-384\",\n",
    "    \"microsoft/cvt-13-384-22k\",\n",
    "    \"microsoft/cvt-21\",\n",
    "    \"microsoft/cvt-21-384\",\n",
    "    \"microsoft/cvt-21-384-22k\",\n",
    "    \"microsoft/cvt-w24-384-22k\"\n",
    "]\n",
    "\n",
    "for pretrained_config_name in pretrained_config_name_list:\n",
    "\n",
    "    model = CvtModel.from_pretrained(pretrained_config_name)\n",
    "    cls_model = CvtForImageClassification.from_pretrained(pretrained_config_name)\n",
    "\n",
    "    model_params = sum(p.numel() for p in model.parameters())\n",
    "    cls_model_params = sum(p.numel() for p in cls_model.parameters())\n",
    "\n",
    "    print(\"model_params:    \", model_params)\n",
    "    print(\"cls_model_params:\", cls_model_params)"
   ]
  },
  {
   "attachments": {},
   "cell_type": "markdown",
   "metadata": {},
   "source": [
    "---"
   ]
  },
  {
   "cell_type": "code",
   "execution_count": 19,
   "metadata": {},
   "outputs": [],
   "source": [
    "# Initializing a PVT Xrenya/pvt-tiny-224 style configuration\n",
    "configuration = PvtConfig()\n",
    "\n",
    "# Initializing a model from the Xrenya/pvt-tiny-224 style configuration\n",
    "model = PvtModel(configuration)\n",
    "cls_model = PvtForImageClassification(configuration)\n",
    "\n",
    "# Accessing the model configuration\n",
    "model_config = model.config\n",
    "cls_model_config = cls_model.config"
   ]
  },
  {
   "cell_type": "code",
   "execution_count": 20,
   "metadata": {},
   "outputs": [
    {
     "data": {
      "text/plain": [
       "12716288"
      ]
     },
     "execution_count": 20,
     "metadata": {},
     "output_type": "execute_result"
    }
   ],
   "source": [
    "total_params = sum(p.numel() for p in model.parameters())\n",
    "total_params"
   ]
  },
  {
   "cell_type": "code",
   "execution_count": 21,
   "metadata": {},
   "outputs": [
    {
     "data": {
      "text/plain": [
       "13229288"
      ]
     },
     "execution_count": 21,
     "metadata": {},
     "output_type": "execute_result"
    }
   ],
   "source": [
    "total_params = sum(p.numel() for p in cls_model.parameters())\n",
    "total_params"
   ]
  },
  {
   "attachments": {},
   "cell_type": "markdown",
   "metadata": {},
   "source": [
    "---"
   ]
  },
  {
   "cell_type": "code",
   "execution_count": 23,
   "metadata": {},
   "outputs": [
    {
     "data": {
      "application/vnd.jupyter.widget-view+json": {
       "model_id": "f2c956d694724e7a8e1d13276b8e8ed5",
       "version_major": 2,
       "version_minor": 0
      },
      "text/plain": [
       "Downloading (…)lve/main/config.json:   0%|          | 0.00/70.0k [00:00<?, ?B/s]"
      ]
     },
     "metadata": {},
     "output_type": "display_data"
    },
    {
     "data": {
      "application/vnd.jupyter.widget-view+json": {
       "model_id": "e39e938711654c8d9e03475f37c44559",
       "version_major": 2,
       "version_minor": 0
      },
      "text/plain": [
       "Downloading model.safetensors:   0%|          | 0.00/52.9M [00:00<?, ?B/s]"
      ]
     },
     "metadata": {},
     "output_type": "display_data"
    },
    {
     "name": "stdout",
     "output_type": "stream",
     "text": [
      "model_params: 12716288\n",
      "cls_model_params: 13229288\n"
     ]
    }
   ],
   "source": [
    "pretrained_config_name = \"Zetatech/pvt-tiny-224\"\n",
    "\n",
    "model = PvtModel.from_pretrained(pretrained_config_name)\n",
    "cls_model = PvtForImageClassification.from_pretrained(pretrained_config_name)\n",
    "\n",
    "model_params = sum(p.numel() for p in model.parameters())\n",
    "cls_model_params = sum(p.numel() for p in cls_model.parameters())\n",
    "\n",
    "print(\"model_params:\", model_params)\n",
    "print(\"cls_model_params:\", cls_model_params)"
   ]
  },
  {
   "cell_type": "code",
   "execution_count": 24,
   "metadata": {},
   "outputs": [
    {
     "data": {
      "application/vnd.jupyter.widget-view+json": {
       "model_id": "678a725ad3724b1aa6b191ac04b09876",
       "version_major": 2,
       "version_minor": 0
      },
      "text/plain": [
       "Downloading (…)lve/main/config.json:   0%|          | 0.00/70.0k [00:00<?, ?B/s]"
      ]
     },
     "metadata": {},
     "output_type": "display_data"
    },
    {
     "data": {
      "application/vnd.jupyter.widget-view+json": {
       "model_id": "17b042505dfe4f7b98f5db4ebb4b594e",
       "version_major": 2,
       "version_minor": 0
      },
      "text/plain": [
       "Downloading pytorch_model.bin:   0%|          | 0.00/98.1M [00:00<?, ?B/s]"
      ]
     },
     "metadata": {},
     "output_type": "display_data"
    },
    {
     "name": "stdout",
     "output_type": "stream",
     "text": [
      "model_params: 23972864\n",
      "cls_model_params: 24485864\n"
     ]
    }
   ],
   "source": [
    "pretrained_config_name = \"Zetatech/pvt-small-224\"\n",
    "\n",
    "model = PvtModel.from_pretrained(pretrained_config_name)\n",
    "cls_model = PvtForImageClassification.from_pretrained(pretrained_config_name)\n",
    "\n",
    "model_params = sum(p.numel() for p in model.parameters())\n",
    "cls_model_params = sum(p.numel() for p in cls_model.parameters())\n",
    "\n",
    "print(\"model_params:\", model_params)\n",
    "print(\"cls_model_params:\", cls_model_params)"
   ]
  },
  {
   "cell_type": "code",
   "execution_count": 25,
   "metadata": {},
   "outputs": [
    {
     "data": {
      "application/vnd.jupyter.widget-view+json": {
       "model_id": "bcc63b11232446f4b817cb62b3f9149a",
       "version_major": 2,
       "version_minor": 0
      },
      "text/plain": [
       "Downloading (…)lve/main/config.json:   0%|          | 0.00/70.0k [00:00<?, ?B/s]"
      ]
     },
     "metadata": {},
     "output_type": "display_data"
    },
    {
     "data": {
      "application/vnd.jupyter.widget-view+json": {
       "model_id": "d7c3ce5e3e0e4333a8b7971c474392a4",
       "version_major": 2,
       "version_minor": 0
      },
      "text/plain": [
       "Downloading pytorch_model.bin:   0%|          | 0.00/177M [00:00<?, ?B/s]"
      ]
     },
     "metadata": {},
     "output_type": "display_data"
    },
    {
     "name": "stdout",
     "output_type": "stream",
     "text": [
      "model_params: 43695104\n",
      "cls_model_params: 44208104\n"
     ]
    }
   ],
   "source": [
    "pretrained_config_name = \"Zetatech/pvt-medium-224\"\n",
    "\n",
    "model = PvtModel.from_pretrained(pretrained_config_name)\n",
    "cls_model = PvtForImageClassification.from_pretrained(pretrained_config_name)\n",
    "\n",
    "model_params = sum(p.numel() for p in model.parameters())\n",
    "cls_model_params = sum(p.numel() for p in cls_model.parameters())\n",
    "\n",
    "print(\"model_params:\", model_params)\n",
    "print(\"cls_model_params:\", cls_model_params)"
   ]
  },
  {
   "cell_type": "code",
   "execution_count": 26,
   "metadata": {},
   "outputs": [
    {
     "name": "stdout",
     "output_type": "stream",
     "text": [
      "model_params: 60856320\n",
      "cls_model_params: 61369320\n"
     ]
    }
   ],
   "source": [
    "pretrained_config_name = \"Zetatech/pvt-large-224\"\n",
    "\n",
    "model = PvtModel.from_pretrained(pretrained_config_name)\n",
    "cls_model = PvtForImageClassification.from_pretrained(pretrained_config_name)\n",
    "\n",
    "model_params = sum(p.numel() for p in model.parameters())\n",
    "cls_model_params = sum(p.numel() for p in cls_model.parameters())\n",
    "\n",
    "print(\"model_params:\", model_params)\n",
    "print(\"cls_model_params:\", cls_model_params)"
   ]
  },
  {
   "cell_type": "code",
   "execution_count": null,
   "metadata": {},
   "outputs": [],
   "source": []
  }
 ],
 "metadata": {
  "kernelspec": {
   "display_name": ".venv",
   "language": "python",
   "name": "python3"
  },
  "language_info": {
   "codemirror_mode": {
    "name": "ipython",
    "version": 3
   },
   "file_extension": ".py",
   "mimetype": "text/x-python",
   "name": "python",
   "nbconvert_exporter": "python",
   "pygments_lexer": "ipython3",
   "version": "3.8.10"
  },
  "orig_nbformat": 4,
  "vscode": {
   "interpreter": {
    "hash": "c1d9cd8eb66510c5ec86eb907d6561b8001175da1689fbe0f45c40d854d32b14"
   }
  }
 },
 "nbformat": 4,
 "nbformat_minor": 2
}
