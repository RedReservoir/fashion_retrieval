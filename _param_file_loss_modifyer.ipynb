{
 "cells": [
  {
   "cell_type": "code",
   "execution_count": 21,
   "metadata": {},
   "outputs": [],
   "source": [
    "import os\n",
    "import pathlib\n",
    "import pprint\n",
    "import json\n",
    "import itertools\n",
    "import shutil"
   ]
  },
  {
   "cell_type": "code",
   "execution_count": 22,
   "metadata": {},
   "outputs": [],
   "source": [
    "def save_json_dict(\n",
    "        json_filename,\n",
    "        json_dict\n",
    "        ):\n",
    "\n",
    "    with open(json_filename, 'w') as json_file:\n",
    "        json.dump(json_dict, json_file, indent=4)\n",
    "\n",
    "\n",
    "def load_json_dict(\n",
    "        json_filename\n",
    "        ):\n",
    "\n",
    "    with open(json_filename, 'r') as json_file:\n",
    "        json_dict = json.load(json_file)\n",
    "\n",
    "    return json_dict"
   ]
  },
  {
   "cell_type": "code",
   "execution_count": 23,
   "metadata": {},
   "outputs": [],
   "source": [
    "def get_dataset_lens(num_gpus, batch_size):\n",
    "\n",
    "    if num_gpus == 4 and batch_size == 8:\n",
    "        train_dataset_len = 98832\n",
    "        dist_train_loader_len = 3089\n",
    "        val_dataset_len = 48935\n",
    "        dist_val_loader_len = 1530\n",
    "    if num_gpus == 4 and batch_size == 16:\n",
    "        train_dataset_len = 98832\n",
    "        dist_train_loader_len = 1545\n",
    "        val_dataset_len = 48935\n",
    "        dist_val_loader_len = 765\n",
    "    if num_gpus == 3 and batch_size == 11:\n",
    "        train_dataset_len = 98832\n",
    "        dist_train_loader_len = 2995\n",
    "        val_dataset_len = 48935\n",
    "        dist_val_loader_len = 1483\n",
    "    if num_gpus == 2 and batch_size == 8:\n",
    "        train_dataset_len = 98832\n",
    "        dist_train_loader_len = 6177\n",
    "        val_dataset_len = 48935\n",
    "        dist_val_loader_len = 3059\n",
    "\n",
    "    return (\n",
    "        train_dataset_len,\n",
    "        dist_train_loader_len,\n",
    "        val_dataset_len,\n",
    "        dist_val_loader_len\n",
    "    )"
   ]
  },
  {
   "cell_type": "code",
   "execution_count": 24,
   "metadata": {},
   "outputs": [
    {
     "name": "stdout",
     "output_type": "stream",
     "text": [
      "train_dataset_len 98832\n",
      "dist_train_loader_len 3089\n",
      "val_dataset_len 48935\n",
      "dist_val_loader_len 1530\n"
     ]
    }
   ],
   "source": [
    "(\n",
    "    train_dataset_len,\n",
    "    dist_train_loader_len,\n",
    "    val_dataset_len,\n",
    "    dist_val_loader_len\n",
    ") = get_dataset_lens(4, 8)\n",
    "\n",
    "print(\"train_dataset_len\", train_dataset_len)\n",
    "print(\"dist_train_loader_len\", dist_train_loader_len)\n",
    "print(\"val_dataset_len\", val_dataset_len)\n",
    "print(\"dist_val_loader_len\", dist_val_loader_len)"
   ]
  },
  {
   "attachments": {},
   "cell_type": "markdown",
   "metadata": {},
   "source": [
    "---"
   ]
  },
  {
   "attachments": {},
   "cell_type": "markdown",
   "metadata": {},
   "source": [
    "# Stage 1 EfficientNet V2 Small"
   ]
  },
  {
   "cell_type": "code",
   "execution_count": 27,
   "metadata": {},
   "outputs": [
    {
     "name": "stdout",
     "output_type": "stream",
     "text": [
      "/home-net/gortega/data/fashion_retrieval/ret_train_DDP_2/efficientnet_v2_s/run_006/train_ret_DDP_stage_1__data.json\n",
      "2 8\n",
      "/home-net/gortega/data/fashion_retrieval/ret_train_DDP_2/efficientnet_v2_s/run_003/train_ret_DDP_stage_1__data.json\n",
      "4 8\n",
      "/home-net/gortega/data/fashion_retrieval/ret_train_DDP_2/efficientnet_v2_s/run_000/train_ret_DDP_stage_1__data.json\n",
      "4 8\n",
      "/home-net/gortega/data/fashion_retrieval/ret_train_DDP_2/efficientnet_v2_s/run_002/train_ret_DDP_stage_1__data.json\n",
      "4 8\n",
      "/home-net/gortega/data/fashion_retrieval/ret_train_DDP_2/efficientnet_v2_s/run_005/train_ret_DDP_stage_1__data.json\n",
      "4 8\n",
      "/home-net/gortega/data/fashion_retrieval/ret_train_DDP_2/efficientnet_v2_s/run_008/train_ret_DDP_stage_1__data.json\n",
      "2 8\n",
      "/home-net/gortega/data/fashion_retrieval/ret_train_DDP_2/efficientnet_v2_s/run_007/train_ret_DDP_stage_1__data.json\n",
      "2 8\n",
      "/home-net/gortega/data/fashion_retrieval/ret_train_DDP_2/efficientnet_v2_s/run_001/train_ret_DDP_stage_1__data.json\n",
      "4 8\n",
      "/home-net/gortega/data/fashion_retrieval/ret_train_DDP_2/efficientnet_v2_s/run_004/train_ret_DDP_stage_1__data.json\n",
      "4 8\n"
     ]
    }
   ],
   "source": [
    "data_dir = os.path.join(pathlib.Path.home(), \"data\", \"fashion_retrieval\", \"ret_train_DDP_2\", \"efficientnet_v2_s\")\n",
    "\n",
    "for data_subdir in os.listdir(data_dir):\n",
    "\n",
    "    data_filename = os.path.join(data_dir, data_subdir, \"train_ret_DDP_stage_1__data.json\")\n",
    "    print(data_filename)\n",
    "\n",
    "    data = load_json_dict(data_filename)\n",
    "\n",
    "    num_gpus = len(data[\"settings\"][\"gpu_usage\"])\n",
    "    batch_size = data[\"settings\"][\"stage_1\"][\"data_loading\"][\"batch_size\"]\n",
    "    print(num_gpus, batch_size)\n",
    "\n",
    "    (\n",
    "        train_dataset_len,\n",
    "        dist_train_loader_len,\n",
    "        val_dataset_len,\n",
    "        dist_val_loader_len\n",
    "    ) = get_dataset_lens(num_gpus, batch_size)\n",
    "\n",
    "    for idx in range(len(data[\"results\"][\"stage_1\"][\"train_mean_loss_list\"])):\n",
    "        for iidx in range(len(data[\"results\"][\"stage_1\"][\"train_mean_loss_list\"][idx])):\n",
    "            data[\"results\"][\"stage_1\"][\"train_mean_loss_list\"][idx][iidx] *= dist_train_loader_len\n",
    "            data[\"results\"][\"stage_1\"][\"train_mean_loss_list\"][idx][iidx] /= train_dataset_len\n",
    "\n",
    "    for idx in range(len(data[\"results\"][\"stage_1\"][\"val_mean_loss_list\"])):\n",
    "        for iidx in range(len(data[\"results\"][\"stage_1\"][\"val_mean_loss_list\"][idx])):\n",
    "            data[\"results\"][\"stage_1\"][\"val_mean_loss_list\"][idx][iidx] *= dist_val_loader_len\n",
    "            data[\"results\"][\"stage_1\"][\"val_mean_loss_list\"][idx][iidx] /= val_dataset_len\n",
    "\n",
    "    save_json_dict(data_filename, data)"
   ]
  },
  {
   "attachments": {},
   "cell_type": "markdown",
   "metadata": {},
   "source": [
    "# Stage 1 Swin Transformer V2 Tiny"
   ]
  },
  {
   "cell_type": "code",
   "execution_count": 28,
   "metadata": {},
   "outputs": [
    {
     "name": "stdout",
     "output_type": "stream",
     "text": [
      "/home-net/gortega/data/fashion_retrieval/ret_train_DDP_2/swint_v2_t/run_006/train_ret_DDP_stage_1__data.json\n",
      "4 8\n",
      "/home-net/gortega/data/fashion_retrieval/ret_train_DDP_2/swint_v2_t/run_003/train_ret_DDP_stage_1__data.json\n",
      "4 8\n",
      "/home-net/gortega/data/fashion_retrieval/ret_train_DDP_2/swint_v2_t/run_000/train_ret_DDP_stage_1__data.json\n",
      "4 8\n",
      "/home-net/gortega/data/fashion_retrieval/ret_train_DDP_2/swint_v2_t/run_002/train_ret_DDP_stage_1__data.json\n",
      "4 8\n",
      "/home-net/gortega/data/fashion_retrieval/ret_train_DDP_2/swint_v2_t/run_009/train_ret_DDP_stage_1__data.json\n",
      "3 11\n",
      "/home-net/gortega/data/fashion_retrieval/ret_train_DDP_2/swint_v2_t/run_005/train_ret_DDP_stage_1__data.json\n",
      "4 16\n",
      "/home-net/gortega/data/fashion_retrieval/ret_train_DDP_2/swint_v2_t/run_008/train_ret_DDP_stage_1__data.json\n",
      "3 11\n",
      "/home-net/gortega/data/fashion_retrieval/ret_train_DDP_2/swint_v2_t/run_007/train_ret_DDP_stage_1__data.json\n",
      "4 8\n",
      "/home-net/gortega/data/fashion_retrieval/ret_train_DDP_2/swint_v2_t/run_001/train_ret_DDP_stage_1__data.json\n",
      "4 8\n",
      "/home-net/gortega/data/fashion_retrieval/ret_train_DDP_2/swint_v2_t/run_004/train_ret_DDP_stage_1__data.json\n",
      "4 8\n"
     ]
    }
   ],
   "source": [
    "data_dir = os.path.join(pathlib.Path.home(), \"data\", \"fashion_retrieval\", \"ret_train_DDP_2\", \"swint_v2_t\")\n",
    "\n",
    "for data_subdir in os.listdir(data_dir):\n",
    "\n",
    "    data_filename = os.path.join(data_dir, data_subdir, \"train_ret_DDP_stage_1__data.json\")\n",
    "    print(data_filename)\n",
    "\n",
    "    data = load_json_dict(data_filename)\n",
    "\n",
    "    num_gpus = len(data[\"settings\"][\"gpu_usage\"])\n",
    "    batch_size = data[\"settings\"][\"stage_1\"][\"data_loading\"][\"batch_size\"]\n",
    "    print(num_gpus, batch_size)\n",
    "\n",
    "    (\n",
    "        train_dataset_len,\n",
    "        dist_train_loader_len,\n",
    "        val_dataset_len,\n",
    "        dist_val_loader_len\n",
    "    ) = get_dataset_lens(num_gpus, batch_size)\n",
    "\n",
    "    for idx in range(len(data[\"results\"][\"stage_1\"][\"train_mean_loss_list\"])):\n",
    "        for iidx in range(len(data[\"results\"][\"stage_1\"][\"train_mean_loss_list\"][idx])):\n",
    "            data[\"results\"][\"stage_1\"][\"train_mean_loss_list\"][idx][iidx] *= dist_train_loader_len\n",
    "            data[\"results\"][\"stage_1\"][\"train_mean_loss_list\"][idx][iidx] /= train_dataset_len\n",
    "\n",
    "    for idx in range(len(data[\"results\"][\"stage_1\"][\"val_mean_loss_list\"])):\n",
    "        for iidx in range(len(data[\"results\"][\"stage_1\"][\"val_mean_loss_list\"][idx])):\n",
    "            data[\"results\"][\"stage_1\"][\"val_mean_loss_list\"][idx][iidx] *= dist_val_loader_len\n",
    "            data[\"results\"][\"stage_1\"][\"val_mean_loss_list\"][idx][iidx] /= val_dataset_len\n",
    "\n",
    "    save_json_dict(data_filename, data)"
   ]
  }
 ],
 "metadata": {
  "kernelspec": {
   "display_name": ".venv",
   "language": "python",
   "name": "python3"
  },
  "language_info": {
   "codemirror_mode": {
    "name": "ipython",
    "version": 3
   },
   "file_extension": ".py",
   "mimetype": "text/x-python",
   "name": "python",
   "nbconvert_exporter": "python",
   "pygments_lexer": "ipython3",
   "version": "3.8.10"
  },
  "orig_nbformat": 4,
  "vscode": {
   "interpreter": {
    "hash": "c1d9cd8eb66510c5ec86eb907d6561b8001175da1689fbe0f45c40d854d32b14"
   }
  }
 },
 "nbformat": 4,
 "nbformat_minor": 2
}
