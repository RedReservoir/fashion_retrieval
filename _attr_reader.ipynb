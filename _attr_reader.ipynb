{
 "cells": [
  {
   "cell_type": "code",
   "execution_count": 1,
   "metadata": {},
   "outputs": [],
   "source": [
    "import os\n",
    "import pathlib"
   ]
  },
  {
   "cell_type": "code",
   "execution_count": 2,
   "metadata": {},
   "outputs": [
    {
     "data": {
      "text/plain": [
       "True"
      ]
     },
     "execution_count": 2,
     "metadata": {},
     "output_type": "execute_result"
    }
   ],
   "source": [
    "name_filename = os.path.join(\n",
    "    pathlib.Path.home(),\n",
    "    \"data\",\n",
    "    \"DeepFashion\",\n",
    "    \"Consumer-to-shop Clothes Retrieval Benchmark\",\n",
    "    \"Anno\",\n",
    "    \"list_attr_cloth.txt\"\n",
    ")\n",
    "\n",
    "os.path.exists(name_filename)"
   ]
  },
  {
   "cell_type": "code",
   "execution_count": 3,
   "metadata": {},
   "outputs": [],
   "source": [
    "name_list = []\n",
    "name_file = open(name_filename, \"r\")\n",
    "\n",
    "for _ in range(2): _ = name_file.readline()\n",
    "\n",
    "for line in name_file.readlines():\n",
    "    tkns = line.split()\n",
    "    \n",
    "    start_idx = 1\n",
    "    if tkns[1][-1] == \")\":\n",
    "        start_idx = 2\n",
    "    \n",
    "    attr_name = \" \".join(tkns[start_idx:-1])\n",
    "    name_list.append(attr_name)\n",
    "\n",
    "name_file.close()"
   ]
  },
  {
   "cell_type": "code",
   "execution_count": 4,
   "metadata": {},
   "outputs": [
    {
     "data": {
      "text/plain": [
       "True"
      ]
     },
     "execution_count": 4,
     "metadata": {},
     "output_type": "execute_result"
    }
   ],
   "source": [
    "attr_filename = os.path.join(\n",
    "    pathlib.Path.home(),\n",
    "    \"data\",\n",
    "    \"DeepFashion\",\n",
    "    \"Consumer-to-shop Clothes Retrieval Benchmark\",\n",
    "    \"Anno\",\n",
    "    \"list_attr_items.txt\"\n",
    ")\n",
    "\n",
    "os.path.exists(attr_filename)"
   ]
  },
  {
   "cell_type": "code",
   "execution_count": 5,
   "metadata": {},
   "outputs": [],
   "source": [
    "item_ids = [\n",
    "    15791,\n",
    "    17752,\n",
    "    17330,\n",
    "    17200,\n",
    "    2360,\n",
    "    2010\n",
    "]\n",
    "\n",
    "attr_dict = {}\n",
    "attr_file = open(attr_filename, \"r\")\n",
    "\n",
    "for _ in range(2): _ = attr_file.readline()\n",
    "\n",
    "for line in attr_file.readlines():\n",
    "    tkns = line.split()\n",
    "    item_id = int(tkns[0][3:])\n",
    "    if item_id in item_ids:\n",
    "        attr_dict[item_id] = [int(s) for s in tkns[1:]]\n",
    "\n",
    "attr_file.close()"
   ]
  },
  {
   "cell_type": "code",
   "execution_count": 9,
   "metadata": {},
   "outputs": [
    {
     "name": "stdout",
     "output_type": "stream",
     "text": [
      "Straight pants                                      +1  -1\n",
      "Holed                                               +1  -1\n",
      "Sanded                                              +1  -1\n",
      "Medium Rise                                         +1  -1\n",
      "High Rise                                           -1  +1\n",
      "Regular thickness                                   +1  -1\n"
     ]
    }
   ],
   "source": [
    "attr_list_1 = attr_dict[15791]\n",
    "attr_list_2 = attr_dict[17752]\n",
    "\n",
    "for idx, (attr_1, attr_2) in enumerate(zip(attr_list_1, attr_list_2)):\n",
    "    if attr_1 != attr_2:\n",
    "        print(\"{:50s} {:+3d} {:+3d}\".format(name_list[idx], attr_1, attr_2))\n"
   ]
  },
  {
   "cell_type": "code",
   "execution_count": 10,
   "metadata": {},
   "outputs": [
    {
     "name": "stdout",
     "output_type": "stream",
     "text": [
      "Japan/Korean                                        -1  +1\n",
      "Street fashion                                      +1  -1\n",
      "Cotton                                              +1  -1\n",
      "Cartoon                                             +1  -1\n",
      "Cartoon                                             +1  -1\n",
      "Abstract                                            -1  +1\n",
      "Short Sleeves                                       +1  -1\n",
      "Half Sleeves/Ballet sleeve                          -1  +1\n",
      "Regular Sleeves                                     -1  +1\n",
      "Batwing Sleeves                                     +1  -1\n"
     ]
    }
   ],
   "source": [
    "attr_list_1 = attr_dict[17330]\n",
    "attr_list_2 = attr_dict[17200]\n",
    "\n",
    "for idx, (attr_1, attr_2) in enumerate(zip(attr_list_1, attr_list_2)):\n",
    "    if attr_1 != attr_2:\n",
    "        print(\"{:50s} {:+3d} {:+3d}\".format(name_list[idx], attr_1, attr_2))\n"
   ]
  },
  {
   "cell_type": "code",
   "execution_count": 11,
   "metadata": {},
   "outputs": [
    {
     "name": "stdout",
     "output_type": "stream",
     "text": [
      "Mashups                                             -1  +1\n",
      "Decal                                               -1  +1\n",
      "Single breasted                                     -1  +1\n",
      "Single breasted                                     -1  +1\n",
      "Sportswear                                          -1  +1\n",
      "Printing                                            -1  +1\n",
      "Splice                                              -1  +1\n",
      "Alphabets/Letters                                   +1  -1\n",
      "Alphabets/Letters                                   +1  -1\n",
      "Printing                                            -1  +1\n",
      "Regular thickness                                   +1  -1\n",
      "Regular Sleeves                                     -1  +1\n"
     ]
    }
   ],
   "source": [
    "attr_list_1 = attr_dict[2360]\n",
    "attr_list_2 = attr_dict[2010]\n",
    "\n",
    "for idx, (attr_1, attr_2) in enumerate(zip(attr_list_1, attr_list_2)):\n",
    "    if attr_1 != attr_2:\n",
    "        print(\"{:50s} {:+3d} {:+3d}\".format(name_list[idx], attr_1, attr_2))\n"
   ]
  },
  {
   "cell_type": "code",
   "execution_count": null,
   "metadata": {},
   "outputs": [],
   "source": []
  }
 ],
 "metadata": {
  "kernelspec": {
   "display_name": ".venv",
   "language": "python",
   "name": "python3"
  },
  "language_info": {
   "codemirror_mode": {
    "name": "ipython",
    "version": 3
   },
   "file_extension": ".py",
   "mimetype": "text/x-python",
   "name": "python",
   "nbconvert_exporter": "python",
   "pygments_lexer": "ipython3",
   "version": "3.8.10"
  },
  "orig_nbformat": 4,
  "vscode": {
   "interpreter": {
    "hash": "c1d9cd8eb66510c5ec86eb907d6561b8001175da1689fbe0f45c40d854d32b14"
   }
  }
 },
 "nbformat": 4,
 "nbformat_minor": 2
}
