{
 "cells": [
  {
   "cell_type": "code",
   "execution_count": 1,
   "metadata": {},
   "outputs": [],
   "source": [
    "import torch\n",
    "import torchvision\n",
    "\n",
    "from torchvision import models\n",
    "\n",
    "import datasets.deep_fashion_ctsrbm\n",
    "\n",
    "import os\n",
    "import pathlib\n",
    "\n",
    "import arch.backbones_trf"
   ]
  },
  {
   "attachments": {},
   "cell_type": "markdown",
   "metadata": {},
   "source": [
    "---"
   ]
  },
  {
   "cell_type": "code",
   "execution_count": 2,
   "metadata": {},
   "outputs": [],
   "source": [
    "model = torchvision.models.swin_v2_t()"
   ]
  },
  {
   "cell_type": "code",
   "execution_count": 3,
   "metadata": {},
   "outputs": [],
   "source": [
    "with open(\"misc/swin_v2_t_model_arch.txt\", \"w\") as out_file:\n",
    "    print(model, file=out_file)"
   ]
  },
  {
   "attachments": {},
   "cell_type": "markdown",
   "metadata": {},
   "source": [
    "---"
   ]
  },
  {
   "cell_type": "code",
   "execution_count": 4,
   "metadata": {},
   "outputs": [],
   "source": [
    "model = torchvision.models.swin_v2_t()"
   ]
  },
  {
   "cell_type": "code",
   "execution_count": 5,
   "metadata": {},
   "outputs": [],
   "source": [
    "ctsrbm_image_transform = torchvision.models.Swin_V2_T_Weights.DEFAULT.transforms()\n",
    "ctsrbm_image_transform.antialias = True\n",
    "ctsrbm_dataset_dir = os.path.join(pathlib.Path.home(), \"data\", \"DeepFashion\", \"Consumer-to-shop Clothes Retrieval Benchmark\")\n",
    "ctsrbm_dataset = datasets.deep_fashion_ctsrbm.ConsToShopClothRetrBmkImageLoader(ctsrbm_dataset_dir, ctsrbm_image_transform)"
   ]
  },
  {
   "cell_type": "code",
   "execution_count": 6,
   "metadata": {},
   "outputs": [
    {
     "data": {
      "text/plain": [
       "ImageClassification(\n",
       "    crop_size=[256]\n",
       "    resize_size=[260]\n",
       "    mean=[0.485, 0.456, 0.406]\n",
       "    std=[0.229, 0.224, 0.225]\n",
       "    interpolation=InterpolationMode.BICUBIC\n",
       ")"
      ]
     },
     "execution_count": 6,
     "metadata": {},
     "output_type": "execute_result"
    }
   ],
   "source": [
    "ctsrbm_image_transform"
   ]
  },
  {
   "cell_type": "code",
   "execution_count": 7,
   "metadata": {},
   "outputs": [
    {
     "data": {
      "text/plain": [
       "<torch.utils.hooks.RemovableHandle at 0x7f67ea4c19d0>"
      ]
     },
     "execution_count": 7,
     "metadata": {},
     "output_type": "execute_result"
    }
   ],
   "source": [
    "activation = {}\n",
    "def get_activation(name):\n",
    "    def hook(model, input, output):\n",
    "        activation[name] = output.detach()\n",
    "    return hook\n",
    "\n",
    "model.features.register_forward_hook(get_activation('features'))\n",
    "model.norm.register_forward_hook(get_activation('norm'))\n",
    "model.permute.register_forward_hook(get_activation('permute'))\n",
    "model.avgpool.register_forward_hook(get_activation('avgpool'))\n",
    "model.flatten.register_forward_hook(get_activation('flatten'))\n",
    "model.head.register_forward_hook(get_activation('head'))"
   ]
  },
  {
   "cell_type": "code",
   "execution_count": 8,
   "metadata": {},
   "outputs": [],
   "source": [
    "input = ctsrbm_dataset[0][0][None, :]\n",
    "output = model(input)"
   ]
  },
  {
   "cell_type": "code",
   "execution_count": 9,
   "metadata": {},
   "outputs": [
    {
     "name": "stdout",
     "output_type": "stream",
     "text": [
      "input                torch.Size([1, 3, 256, 256])\n",
      "output               torch.Size([1, 1000])\n",
      "---\n",
      "features             torch.Size([1, 8, 8, 768])\n",
      "norm                 torch.Size([1, 8, 8, 768])\n",
      "permute              torch.Size([1, 768, 8, 8])\n",
      "avgpool              torch.Size([1, 768, 1, 1])\n",
      "flatten              torch.Size([1, 768])\n",
      "head                 torch.Size([1, 1000])\n"
     ]
    }
   ],
   "source": [
    "print(\"{:20s} {:}\".format(\"input\", input.shape))\n",
    "print(\"{:20s} {:}\".format(\"output\", output.shape))\n",
    "\n",
    "print(\"---\")\n",
    "\n",
    "for key, item in activation.items():\n",
    "    print(\"{:20s} {:}\".format(key, item.shape))"
   ]
  },
  {
   "attachments": {},
   "cell_type": "markdown",
   "metadata": {},
   "source": [
    "---"
   ]
  },
  {
   "cell_type": "code",
   "execution_count": 10,
   "metadata": {},
   "outputs": [],
   "source": [
    "model = torchvision.models.swin_v2_t()"
   ]
  },
  {
   "cell_type": "code",
   "execution_count": 11,
   "metadata": {},
   "outputs": [],
   "source": [
    "ctsrbm_image_transform = torchvision.models.Swin_V2_T_Weights.DEFAULT.transforms()\n",
    "ctsrbm_image_transform.antialias = True\n",
    "ctsrbm_image_transform.crop_size = [512]\n",
    "ctsrbm_image_transform.resize_size = [520]\n",
    "ctsrbm_dataset_dir = os.path.join(pathlib.Path.home(), \"data\", \"DeepFashion\", \"Consumer-to-shop Clothes Retrieval Benchmark\")\n",
    "ctsrbm_dataset = datasets.deep_fashion_ctsrbm.ConsToShopClothRetrBmkImageLoader(ctsrbm_dataset_dir, ctsrbm_image_transform)"
   ]
  },
  {
   "cell_type": "code",
   "execution_count": 12,
   "metadata": {},
   "outputs": [
    {
     "data": {
      "text/plain": [
       "ImageClassification(\n",
       "    crop_size=[512]\n",
       "    resize_size=[520]\n",
       "    mean=[0.485, 0.456, 0.406]\n",
       "    std=[0.229, 0.224, 0.225]\n",
       "    interpolation=InterpolationMode.BICUBIC\n",
       ")"
      ]
     },
     "execution_count": 12,
     "metadata": {},
     "output_type": "execute_result"
    }
   ],
   "source": [
    "ctsrbm_image_transform"
   ]
  },
  {
   "cell_type": "code",
   "execution_count": 13,
   "metadata": {},
   "outputs": [
    {
     "data": {
      "text/plain": [
       "<torch.utils.hooks.RemovableHandle at 0x7f67d5afc040>"
      ]
     },
     "execution_count": 13,
     "metadata": {},
     "output_type": "execute_result"
    }
   ],
   "source": [
    "activation = {}\n",
    "def get_activation(name):\n",
    "    def hook(model, input, output):\n",
    "        activation[name] = output.detach()\n",
    "    return hook\n",
    "\n",
    "model.features.register_forward_hook(get_activation('features'))\n",
    "model.norm.register_forward_hook(get_activation('norm'))\n",
    "model.permute.register_forward_hook(get_activation('permute'))\n",
    "model.avgpool.register_forward_hook(get_activation('avgpool'))\n",
    "model.flatten.register_forward_hook(get_activation('flatten'))\n",
    "model.head.register_forward_hook(get_activation('head'))"
   ]
  },
  {
   "cell_type": "code",
   "execution_count": 14,
   "metadata": {},
   "outputs": [],
   "source": [
    "input = ctsrbm_dataset[0][0][None, :]\n",
    "output = model(input)"
   ]
  },
  {
   "cell_type": "code",
   "execution_count": 15,
   "metadata": {},
   "outputs": [
    {
     "name": "stdout",
     "output_type": "stream",
     "text": [
      "input                torch.Size([1, 3, 512, 512])\n",
      "output               torch.Size([1, 1000])\n",
      "---\n",
      "features             torch.Size([1, 16, 16, 768])\n",
      "norm                 torch.Size([1, 16, 16, 768])\n",
      "permute              torch.Size([1, 768, 16, 16])\n",
      "avgpool              torch.Size([1, 768, 1, 1])\n",
      "flatten              torch.Size([1, 768])\n",
      "head                 torch.Size([1, 1000])\n"
     ]
    }
   ],
   "source": [
    "print(\"{:20s} {:}\".format(\"input\", input.shape))\n",
    "print(\"{:20s} {:}\".format(\"output\", output.shape))\n",
    "\n",
    "print(\"---\")\n",
    "\n",
    "for key, item in activation.items():\n",
    "    print(\"{:20s} {:}\".format(key, item.shape))"
   ]
  },
  {
   "attachments": {},
   "cell_type": "markdown",
   "metadata": {},
   "source": [
    "---"
   ]
  },
  {
   "cell_type": "code",
   "execution_count": 16,
   "metadata": {},
   "outputs": [],
   "source": [
    "model = torchvision.models.swin_v2_t()"
   ]
  },
  {
   "cell_type": "code",
   "execution_count": 17,
   "metadata": {},
   "outputs": [],
   "source": [
    "ctsrbm_image_transform = torchvision.models.Swin_V2_T_Weights.DEFAULT.transforms()\n",
    "ctsrbm_image_transform.antialias = True\n",
    "ctsrbm_image_transform.crop_size = [768]\n",
    "ctsrbm_image_transform.resize_size = [780]\n",
    "ctsrbm_dataset_dir = os.path.join(pathlib.Path.home(), \"data\", \"DeepFashion\", \"Consumer-to-shop Clothes Retrieval Benchmark\")\n",
    "ctsrbm_dataset = datasets.deep_fashion_ctsrbm.ConsToShopClothRetrBmkImageLoader(ctsrbm_dataset_dir, ctsrbm_image_transform)"
   ]
  },
  {
   "cell_type": "code",
   "execution_count": 18,
   "metadata": {},
   "outputs": [
    {
     "data": {
      "text/plain": [
       "ImageClassification(\n",
       "    crop_size=[768]\n",
       "    resize_size=[780]\n",
       "    mean=[0.485, 0.456, 0.406]\n",
       "    std=[0.229, 0.224, 0.225]\n",
       "    interpolation=InterpolationMode.BICUBIC\n",
       ")"
      ]
     },
     "execution_count": 18,
     "metadata": {},
     "output_type": "execute_result"
    }
   ],
   "source": [
    "ctsrbm_image_transform"
   ]
  },
  {
   "cell_type": "code",
   "execution_count": 19,
   "metadata": {},
   "outputs": [
    {
     "data": {
      "text/plain": [
       "<torch.utils.hooks.RemovableHandle at 0x7f67ea44cd90>"
      ]
     },
     "execution_count": 19,
     "metadata": {},
     "output_type": "execute_result"
    }
   ],
   "source": [
    "activation = {}\n",
    "def get_activation(name):\n",
    "    def hook(model, input, output):\n",
    "        activation[name] = output.detach()\n",
    "    return hook\n",
    "\n",
    "model.permute.register_forward_hook(get_activation('permute'))"
   ]
  },
  {
   "cell_type": "code",
   "execution_count": 21,
   "metadata": {},
   "outputs": [
    {
     "name": "stdout",
     "output_type": "stream",
     "text": [
      "4 1\n",
      "36 2\n",
      "68 3\n",
      "100 4\n",
      "132 5\n",
      "164 6\n",
      "196 7\n",
      "228 8\n",
      "260 9\n",
      "292 10\n",
      "324 11\n",
      "356 12\n",
      "388 13\n",
      "420 14\n",
      "452 15\n",
      "484 16\n",
      "516 17\n",
      "548 18\n",
      "580 19\n",
      "612 20\n",
      "644 21\n",
      "676 22\n",
      "708 23\n",
      "740 24\n"
     ]
    }
   ],
   "source": [
    "last_perm_size = 0\n",
    "\n",
    "for size in range(4, 768 + 1):\n",
    "\n",
    "    input = ctsrbm_dataset[0][0][None, :, :size, :size]\n",
    "    output = model(input)\n",
    "\n",
    "    for key, item in activation.items():\n",
    "        if key == \"permute\":\n",
    "            perm_size = item.size(3)\n",
    "\n",
    "    if last_perm_size < perm_size:\n",
    "        print(size, perm_size)\n",
    "        last_perm_size = perm_size"
   ]
  },
  {
   "cell_type": "code",
   "execution_count": 22,
   "metadata": {},
   "outputs": [],
   "source": [
    "for size in range(4, 768 + 1):\n",
    "\n",
    "    input = ctsrbm_dataset[0][0][None, :, :size, :size]\n",
    "    output = model(input)\n",
    "\n",
    "    for key, item in activation.items():\n",
    "        if key == \"permute\":\n",
    "            perm_size = item.size(3)\n",
    "\n",
    "    theo_perm_size = ((size - 4) // 32) + 1\n",
    "\n",
    "    if perm_size != theo_perm_size:\n",
    "        print(size, perm_size, theo_perm_size)"
   ]
  }
 ],
 "metadata": {
  "kernelspec": {
   "display_name": ".venv",
   "language": "python",
   "name": "python3"
  },
  "language_info": {
   "codemirror_mode": {
    "name": "ipython",
    "version": 3
   },
   "file_extension": ".py",
   "mimetype": "text/x-python",
   "name": "python",
   "nbconvert_exporter": "python",
   "pygments_lexer": "ipython3",
   "version": "3.8.10"
  },
  "orig_nbformat": 4,
  "vscode": {
   "interpreter": {
    "hash": "649142fb4cdab8a2d2387ea4a1c8e262f08b2b20e4af0e114d36ea602bf8b868"
   }
  }
 },
 "nbformat": 4,
 "nbformat_minor": 2
}
