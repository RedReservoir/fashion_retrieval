{
 "cells": [
  {
   "cell_type": "code",
   "execution_count": 1,
   "metadata": {},
   "outputs": [],
   "source": [
    "import os\n",
    "import pathlib\n",
    "\n",
    "import itertools\n",
    "\n",
    "import src.utils.json"
   ]
  },
  {
   "attachments": {},
   "cell_type": "markdown",
   "metadata": {},
   "source": [
    "---"
   ]
  },
  {
   "attachments": {},
   "cell_type": "markdown",
   "metadata": {},
   "source": [
    "# Stage 1 ConvNeXt Tiny Pyramid"
   ]
  },
  {
   "cell_type": "code",
   "execution_count": 2,
   "metadata": {},
   "outputs": [],
   "source": [
    "exp_params_template =\\\n",
    "    {\n",
    "        \"experiment_name\": \"ret_train_pyr/convnext_t_s1/exp_000\",\n",
    "        \"settings\": {\n",
    "            \"device_idxs\": [3, 4, 5, 6],\n",
    "            \"backbone\": {\n",
    "                \"class\": \"ConvNeXtTinyPyramidBackbone\",\n",
    "                \"img_size\": 224\n",
    "            },\n",
    "            \"head\": {\n",
    "                \"class\": \"RetrievalPyramidHead\",\n",
    "                \"in_feat_idxs\": [0, 1, 2, 3],\n",
    "                \"emb_size\": 1024\n",
    "            },\n",
    "            \"data_loading\": {\n",
    "                \"cutdown_ratio\": 1\n",
    "            },\n",
    "            \"stage_1\": {\n",
    "                \"max_epochs\": 3,\n",
    "                \"optimizer\": {\n",
    "                    \"class\": \"SGD\",\n",
    "                    \"lr\": 1e-4,\n",
    "                    \"momentum\": 0.9\n",
    "                },\n",
    "                \"scheduler\": {\n",
    "                    \"class\": \"ExponentialLR\",\n",
    "                    \"gamma\": 0.95\n",
    "                },\n",
    "                \"early_stopper\": {\n",
    "                    \"patience\": 5,\n",
    "                    \"min_delta\": 1e-06\n",
    "                },\n",
    "                \"data_loading\": {\n",
    "                    \"train_random_seed\": 42,\n",
    "                    \"batch_size\": 16,\n",
    "                    \"num_workers\": 4,\n",
    "                    \"grad_acc_iters\": 1\n",
    "                },\n",
    "                \"autocast\": {\n",
    "                    \"enabled\": False\n",
    "                },\n",
    "                \"data_gradual_inc\": {\n",
    "                    \"enabled\": False\n",
    "                }\n",
    "            }\n",
    "        }\n",
    "    }"
   ]
  },
  {
   "cell_type": "code",
   "execution_count": 6,
   "metadata": {},
   "outputs": [],
   "source": [
    "lr_list = [\n",
    "    1e-4,\n",
    "    3e-4,\n",
    "    1e-3\n",
    "]\n",
    "\n",
    "batch_size_list = [\n",
    "    16,\n",
    "    32\n",
    "]\n",
    "\n",
    "in_feat_idxs_list = [\n",
    "    [3]\n",
    "]\n",
    "\n",
    "#\n",
    "\n",
    "for exp_idx, (lr, batch_size, in_feat_idxs) in enumerate(itertools.product(lr_list, batch_size_list, in_feat_idxs_list)):\n",
    "\n",
    "    exp_idx += 18\n",
    "\n",
    "    exp_params = {}\n",
    "    exp_params.update(exp_params_template)\n",
    "\n",
    "    exp_params[\"experiment_name\"] = os.path.join(\n",
    "        \"ret_train_pyr\",\n",
    "        \"convnext_t_s1\",\n",
    "        \"exp_{:03d}\".format(exp_idx)\n",
    "    )\n",
    "\n",
    "    exp_params[\"settings\"][\"head\"][\"in_feat_idxs\"] = in_feat_idxs\n",
    "    exp_params[\"settings\"][\"stage_1\"][\"optimizer\"][\"lr\"] = lr\n",
    "    exp_params[\"settings\"][\"stage_1\"][\"data_loading\"][\"batch_size\"] = batch_size\n",
    "\n",
    "    exp_params[\"settings\"][\"device_idxs\"] = [2, 4, 5, 6]\n",
    "    \n",
    "    exp_params_filename = os.path.join(\n",
    "        pathlib.Path.home(),\n",
    "        \"fashion_retrieval\",\n",
    "        \"params\",\n",
    "        \"ret_train_pyr\",\n",
    "        \"convnext_t_s1\",\n",
    "        \"exp_{:03d}__train_ret_DDP_s1.json\".format(exp_idx)\n",
    "    )\n",
    "\n",
    "    src.utils.json.save_json_dict(\n",
    "        exp_params,\n",
    "        exp_params_filename\n",
    "    )"
   ]
  },
  {
   "cell_type": "code",
   "execution_count": 7,
   "metadata": {},
   "outputs": [
    {
     "name": "stdout",
     "output_type": "stream",
     "text": [
      "chmod u+x run__convnext_t_pyr_s1__107-2456.sh\n",
      "nohup ./run__convnext_t_pyr_s1__107-2456.sh > out__convnext_t_pyr_s1__107-2456.txt 2>&1 &\n"
     ]
    }
   ],
   "source": [
    "exec_filename = \"run__convnext_t_pyr_s1__107-2456.sh\"\n",
    "exec_file = open(exec_filename, \"w\")\n",
    "\n",
    "out_filename = \"out__convnext_t_pyr_s1__107-2456.txt\"\n",
    "\n",
    "for exp_idx, (lr, batch_size, in_feat_idxs) in enumerate(itertools.product(lr_list, batch_size_list, in_feat_idxs_list)):\n",
    "\n",
    "    exp_idx += 18\n",
    "\n",
    "    print(\"echo \\\"Running experiment {:s} {:03d}\\\"\".format(\"convnext_t_pyr_s1\", exp_idx), file=exec_file)\n",
    "    \n",
    "    print(\"python train_ret_DDP_s1.py {:s} --master_port 12355 --terminal_silent\".format(\n",
    "        os.path.join(\"params\", \"ret_train_pyr\", \"convnext_t_s1\", \"exp_{:03d}__train_ret_DDP_s1.json\".format(exp_idx))\n",
    "    ), file=exec_file)\n",
    "    \n",
    "    print(\"echo \\\"Finished experiment {:s} {:03d}\\\"\".format(\"convnext_t_pyr_s1\", exp_idx), file=exec_file)\n",
    "\n",
    "exec_file.close()\n",
    "\n",
    "#\n",
    "\n",
    "print(\"chmod u+x {:s}\".format(exec_filename))\n",
    "print(\"nohup ./{:s} > {:s} 2>&1 &\".format(exec_filename, out_filename))"
   ]
  },
  {
   "cell_type": "code",
   "execution_count": 17,
   "metadata": {},
   "outputs": [
    {
     "name": "stdout",
     "output_type": "stream",
     "text": [
      "chmod u+x run__convnext_t_pyr_s1__107-3789.sh\n",
      "nohup ./run__convnext_t_pyr_s1__107-3789.sh > out__convnext_t_pyr_s1__107-3789.txt 2>&1 &\n"
     ]
    }
   ],
   "source": [
    "exec_filename = \"run__convnext_t_pyr_s1__107-3789.sh\"\n",
    "exec_file = open(exec_filename, \"w\")\n",
    "\n",
    "out_filename = \"out__convnext_t_pyr_s1__107-3789.txt\"\n",
    "\n",
    "for exp_idx, (lr, batch_size, in_feat_idxs) in enumerate(itertools.product(lr_list, batch_size_list, in_feat_idxs_list)):\n",
    "\n",
    "    if exp_idx >= 9:\n",
    "\n",
    "        print(\"echo \\\"Running experiment {:s} {:03d}\\\"\".format(\"convnext_t_pyr_s1\", exp_idx), file=exec_file)\n",
    "        \n",
    "        print(\"python train_ret_DDP_s1.py {:s} --master_port 12356 --terminal_silent\".format(\n",
    "            os.path.join(\"params\", \"ret_train_pyr\", \"convnext_t_s1\", \"exp_{:03d}__train_ret_DDP_s1.json\".format(exp_idx))\n",
    "        ), file=exec_file)\n",
    "        \n",
    "        print(\"echo \\\"Finished experiment {:s} {:03d}\\\"\".format(\"convnext_t_pyr_s1\", exp_idx), file=exec_file)\n",
    "\n",
    "exec_file.close()\n",
    "\n",
    "#\n",
    "\n",
    "print(\"chmod u+x {:s}\".format(exec_filename))\n",
    "print(\"nohup ./{:s} > {:s} 2>&1 &\".format(exec_filename, out_filename))"
   ]
  }
 ],
 "metadata": {
  "kernelspec": {
   "display_name": "Python 3",
   "language": "python",
   "name": "python3"
  },
  "language_info": {
   "codemirror_mode": {
    "name": "ipython",
    "version": 3
   },
   "file_extension": ".py",
   "mimetype": "text/x-python",
   "name": "python",
   "nbconvert_exporter": "python",
   "pygments_lexer": "ipython3",
   "version": "3.8.10"
  },
  "orig_nbformat": 4,
  "vscode": {
   "interpreter": {
    "hash": "916dbcbb3f70747c44a77c7bcd40155683ae19c65e1c03b4aa3499c5328201f1"
   }
  }
 },
 "nbformat": 4,
 "nbformat_minor": 2
}
