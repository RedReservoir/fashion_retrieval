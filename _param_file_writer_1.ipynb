{
 "cells": [
  {
   "cell_type": "code",
   "execution_count": 1,
   "metadata": {},
   "outputs": [],
   "source": [
    "import os\n",
    "import pathlib\n",
    "import pprint\n",
    "import json\n",
    "import itertools"
   ]
  },
  {
   "cell_type": "code",
   "execution_count": 2,
   "metadata": {},
   "outputs": [],
   "source": [
    "def save_json_dict(\n",
    "        json_filename,\n",
    "        json_dict\n",
    "        ):\n",
    "\n",
    "    with open(json_filename, 'w') as json_file:\n",
    "        json.dump(json_dict, json_file, indent=4)\n",
    "\n",
    "\n",
    "def load_json_dict(\n",
    "        json_filename\n",
    "        ):\n",
    "\n",
    "    with open(json_filename, 'r') as json_file:\n",
    "        json_dict = json.load(json_file)\n",
    "\n",
    "    return json_dict"
   ]
  },
  {
   "attachments": {},
   "cell_type": "markdown",
   "metadata": {},
   "source": [
    "---"
   ]
  },
  {
   "cell_type": "code",
   "execution_count": null,
   "metadata": {},
   "outputs": [],
   "source": [
    "cutdown_ratio = 0.1\n",
    "\n",
    "#\n",
    "\n",
    "directory_list = [\n",
    "    \"efficientnet_v2_s\",\n",
    "    \"swint_v2_t\",\n",
    "    \"cvt_21-384-22k\"\n",
    "]\n",
    "\n",
    "backbone_list = [\n",
    "    \"EfficientNetV2SmallBackbone\",\n",
    "    \"SwinTransformerV2TinyBackbone\",\n",
    "    \"CvTransformerB21I384D22kBackbone\"\n",
    "]\n",
    "\n",
    "img_size_list = [\n",
    "    None\n",
    "]\n",
    "\n",
    "batch_size_list = [4, 8, 16]\n",
    "\n",
    "num_gpus_list = [1, 2, 3]\n",
    "\n",
    "autocast_list = [True, False]\n",
    "\n",
    "#\n",
    "\n",
    "for directory, backbone, image_size in zip(directory_list, backbone_list, img_size_list):\n",
    "\n",
    "    for exp_idx, (batch_size, num_gpus) in enumerate(zip(batch_size_list, num_gpus_list)):\n",
    "\n",
    "        template_params_filename = os.path.join(\"params\", \"templates\", \"ret_train_DDP_new.json\")\n",
    "        params = load_json_dict(template_params_filename)\n",
    "\n",
    "        #TODO\n",
    "\n",
    "\n",
    "        dest_params_filename = os.path.join(\"params\", \"ret_test_DDP_2\", directory, \"test_{:03d}__.json\".format(exp_idx))\n",
    "        params = save_json_dict(dest_params_filename)\n"
   ]
  },
  {
   "cell_type": "code",
   "execution_count": 3,
   "metadata": {},
   "outputs": [],
   "source": [
    "template_params = load_json_dict(os.path.join(\"params\", \"templates\", \"ret_train_DDP_new.json\"))"
   ]
  },
  {
   "cell_type": "code",
   "execution_count": 4,
   "metadata": {},
   "outputs": [
    {
     "name": "stdout",
     "output_type": "stream",
     "text": [
      "{'experiment_name': 'debug/test/test_000',\n",
      " 'settings': {'backbone': {'class': 'ResNet50Backbone', 'img_size': 576},\n",
      "              'data_loading': {'cutdown_ratio': 0.1},\n",
      "              'device_idxs': [0, 1],\n",
      "              'ret_head': {'emb_size': 1024},\n",
      "              'stage_1': {'autocast': {'enabled': False},\n",
      "                          'data_gradual_inc': {'enabled': False},\n",
      "                          'data_loading': {'batch_size': 16,\n",
      "                                           'grad_acc_iters': 1,\n",
      "                                           'num_workers': 4,\n",
      "                                           'train_random_seed': 42},\n",
      "                          'early_stopper': {'min_delta': 0, 'patience': 5},\n",
      "                          'max_epochs': 2,\n",
      "                          'optimizer': {'class': 'SGD',\n",
      "                                        'lr': 0.001,\n",
      "                                        'momentum': 0.9},\n",
      "                          'scheduler': {'class': 'ExponentialLR',\n",
      "                                        'gamma': 0.95}},\n",
      "              'stage_2': {'autocast': {'enabled': False},\n",
      "                          'data_gradual_inc': {'enabled': False},\n",
      "                          'data_loading': {'batch_size': 8,\n",
      "                                           'grad_acc_iters': 2,\n",
      "                                           'num_workers': 4,\n",
      "                                           'train_random_seed': 42},\n",
      "                          'early_stopper': {'min_delta': 0, 'patience': 8},\n",
      "                          'max_epochs': 2,\n",
      "                          'optimizer': {'class': 'SGD',\n",
      "                                        'lr': 1e-05,\n",
      "                                        'momentum': 0.9},\n",
      "                          'scheduler': {'class': 'ExponentialLR',\n",
      "                                        'gamma': 0.95}},\n",
      "              'test': {'data_loading': {'batch_size': 16, 'num_workers': 4}}}}\n"
     ]
    }
   ],
   "source": [
    "pprint.pprint(template_params)"
   ]
  },
  {
   "cell_type": "code",
   "execution_count": null,
   "metadata": {},
   "outputs": [],
   "source": []
  }
 ],
 "metadata": {
  "kernelspec": {
   "display_name": "Python 3",
   "language": "python",
   "name": "python3"
  },
  "language_info": {
   "codemirror_mode": {
    "name": "ipython",
    "version": 3
   },
   "file_extension": ".py",
   "mimetype": "text/x-python",
   "name": "python",
   "nbconvert_exporter": "python",
   "pygments_lexer": "ipython3",
   "version": "3.8.10"
  },
  "orig_nbformat": 4,
  "vscode": {
   "interpreter": {
    "hash": "916dbcbb3f70747c44a77c7bcd40155683ae19c65e1c03b4aa3499c5328201f1"
   }
  }
 },
 "nbformat": 4,
 "nbformat_minor": 2
}
