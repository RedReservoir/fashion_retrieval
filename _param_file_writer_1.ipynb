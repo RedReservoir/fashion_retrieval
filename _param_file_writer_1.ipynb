{
 "cells": [
  {
   "cell_type": "code",
   "execution_count": 4,
   "metadata": {},
   "outputs": [],
   "source": [
    "import os\n",
    "import pathlib\n",
    "import pprint\n",
    "import json\n",
    "import itertools\n",
    "import shutil"
   ]
  },
  {
   "cell_type": "code",
   "execution_count": 5,
   "metadata": {},
   "outputs": [],
   "source": [
    "def save_json_dict(\n",
    "        json_filename,\n",
    "        json_dict\n",
    "        ):\n",
    "\n",
    "    with open(json_filename, 'w') as json_file:\n",
    "        json.dump(json_dict, json_file, indent=4)\n",
    "\n",
    "\n",
    "def load_json_dict(\n",
    "        json_filename\n",
    "        ):\n",
    "\n",
    "    with open(json_filename, 'r') as json_file:\n",
    "        json_dict = json.load(json_file)\n",
    "\n",
    "    return json_dict"
   ]
  },
  {
   "attachments": {},
   "cell_type": "markdown",
   "metadata": {},
   "source": [
    "---"
   ]
  },
  {
   "cell_type": "code",
   "execution_count": 6,
   "metadata": {},
   "outputs": [
    {
     "name": "stdout",
     "output_type": "stream",
     "text": [
      "720\n"
     ]
    }
   ],
   "source": [
    "cutdown_ratio = 0.020\n",
    "\n",
    "#\n",
    "\n",
    "directory_list = [\n",
    "    \"efficientnet_v2_s\",\n",
    "    \"swint_v2_t\",\n",
    "    \"cvt_21-384-22k\"\n",
    "]\n",
    "\n",
    "backbone_list = [\n",
    "    \"EfficientNetV2SmallBackbone\",\n",
    "    \"SwinTransformerV2TinyBackbone\",\n",
    "    \"CvTransformerB21I384D22kBackbone\"\n",
    "]\n",
    "\n",
    "gpu_idxs_dict = {\n",
    "    \"efficientnet_v2_s\": {\n",
    "        1: [0],\n",
    "        2: [1, 2],\n",
    "        3: [0, 1, 2],\n",
    "        4: [0, 1, 2, 3]\n",
    "    },\n",
    "    \"swint_v2_t\": {\n",
    "        1: [0],\n",
    "        2: [1, 2],\n",
    "        3: [0, 1, 2],\n",
    "        4: [0, 1, 2, 3]\n",
    "    },\n",
    "    \"cvt_21-384-22k\": {\n",
    "        1: [0],\n",
    "        2: [1, 2],\n",
    "        3: [0, 1, 2],\n",
    "        4: [0, 1, 2, 3]\n",
    "    }\n",
    "}\n",
    "\n",
    "img_size_list = [256, 384]\n",
    "\n",
    "batch_size_list = [4, 8, 16, 32, 64]\n",
    "\n",
    "num_gpus_list = [1, 2, 3, 4]\n",
    "\n",
    "autocast_list = [True, False]\n",
    "\n",
    "num_workers_list = [2, 4, 8]\n",
    "\n",
    "#\n",
    "\n",
    "num_changes = 0\n",
    "\n",
    "params_dir = os.path.join(pathlib.Path.home(), \"fashion_retrieval\", \"params\", \"ret_test_DDP_2\")\n",
    "#if os.path.exists(params_dir): shutil.rmtree(params_dir)\n",
    "#os.mkdir(params_dir)\n",
    "\n",
    "for directory, backbone in \\\n",
    "    zip(directory_list, backbone_list):\n",
    "\n",
    "    params_subdir = os.path.join(pathlib.Path.home(), \"fashion_retrieval\", \"params\", \"ret_test_DDP_2\", directory)\n",
    "    #if os.path.exists(params_subdir): shutil.rmtree(params_subdir)\n",
    "    #os.mkdir(params_subdir)\n",
    "\n",
    "    for exp_idx, (img_size, batch_size, num_gpus, autocast, num_workers) in\\\n",
    "        enumerate(itertools.product(img_size_list, batch_size_list, num_gpus_list, autocast_list, num_workers_list)):\n",
    "\n",
    "        num_changes += 1\n",
    "\n",
    "        template_params_filename = os.path.join(pathlib.Path.home(), \"fashion_retrieval\", \"params\", \"templates\", \"ret_train_DDP_new.json\")\n",
    "        params = load_json_dict(template_params_filename)\n",
    "\n",
    "        #\n",
    "\n",
    "        params[\"experiment_name\"] = os.path.join(\"ret_test_DDP_2\", directory, \"test_{:03d}\".format(exp_idx))\n",
    "        params[\"settings\"][\"device_idxs\"] = gpu_idxs_dict[directory][num_gpus]\n",
    "        params[\"settings\"][\"backbone\"][\"class\"] = backbone\n",
    "        params[\"settings\"][\"backbone\"][\"img_size\"] = img_size\n",
    "        params[\"settings\"][\"data_loading\"][\"cutdown_ratio\"] = cutdown_ratio\n",
    "        params[\"settings\"][\"stage_1\"][\"data_loading\"][\"batch_size\"] = batch_size\n",
    "        params[\"settings\"][\"stage_1\"][\"data_loading\"][\"num_workers\"] = num_workers\n",
    "        params[\"settings\"][\"stage_1\"][\"autocast\"][\"enabled\"] = autocast\n",
    "        params[\"settings\"][\"stage_2\"][\"data_loading\"][\"batch_size\"] = batch_size\n",
    "        params[\"settings\"][\"stage_2\"][\"data_loading\"][\"num_workers\"] = num_workers\n",
    "        params[\"settings\"][\"stage_2\"][\"autocast\"][\"enabled\"] = autocast\n",
    "        params[\"settings\"][\"test\"][\"data_loading\"][\"batch_size\"] = batch_size\n",
    "        params[\"settings\"][\"test\"][\"data_loading\"][\"num_workers\"] = num_workers\n",
    "\n",
    "        #\n",
    "\n",
    "        dest_params_filename = os.path.join(pathlib.Path.home(), \"fashion_retrieval\", \"params\", \"ret_test_DDP_2\", directory, \"test_{:03d}__train_ret_DDP_preview.json\".format(exp_idx))\n",
    "        save_json_dict(dest_params_filename, params)\n",
    "\n",
    "print(num_changes)\n"
   ]
  },
  {
   "cell_type": "code",
   "execution_count": null,
   "metadata": {},
   "outputs": [],
   "source": []
  }
 ],
 "metadata": {
  "kernelspec": {
   "display_name": "Python 3",
   "language": "python",
   "name": "python3"
  },
  "language_info": {
   "codemirror_mode": {
    "name": "ipython",
    "version": 3
   },
   "file_extension": ".py",
   "mimetype": "text/x-python",
   "name": "python",
   "nbconvert_exporter": "python",
   "pygments_lexer": "ipython3",
   "version": "3.8.10"
  },
  "orig_nbformat": 4,
  "vscode": {
   "interpreter": {
    "hash": "916dbcbb3f70747c44a77c7bcd40155683ae19c65e1c03b4aa3499c5328201f1"
   }
  }
 },
 "nbformat": 4,
 "nbformat_minor": 2
}
