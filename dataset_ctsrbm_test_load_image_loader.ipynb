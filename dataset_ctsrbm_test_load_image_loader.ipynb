{
 "cells": [
  {
   "cell_type": "code",
   "execution_count": 10,
   "metadata": {},
   "outputs": [],
   "source": [
    "import sys\n",
    "\n",
    "import os\n",
    "import pathlib\n",
    "from datasets import deep_fashion_ctsrbm\n",
    "\n",
    "import numpy as np\n",
    "import pandas as pd\n",
    "\n",
    "import matplotlib as mpl\n",
    "import matplotlib.pyplot as plt\n",
    "%matplotlib inline\n",
    "\n",
    "from torch.utils.data import DataLoader, Subset\n",
    "from torchvision.transforms import Resize, Lambda, Compose\n",
    "\n",
    "import torch\n",
    "import torchvision\n",
    "\n",
    "import utils.mem\n",
    "import utils.list\n",
    "\n",
    "from tqdm.notebook import tqdm"
   ]
  },
  {
   "cell_type": "code",
   "execution_count": 2,
   "metadata": {},
   "outputs": [],
   "source": [
    "ctsrbm_image_transform = torchvision.models.EfficientNet_B3_Weights.DEFAULT.transforms()\n",
    "ctsrbm_image_transform.antialias = True\n",
    "\n",
    "ctsrbm_dataset_dir = os.path.join(pathlib.Path.home(), \"data\", \"DeepFashion\", \"Consumer-to-shop Clothes Retrieval Benchmark\")\n",
    "ctsrbm_dataset = deep_fashion_ctsrbm.ConsToShopClothRetrBmkImageLoader(ctsrbm_dataset_dir, img_transform=ctsrbm_image_transform)"
   ]
  },
  {
   "cell_type": "code",
   "execution_count": 3,
   "metadata": {},
   "outputs": [
    {
     "name": "stdout",
     "output_type": "stream",
     "text": [
      "239557\n"
     ]
    }
   ],
   "source": [
    "print(ctsrbm_dataset._num_imgs)"
   ]
  },
  {
   "cell_type": "code",
   "execution_count": 4,
   "metadata": {},
   "outputs": [],
   "source": [
    "ctsrbm_train_dataset = Subset(ctsrbm_dataset, ctsrbm_dataset.get_subset_indices(split=\"train\"))\n",
    "ctsrbm_test_dataset = Subset(ctsrbm_dataset, ctsrbm_dataset.get_subset_indices(split=\"test\"))\n",
    "ctsrbm_val_dataset = Subset(ctsrbm_dataset, ctsrbm_dataset.get_subset_indices(split=\"val\"))"
   ]
  },
  {
   "cell_type": "code",
   "execution_count": 5,
   "metadata": {},
   "outputs": [
    {
     "name": "stdout",
     "output_type": "stream",
     "text": [
      "-- PICKLE STATUS START --\n",
      "self._dataset_dirname\n",
      "   True\n",
      "self._img_transform\n",
      "   True\n",
      "self._split_num_mask\n",
      "   True\n",
      "self._domain_num_mask\n",
      "   True\n",
      "self._cloth_type_list\n",
      "   True\n",
      "self._cloth_subtype_llist\n",
      "   True\n",
      "self._cloth_type_inv_dict\n",
      "   True\n",
      "self._cloth_subtype_inv_dict_list\n",
      "   True\n",
      "self._num_imgs\n",
      "   True\n",
      "self._img_filename_codes_arr\n",
      "   True\n",
      "self._img_bbox_codes_arr\n",
      "   True\n",
      "-- PICKLE STATUS END --\n"
     ]
    }
   ],
   "source": [
    "ctsrbm_dataset._is_pickable()"
   ]
  },
  {
   "cell_type": "code",
   "execution_count": 6,
   "metadata": {},
   "outputs": [
    {
     "name": "stdout",
     "output_type": "stream",
     "text": [
      "Memory overhead:    5.718 MiB\n",
      "Data points:       239557\n",
      "  Train:           120927\n",
      "    Val:            58746\n",
      "   Test:            59884\n"
     ]
    }
   ],
   "source": [
    "print(\"Memory overhead:  {:s}\".format(utils.mem.sprint_fancy_num_bytes(ctsrbm_dataset._num_bytes())))\n",
    "print(\"Data points:     {:8d}\".format(len(ctsrbm_dataset)))\n",
    "print(\"  Train:         {:8d}\".format(len(ctsrbm_train_dataset)))\n",
    "print(\"    Val:         {:8d}\".format(len(ctsrbm_test_dataset)))\n",
    "print(\"   Test:         {:8d}\".format(len(ctsrbm_val_dataset)))"
   ]
  },
  {
   "cell_type": "code",
   "execution_count": 7,
   "metadata": {},
   "outputs": [
    {
     "name": "stdout",
     "output_type": "stream",
     "text": [
      "torch.Size([3, 300, 300]) torch.float32\n",
      "<class 'int'>\n"
     ]
    }
   ],
   "source": [
    "for el in ctsrbm_dataset[0]:\n",
    "    if type(el) == torch.Tensor: print(el.shape, el.dtype)\n",
    "    else: print(type(el))"
   ]
  },
  {
   "cell_type": "code",
   "execution_count": 16,
   "metadata": {},
   "outputs": [],
   "source": [
    "ctsrbm_train_loader = DataLoader(ctsrbm_train_dataset, batch_size=32, num_workers=6)\n",
    "ctsrbm_test_loader = DataLoader(ctsrbm_test_dataset, batch_size=32, num_workers=6)\n",
    "ctsrbm_val_loader = DataLoader(ctsrbm_val_dataset, batch_size=32, num_workers=6)"
   ]
  },
  {
   "cell_type": "code",
   "execution_count": 17,
   "metadata": {},
   "outputs": [
    {
     "name": "stdout",
     "output_type": "stream",
     "text": [
      "type(batch) <class 'list'>\n",
      "type(batch[0]) <class 'torch.Tensor'>\n",
      "batch[0].size() torch.Size([32, 3, 300, 300])\n",
      "type(batch[1]) <class 'torch.Tensor'>\n",
      "batch[1].size() torch.Size([32])\n"
     ]
    }
   ],
   "source": [
    "for batch in ctsrbm_train_loader:\n",
    "\n",
    "    print(\"type(batch)\", type(batch))\n",
    "    for idx, el in enumerate(batch):\n",
    "        print(\"type(batch[{:d}])\".format(idx), type(batch[idx]))\n",
    "        print(\"batch[{:d}].size()\".format(idx), batch[idx].size())\n",
    "\n",
    "    break"
   ]
  },
  {
   "cell_type": "code",
   "execution_count": 18,
   "metadata": {},
   "outputs": [
    {
     "data": {
      "application/vnd.jupyter.widget-view+json": {
       "model_id": "b204950e3b3946d98dc64810d406a385",
       "version_major": 2,
       "version_minor": 0
      },
      "text/plain": [
       "  0%|          | 0/3779 [00:00<?, ?it/s]"
      ]
     },
     "metadata": {},
     "output_type": "display_data"
    },
    {
     "ename": "KeyboardInterrupt",
     "evalue": "",
     "output_type": "error",
     "traceback": [
      "\u001b[0;31m---------------------------------------------------------------------------\u001b[0m",
      "\u001b[0;31mKeyboardInterrupt\u001b[0m                         Traceback (most recent call last)",
      "Cell \u001b[0;32mIn[18], line 1\u001b[0m\n\u001b[0;32m----> 1\u001b[0m \u001b[39mfor\u001b[39;00m batch \u001b[39min\u001b[39;00m tqdm(ctsrbm_train_loader):\n\u001b[1;32m      2\u001b[0m     \u001b[39mpass\u001b[39;00m\n",
      "\u001b[0;31mKeyboardInterrupt\u001b[0m: "
     ]
    }
   ],
   "source": [
    "for batch in tqdm(ctsrbm_train_loader):\n",
    "    pass"
   ]
  },
  {
   "cell_type": "code",
   "execution_count": null,
   "metadata": {},
   "outputs": [],
   "source": []
  }
 ],
 "metadata": {
  "kernelspec": {
   "display_name": ".venv",
   "language": "python",
   "name": "python3"
  },
  "language_info": {
   "codemirror_mode": {
    "name": "ipython",
    "version": 3
   },
   "file_extension": ".py",
   "mimetype": "text/x-python",
   "name": "python",
   "nbconvert_exporter": "python",
   "pygments_lexer": "ipython3",
   "version": "3.8.10"
  },
  "orig_nbformat": 4,
  "vscode": {
   "interpreter": {
    "hash": "649142fb4cdab8a2d2387ea4a1c8e262f08b2b20e4af0e114d36ea602bf8b868"
   }
  }
 },
 "nbformat": 4,
 "nbformat_minor": 2
}
