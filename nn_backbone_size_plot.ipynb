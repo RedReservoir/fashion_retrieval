{
 "cells": [
  {
   "cell_type": "code",
   "execution_count": 1,
   "metadata": {},
   "outputs": [],
   "source": [
    "import numpy as np\n",
    "import pandas as pd\n",
    "\n",
    "import matplotlib as mpl\n",
    "import matplotlib.pyplot as plt\n",
    "%matplotlib inline"
   ]
  },
  {
   "attachments": {},
   "cell_type": "markdown",
   "metadata": {},
   "source": [
    "---"
   ]
  },
  {
   "cell_type": "code",
   "execution_count": 2,
   "metadata": {},
   "outputs": [],
   "source": [
    "def read_data_file():\n",
    "\n",
    "    name_list = []\n",
    "    params_list = []\n",
    "\n",
    "    data_filename = \"misc/arch_weights.txt\"\n",
    "    data_file = open(data_filename, 'r')\n",
    "\n",
    "    for line in data_file.readlines():\n",
    "\n",
    "        tkns = line.split()\n",
    "        name = tkns[0]\n",
    "        params = int(tkns[1])\n",
    "\n",
    "        name_list.append(name)\n",
    "        params_list.append(params)\n",
    "\n",
    "    data_file.close()\n",
    "\n",
    "    return name_list, params_list"
   ]
  },
  {
   "cell_type": "code",
   "execution_count": 3,
   "metadata": {},
   "outputs": [],
   "source": [
    "name_list, params_list = read_data_file()\n",
    "\n",
    "resnet_list = [(name, params) for name, params in zip(name_list, params_list) if name[:3] == \"RES\"]\n",
    "effnet_list = [(name, params) for name, params in zip(name_list, params_list) if name[:3] == \"EFF\"]\n",
    "convnext_list = [(name, params) for name, params in zip(name_list, params_list) if name[:3] == \"CON\"]"
   ]
  },
  {
   "cell_type": "code",
   "execution_count": 4,
   "metadata": {},
   "outputs": [
    {
     "data": {
      "image/png": "[encoded data removed]",
      "text/plain": [
       "<Figure size 2000x500 with 1 Axes>"
      ]
     },
     "metadata": {},
     "output_type": "display_data"
    }
   ],
   "source": [
    "plt.figure(figsize=(20, 5))\n",
    "\n",
    "plt.gca().get_yaxis().set_visible(False)\n",
    "plt.xscale(\"log\")\n",
    "\n",
    "plt.ylim(-2.20, .20)\n",
    "\n",
    "plt.axhline(0, xmin=0.01, xmax=0.99, color='black', linestyle='-', linewidth=1, zorder=0)\n",
    "plt.axhline(-1, xmin=0.01, xmax=0.99, color='black', linestyle='-', linewidth=1, zorder=0)\n",
    "plt.axhline(-2, xmin=0.01, xmax=0.99, color='black', linestyle='-', linewidth=1, zorder=0)\n",
    "\n",
    "plt.scatter([params for name, params in resnet_list], [0] * len(resnet_list), label=\"ResNet\")\n",
    "plt.scatter([params for name, params in effnet_list], [-1] * len(effnet_list), label=\"EfficientNet\")\n",
    "plt.scatter([params for name, params in convnext_list], [-2] * len(convnext_list), label=\"ConvNext\")\n",
    "\n",
    "for name, params in resnet_list:\n",
    "    label = name[6:]\n",
    "    plt.text(params, -0 + 0.05, s=label, fontsize=12)\n",
    "\n",
    "for name, params in effnet_list:\n",
    "    label = name[13:]\n",
    "    plt.text(params, -1 + 0.05, s=label, fontsize=12)\n",
    "\n",
    "for name, params in convnext_list:\n",
    "    label = name[9:]\n",
    "    plt.text(params, -2 + 0.05, s=label, fontsize=12)\n",
    "\n",
    "plt.legend(loc=2)\n",
    "\n",
    "plt.xlabel(\"Num params\", fontsize=14)\n",
    "\n",
    "plt.show()"
   ]
  },
  {
   "cell_type": "code",
   "execution_count": 5,
   "metadata": {},
   "outputs": [],
   "source": [
    "df = pd.DataFrame(list(zip(name_list, params_list)), columns=[\"Network Name\", \"Number of Params\"])\n",
    "df[\"Number of Params\"] = (df[\"Number of Params\"] / 1000000).map('{:.2f}M'.format)"
   ]
  },
  {
   "cell_type": "code",
   "execution_count": 6,
   "metadata": {},
   "outputs": [
    {
     "data": {
      "text/html": [
       "<div>\n",
       "<style scoped>\n",
       "    .dataframe tbody tr th:only-of-type {\n",
       "        vertical-align: middle;\n",
       "    }\n",
       "\n",
       "    .dataframe tbody tr th {\n",
       "        vertical-align: top;\n",
       "    }\n",
       "\n",
       "    .dataframe thead th {\n",
       "        text-align: right;\n",
       "    }\n",
       "</style>\n",
       "<table border=\"1\" class=\"dataframe\">\n",
       "  <thead>\n",
       "    <tr style=\"text-align: right;\">\n",
       "      <th></th>\n",
       "      <th>Network Name</th>\n",
       "      <th>Number of Params</th>\n",
       "    </tr>\n",
       "  </thead>\n",
       "  <tbody>\n",
       "    <tr>\n",
       "      <th>0</th>\n",
       "      <td>RESNET18</td>\n",
       "      <td>11.69M</td>\n",
       "    </tr>\n",
       "    <tr>\n",
       "      <th>1</th>\n",
       "      <td>RESNET34</td>\n",
       "      <td>21.80M</td>\n",
       "    </tr>\n",
       "    <tr>\n",
       "      <th>2</th>\n",
       "      <td>RESNET50</td>\n",
       "      <td>25.56M</td>\n",
       "    </tr>\n",
       "    <tr>\n",
       "      <th>3</th>\n",
       "      <td>RESNET101</td>\n",
       "      <td>44.55M</td>\n",
       "    </tr>\n",
       "    <tr>\n",
       "      <th>4</th>\n",
       "      <td>RESNET152</td>\n",
       "      <td>60.19M</td>\n",
       "    </tr>\n",
       "    <tr>\n",
       "      <th>5</th>\n",
       "      <td>EFFICIENTNET_B0</td>\n",
       "      <td>5.29M</td>\n",
       "    </tr>\n",
       "    <tr>\n",
       "      <th>6</th>\n",
       "      <td>EFFICIENTNET_B1</td>\n",
       "      <td>7.79M</td>\n",
       "    </tr>\n",
       "    <tr>\n",
       "      <th>7</th>\n",
       "      <td>EFFICIENTNET_B2</td>\n",
       "      <td>9.11M</td>\n",
       "    </tr>\n",
       "    <tr>\n",
       "      <th>8</th>\n",
       "      <td>EFFICIENTNET_B3</td>\n",
       "      <td>12.23M</td>\n",
       "    </tr>\n",
       "    <tr>\n",
       "      <th>9</th>\n",
       "      <td>EFFICIENTNET_B4</td>\n",
       "      <td>19.34M</td>\n",
       "    </tr>\n",
       "    <tr>\n",
       "      <th>10</th>\n",
       "      <td>EFFICIENTNET_B5</td>\n",
       "      <td>30.39M</td>\n",
       "    </tr>\n",
       "    <tr>\n",
       "      <th>11</th>\n",
       "      <td>EFFICIENTNET_B6</td>\n",
       "      <td>43.04M</td>\n",
       "    </tr>\n",
       "    <tr>\n",
       "      <th>12</th>\n",
       "      <td>EFFICIENTNET_B7</td>\n",
       "      <td>66.35M</td>\n",
       "    </tr>\n",
       "    <tr>\n",
       "      <th>13</th>\n",
       "      <td>CONVNEXT_TINY</td>\n",
       "      <td>28.59M</td>\n",
       "    </tr>\n",
       "    <tr>\n",
       "      <th>14</th>\n",
       "      <td>CONVNEXT_SMALL</td>\n",
       "      <td>50.22M</td>\n",
       "    </tr>\n",
       "    <tr>\n",
       "      <th>15</th>\n",
       "      <td>CONVNEXT_BASE</td>\n",
       "      <td>88.59M</td>\n",
       "    </tr>\n",
       "    <tr>\n",
       "      <th>16</th>\n",
       "      <td>CONVNEXT_LARGE</td>\n",
       "      <td>197.77M</td>\n",
       "    </tr>\n",
       "  </tbody>\n",
       "</table>\n",
       "</div>"
      ],
      "text/plain": [
       "       Network Name Number of Params\n",
       "0          RESNET18           11.69M\n",
       "1          RESNET34           21.80M\n",
       "2          RESNET50           25.56M\n",
       "3         RESNET101           44.55M\n",
       "4         RESNET152           60.19M\n",
       "5   EFFICIENTNET_B0            5.29M\n",
       "6   EFFICIENTNET_B1            7.79M\n",
       "7   EFFICIENTNET_B2            9.11M\n",
       "8   EFFICIENTNET_B3           12.23M\n",
       "9   EFFICIENTNET_B4           19.34M\n",
       "10  EFFICIENTNET_B5           30.39M\n",
       "11  EFFICIENTNET_B6           43.04M\n",
       "12  EFFICIENTNET_B7           66.35M\n",
       "13    CONVNEXT_TINY           28.59M\n",
       "14   CONVNEXT_SMALL           50.22M\n",
       "15    CONVNEXT_BASE           88.59M\n",
       "16   CONVNEXT_LARGE          197.77M"
      ]
     },
     "execution_count": 6,
     "metadata": {},
     "output_type": "execute_result"
    }
   ],
   "source": [
    "df"
   ]
  },
  {
   "cell_type": "code",
   "execution_count": null,
   "metadata": {},
   "outputs": [],
   "source": []
  }
 ],
 "metadata": {
  "kernelspec": {
   "display_name": ".venv",
   "language": "python",
   "name": "python3"
  },
  "language_info": {
   "codemirror_mode": {
    "name": "ipython",
    "version": 3
   },
   "file_extension": ".py",
   "mimetype": "text/x-python",
   "name": "python",
   "nbconvert_exporter": "python",
   "pygments_lexer": "ipython3",
   "version": "3.8.10"
  },
  "orig_nbformat": 4,
  "vscode": {
   "interpreter": {
    "hash": "649142fb4cdab8a2d2387ea4a1c8e262f08b2b20e4af0e114d36ea602bf8b868"
   }
  }
 },
 "nbformat": 4,
 "nbformat_minor": 2
}
