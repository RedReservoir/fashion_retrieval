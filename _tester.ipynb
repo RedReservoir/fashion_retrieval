{
 "cells": [
  {
   "cell_type": "code",
   "execution_count": 26,
   "metadata": {},
   "outputs": [],
   "source": [
    "import os\n",
    "import shutil\n",
    "import sys\n",
    "import pathlib\n",
    "import pickle as pkl\n",
    "import json\n",
    "import argparse\n",
    "\n",
    "import numpy as np\n",
    "import pandas as pd\n",
    "\n",
    "import torch\n",
    "import torchvision\n",
    "\n",
    "from torch.utils.data import DataLoader, Subset\n",
    "\n",
    "from datasets import deep_fashion_ctsrbm\n",
    "from arch import backbones, models, heads\n",
    "\n",
    "from tqdm import tqdm, trange\n",
    "\n",
    "import utils.mem\n",
    "import utils.list\n",
    "import utils.train\n",
    "import utils.time\n",
    "import utils.log_new\n",
    "import utils.dict\n",
    "import utils.sig\n",
    "import utils.pkl\n",
    "import utils.chunk\n",
    "\n",
    "from time import time, sleep\n",
    "from datetime import datetime\n",
    "\n",
    "from itertools import chain\n",
    "from functools import reduce\n",
    "\n",
    "import json\n",
    "import socket"
   ]
  },
  {
   "cell_type": "code",
   "execution_count": 27,
   "metadata": {},
   "outputs": [],
   "source": [
    "def inconsistent_function(i):\n",
    "    sleep(3 if i == 0 else 0.5)"
   ]
  },
  {
   "cell_type": "code",
   "execution_count": 35,
   "metadata": {},
   "outputs": [],
   "source": [
    "tqdm_filename = \"tqdm.txt\"\n",
    "tqdm_file = open(tqdm_filename, \"w\")\n",
    "\n",
    "for i in tqdm(range(10), total=10, smoothing=0.3, file=tqdm_file):\n",
    "    inconsistent_function(i)\n",
    "\n",
    "tqdm_file.close()"
   ]
  },
  {
   "cell_type": "code",
   "execution_count": 39,
   "metadata": {},
   "outputs": [],
   "source": [
    "tqdm_filename = \"tqdm_2.txt\"\n",
    "tqdm_file = open(tqdm_filename, \"w\")\n",
    "\n",
    "for i in tqdm(range(10), total=10, smoothing=0.95, file=tqdm_file):\n",
    "    inconsistent_function(i)\n",
    "\n",
    "tqdm_file.close()"
   ]
  },
  {
   "cell_type": "code",
   "execution_count": 8,
   "metadata": {},
   "outputs": [
    {
     "name": "stderr",
     "output_type": "stream",
     "text": [
      "unpaused: 100%|██████████| 10/10 [00:00<00:00, 11.01it/s]\n"
     ]
    }
   ],
   "source": [
    "with trange(10, desc=\"unpaused\") as pbar:\n",
    "    for i in pbar:\n",
    "        inconsistent_function(i)\n",
    "        if i == 0:\n",
    "            pbar.unpause()"
   ]
  }
 ],
 "metadata": {
  "kernelspec": {
   "display_name": ".venv",
   "language": "python",
   "name": "python3"
  },
  "language_info": {
   "codemirror_mode": {
    "name": "ipython",
    "version": 3
   },
   "file_extension": ".py",
   "mimetype": "text/x-python",
   "name": "python",
   "nbconvert_exporter": "python",
   "pygments_lexer": "ipython3",
   "version": "3.8.10"
  },
  "orig_nbformat": 4,
  "vscode": {
   "interpreter": {
    "hash": "649142fb4cdab8a2d2387ea4a1c8e262f08b2b20e4af0e114d36ea602bf8b868"
   }
  }
 },
 "nbformat": 4,
 "nbformat_minor": 2
}
