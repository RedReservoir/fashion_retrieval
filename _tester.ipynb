{
 "cells": [
  {
   "cell_type": "code",
   "execution_count": 7,
   "metadata": {},
   "outputs": [],
   "source": [
    "import os\n",
    "import shutil\n",
    "import sys\n",
    "import pathlib\n",
    "import pickle as pkl\n",
    "import json\n",
    "import argparse\n",
    "\n",
    "import numpy as np\n",
    "import pandas as pd\n",
    "\n",
    "import torch\n",
    "import torchvision\n",
    "\n",
    "from torch.utils.data import DataLoader, Subset\n",
    "\n",
    "from datasets import deep_fashion_ctsrbm\n",
    "from arch import backbones, models, heads\n",
    "\n",
    "from tqdm import tqdm\n",
    "\n",
    "import utils.mem\n",
    "import utils.list\n",
    "import utils.train\n",
    "import utils.time\n",
    "import utils.log\n",
    "import utils.dict\n",
    "import utils.sig\n",
    "import utils.pkl\n",
    "import utils.chunk\n",
    "\n",
    "from time import time\n",
    "from datetime import datetime\n",
    "\n",
    "from itertools import chain\n",
    "from functools import reduce\n",
    "\n",
    "import json\n",
    "import socket"
   ]
  },
  {
   "cell_type": "code",
   "execution_count": 13,
   "metadata": {},
   "outputs": [],
   "source": [
    "def compute_gradual_inc_cutdown_ratio(\n",
    "        current_epoch_num,\n",
    "        dgi_num_epochs,\n",
    "        dgi_init_ratio\n",
    "        ):\n",
    "\n",
    "    cutdown_ratio = 1\n",
    "\n",
    "    if current_epoch_num == 1:\n",
    "        cutdown_ratio = dgi_init_ratio\n",
    "    elif 2 <= current_epoch_num and current_epoch_num <= dgi_num_epochs - 1:\n",
    "        cutdown_ratio = dgi_init_ratio + ((1 - dgi_init_ratio) / (2 ** (dgi_num_epochs - current_epoch_num)))\n",
    "\n",
    "    return cutdown_ratio"
   ]
  },
  {
   "cell_type": "code",
   "execution_count": 15,
   "metadata": {},
   "outputs": [
    {
     "name": "stdout",
     "output_type": "stream",
     "text": [
      "1 0.2\n",
      "2 0.25\n",
      "3 0.30000000000000004\n",
      "4 0.4\n",
      "5 0.6000000000000001\n",
      "6 1\n",
      "7 1\n",
      "8 1\n",
      "9 1\n",
      "10 1\n",
      "11 1\n",
      "12 1\n",
      "13 1\n",
      "14 1\n",
      "15 1\n",
      "16 1\n",
      "17 1\n",
      "18 1\n",
      "19 1\n",
      "20 1\n",
      "21 1\n",
      "22 1\n",
      "23 1\n",
      "24 1\n",
      "25 1\n",
      "26 1\n",
      "27 1\n",
      "28 1\n",
      "29 1\n",
      "30 1\n"
     ]
    }
   ],
   "source": [
    "for epoch in range(1, 31):\n",
    "    print(epoch, compute_gradual_inc_cutdown_ratio(epoch, 6, 0.2))"
   ]
  },
  {
   "cell_type": "code",
   "execution_count": 17,
   "metadata": {},
   "outputs": [
    {
     "data": {
      "text/plain": [
       "True"
      ]
     },
     "execution_count": 17,
     "metadata": {},
     "output_type": "execute_result"
    }
   ],
   "source": [
    "type({\"hola\": \"hola\"}) is dict"
   ]
  },
  {
   "cell_type": "code",
   "execution_count": 18,
   "metadata": {},
   "outputs": [
    {
     "data": {
      "text/plain": [
       "['hola']"
      ]
     },
     "execution_count": 18,
     "metadata": {},
     "output_type": "execute_result"
    }
   ],
   "source": [
    "[] + [\"hola\"]"
   ]
  },
  {
   "cell_type": "code",
   "execution_count": 19,
   "metadata": {},
   "outputs": [
    {
     "data": {
      "text/plain": [
       "list"
      ]
     },
     "execution_count": 19,
     "metadata": {},
     "output_type": "execute_result"
    }
   ],
   "source": [
    "type([] + [\"hola\"])"
   ]
  }
 ],
 "metadata": {
  "kernelspec": {
   "display_name": ".venv",
   "language": "python",
   "name": "python3"
  },
  "language_info": {
   "codemirror_mode": {
    "name": "ipython",
    "version": 3
   },
   "file_extension": ".py",
   "mimetype": "text/x-python",
   "name": "python",
   "nbconvert_exporter": "python",
   "pygments_lexer": "ipython3",
   "version": "3.8.10"
  },
  "orig_nbformat": 4,
  "vscode": {
   "interpreter": {
    "hash": "649142fb4cdab8a2d2387ea4a1c8e262f08b2b20e4af0e114d36ea602bf8b868"
   }
  }
 },
 "nbformat": 4,
 "nbformat_minor": 2
}
