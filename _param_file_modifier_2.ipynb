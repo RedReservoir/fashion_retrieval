{
 "cells": [
  {
   "cell_type": "code",
   "execution_count": 19,
   "metadata": {},
   "outputs": [],
   "source": [
    "import os\n",
    "import pathlib\n",
    "import pprint\n",
    "import json"
   ]
  },
  {
   "cell_type": "code",
   "execution_count": 20,
   "metadata": {},
   "outputs": [],
   "source": [
    "def save_json_dict(\n",
    "        json_filename,\n",
    "        json_dict,\n",
    "        indent=2\n",
    "        ):\n",
    "\n",
    "    with open(json_filename, 'w') as json_file:\n",
    "        json.dump(json_dict, json_file, indent=indent)\n",
    "\n",
    "\n",
    "def load_json_dict(\n",
    "        json_filename\n",
    "        ):\n",
    "\n",
    "    with open(json_filename, 'r') as json_file:\n",
    "        json_dict = json.load(json_file)\n",
    "\n",
    "    return json_dict"
   ]
  },
  {
   "cell_type": "code",
   "execution_count": 16,
   "metadata": {},
   "outputs": [],
   "source": [
    "data_dir = os.path.join(\n",
    "    pathlib.Path.home(),\n",
    "    \"data\",\n",
    "    \"fashion_retrieval\",\n",
    "    \"ret_train\",\n",
    "    \"resnet_50\"\n",
    ")\n",
    "\n",
    "params_dir = os.path.join(\n",
    "    pathlib.Path.home(),\n",
    "    \"fashion_retrieval\",\n",
    "    \"params\",\n",
    "    \"ret_train\",\n",
    "    \"resnet_50\"\n",
    ")"
   ]
  },
  {
   "cell_type": "code",
   "execution_count": 17,
   "metadata": {},
   "outputs": [
    {
     "data": {
      "text/plain": [
       "['test_006',\n",
       " 'test_003',\n",
       " 'test_002',\n",
       " 'test_005',\n",
       " 'test_007',\n",
       " 'test_004',\n",
       " 'test_000',\n",
       " 'test_001',\n",
       " 'test_008']"
      ]
     },
     "execution_count": 17,
     "metadata": {},
     "output_type": "execute_result"
    }
   ],
   "source": [
    "os.listdir(data_dir)"
   ]
  },
  {
   "cell_type": "code",
   "execution_count": 18,
   "metadata": {},
   "outputs": [
    {
     "name": "stdout",
     "output_type": "stream",
     "text": [
      "/home-net/gortega/fashion_retrieval/params/ret_train/resnet_50/test_006\n",
      "/home-net/gortega/fashion_retrieval/params/ret_train/resnet_50/exp_006\n",
      "\n",
      "/home-net/gortega/fashion_retrieval/params/ret_train/resnet_50/test_003\n",
      "/home-net/gortega/fashion_retrieval/params/ret_train/resnet_50/exp_003\n",
      "\n",
      "/home-net/gortega/fashion_retrieval/params/ret_train/resnet_50/test_002\n",
      "/home-net/gortega/fashion_retrieval/params/ret_train/resnet_50/exp_002\n",
      "\n",
      "/home-net/gortega/fashion_retrieval/params/ret_train/resnet_50/test_005\n",
      "/home-net/gortega/fashion_retrieval/params/ret_train/resnet_50/exp_005\n",
      "\n",
      "/home-net/gortega/fashion_retrieval/params/ret_train/resnet_50/test_007\n",
      "/home-net/gortega/fashion_retrieval/params/ret_train/resnet_50/exp_007\n",
      "\n",
      "/home-net/gortega/fashion_retrieval/params/ret_train/resnet_50/test_004\n",
      "/home-net/gortega/fashion_retrieval/params/ret_train/resnet_50/exp_004\n",
      "\n",
      "/home-net/gortega/fashion_retrieval/params/ret_train/resnet_50/test_000\n",
      "/home-net/gortega/fashion_retrieval/params/ret_train/resnet_50/exp_000\n",
      "\n",
      "/home-net/gortega/fashion_retrieval/params/ret_train/resnet_50/test_001\n",
      "/home-net/gortega/fashion_retrieval/params/ret_train/resnet_50/exp_001\n",
      "\n",
      "/home-net/gortega/fashion_retrieval/params/ret_train/resnet_50/test_008\n",
      "/home-net/gortega/fashion_retrieval/params/ret_train/resnet_50/exp_008\n",
      "\n"
     ]
    }
   ],
   "source": [
    "for filename in os.listdir(data_dir):\n",
    "\n",
    "    new_filename = \"exp\" + filename[4:]\n",
    "\n",
    "    full_filename = os.path.join(params_dir, filename)\n",
    "    new_full_filename = os.path.join(params_dir, new_filename)\n",
    "\n",
    "    #os.rename(full_filename, new_full_filename)\n",
    "\n",
    "    print(full_filename)\n",
    "    print(new_full_filename)\n",
    "    print()"
   ]
  },
  {
   "cell_type": "code",
   "execution_count": null,
   "metadata": {},
   "outputs": [],
   "source": []
  },
  {
   "attachments": {},
   "cell_type": "markdown",
   "metadata": {},
   "source": [
    "---"
   ]
  },
  {
   "cell_type": "code",
   "execution_count": 7,
   "metadata": {},
   "outputs": [],
   "source": [
    "data_dir = os.path.join(\n",
    "    pathlib.Path.home(),\n",
    "    \"data\",\n",
    "    \"fashion_retrieval\",\n",
    "    \"ret_train\",\n",
    "    \"resnet_50\"\n",
    ")\n",
    "\n",
    "for test_idx in range(9):\n",
    "\n",
    "    data_subdir = os.path.join(\n",
    "        data_dir,\n",
    "        \"test_{:03d}\".format(test_idx)\n",
    "    )\n",
    "\n",
    "    exp_filenames = os.listdir(data_subdir)\n",
    "\n",
    "    for exp_filename in exp_filenames:\n",
    "        if \"eval_ctsrbm\" in exp_filename or \"ctsrbm_eval\" in exp_filename:\n",
    "            \n",
    "            exp_filename_full = os.path.join(data_subdir, exp_filename)\n",
    "            os.remove(exp_filename_full)"
   ]
  },
  {
   "cell_type": "code",
   "execution_count": 34,
   "metadata": {},
   "outputs": [],
   "source": [
    "def save_json_dict(\n",
    "        json_filename,\n",
    "        json_dict,\n",
    "        indent=2\n",
    "        ):\n",
    "\n",
    "    with open(json_filename, 'w') as json_file:\n",
    "        json.dump(json_dict, json_file, indent=indent)\n",
    "\n",
    "\n",
    "def load_json_dict(\n",
    "        json_filename\n",
    "        ):\n",
    "\n",
    "    with open(json_filename, 'r') as json_file:\n",
    "        json_dict = json.load(json_file)\n",
    "\n",
    "    return json_dict"
   ]
  },
  {
   "cell_type": "code",
   "execution_count": 35,
   "metadata": {},
   "outputs": [],
   "source": [
    "exp_params_dir = os.path.join(\n",
    "    pathlib.Path.home(),\n",
    "    \"fashion_retrieval\",\n",
    "    \"exp_params\"\n",
    ")"
   ]
  },
  {
   "cell_type": "code",
   "execution_count": 42,
   "metadata": {},
   "outputs": [],
   "source": [
    "exp_params_subdir = os.path.join(\n",
    "    exp_params_dir,\n",
    "    \"convnext_ret_train\"\n",
    ")"
   ]
  },
  {
   "cell_type": "code",
   "execution_count": 27,
   "metadata": {},
   "outputs": [],
   "source": [
    "for test_idx in range(13):\n",
    "\n",
    "    eval_metrics_bad_filename = os.path.join(\n",
    "        exp_params_subdir,\n",
    "        \"test_t_{:03d}__eval_ctsrbm.json\".format(test_idx)\n",
    "    )\n",
    "\n",
    "    eval_metrics_good_filename = os.path.join(\n",
    "        exp_params_subdir,\n",
    "        \"test_t_{:03d}__eval_ctsrbm_metrics.json\".format(test_idx)\n",
    "    )\n",
    "\n",
    "    os.rename(eval_metrics_bad_filename, eval_metrics_good_filename)\n",
    "    eval_metrics_dict = load_json_dict(eval_metrics_good_filename)\n",
    "\n",
    "    eval_examples_orig_filename = os.path.join(\n",
    "        exp_params_dir,\n",
    "        \"resnet_ret_train\",\n",
    "        \"test_50_000__eval_ctsrbm_examples.json\".format(test_idx)\n",
    "    )\n",
    "\n",
    "    eval_examples_good_filename = os.path.join(\n",
    "        exp_params_subdir,\n",
    "        \"test_t_{:03d}__eval_ctsrbm_examples.json\".format(test_idx)\n",
    "    )\n",
    "\n",
    "    eval_examples_dict = load_json_dict(eval_examples_orig_filename)\n",
    "    eval_examples_dict[\"experiment_name\"] = eval_metrics_dict[\"experiment_name\"]\n",
    "    save_json_dict(eval_examples_good_filename, eval_examples_dict)"
   ]
  },
  {
   "cell_type": "code",
   "execution_count": 37,
   "metadata": {},
   "outputs": [],
   "source": [
    "for test_idx in range(13):\n",
    "\n",
    "    eval_examples_good_filename = os.path.join(\n",
    "        exp_params_subdir,\n",
    "        \"test_t_{:03d}__eval_ctsrbm_examples.json\".format(test_idx)\n",
    "    )\n",
    "\n",
    "    eval_examples_dict = load_json_dict(eval_examples_good_filename)\n",
    "    save_json_dict(eval_examples_good_filename, eval_examples_dict, indent=4)"
   ]
  },
  {
   "cell_type": "code",
   "execution_count": 43,
   "metadata": {},
   "outputs": [],
   "source": [
    "for test_idx in range(13):\n",
    "\n",
    "    eval_metrics_good_filename = os.path.join(\n",
    "        exp_params_subdir,\n",
    "        \"test_t_{:03d}__eval_ctsrbm_metrics.json\".format(test_idx)\n",
    "    )\n",
    "\n",
    "    eval_metrics_dict = load_json_dict(eval_metrics_good_filename)\n",
    "    eval_metrics_dict[\"settings\"][\"k_values\"] = [\"same\", \"all\", 1, 3, 5, 10]\n",
    "    save_json_dict(eval_metrics_good_filename, eval_metrics_dict, indent=4)"
   ]
  },
  {
   "cell_type": "code",
   "execution_count": 44,
   "metadata": {},
   "outputs": [],
   "source": [
    "exp_params_subdir = os.path.join(\n",
    "    exp_params_dir,\n",
    "    \"efficientnet_ret_train\"\n",
    ")"
   ]
  },
  {
   "cell_type": "code",
   "execution_count": 30,
   "metadata": {},
   "outputs": [],
   "source": [
    "for test_idx in range(12):\n",
    "\n",
    "    eval_metrics_bad_filename = os.path.join(\n",
    "        exp_params_subdir,\n",
    "        \"test_b3_{:03d}__eval_ctsrbm.json\".format(test_idx)\n",
    "    )\n",
    "\n",
    "    eval_metrics_good_filename = os.path.join(\n",
    "        exp_params_subdir,\n",
    "        \"test_b3_{:03d}__eval_ctsrbm_metrics.json\".format(test_idx)\n",
    "    )\n",
    "\n",
    "    os.rename(eval_metrics_bad_filename, eval_metrics_good_filename)\n",
    "    eval_metrics_dict = load_json_dict(eval_metrics_good_filename)\n",
    "\n",
    "    eval_examples_orig_filename = os.path.join(\n",
    "        exp_params_dir,\n",
    "        \"resnet_ret_train\",\n",
    "        \"test_50_000__eval_ctsrbm_examples.json\".format(test_idx)\n",
    "    )\n",
    "\n",
    "    eval_examples_good_filename = os.path.join(\n",
    "        exp_params_subdir,\n",
    "        \"test_b3_{:03d}__eval_ctsrbm_examples.json\".format(test_idx)\n",
    "    )\n",
    "\n",
    "    eval_examples_dict = load_json_dict(eval_examples_orig_filename)\n",
    "    eval_examples_dict[\"experiment_name\"] = eval_metrics_dict[\"experiment_name\"]\n",
    "    save_json_dict(eval_examples_good_filename, eval_examples_dict)"
   ]
  },
  {
   "cell_type": "code",
   "execution_count": 39,
   "metadata": {},
   "outputs": [],
   "source": [
    "for test_idx in range(12):\n",
    "\n",
    "    eval_examples_good_filename = os.path.join(\n",
    "        exp_params_subdir,\n",
    "        \"test_b3_{:03d}__eval_ctsrbm_examples.json\".format(test_idx)\n",
    "    )\n",
    "\n",
    "    eval_examples_dict = load_json_dict(eval_examples_good_filename)\n",
    "    save_json_dict(eval_examples_good_filename, eval_examples_dict, indent=4)"
   ]
  },
  {
   "cell_type": "code",
   "execution_count": 46,
   "metadata": {},
   "outputs": [],
   "source": [
    "for test_idx in range(12):\n",
    "\n",
    "    eval_metrics_good_filename = os.path.join(\n",
    "        exp_params_subdir,\n",
    "        \"test_b3_{:03d}__eval_ctsrbm_metrics.json\".format(test_idx)\n",
    "    )\n",
    "\n",
    "    eval_metrics_dict = load_json_dict(eval_metrics_good_filename)\n",
    "    eval_metrics_dict[\"settings\"][\"k_values\"] = [\"same\", \"all\", 1, 3, 5, 10]\n",
    "    save_json_dict(eval_metrics_good_filename, eval_metrics_dict, indent=4)"
   ]
  },
  {
   "cell_type": "code",
   "execution_count": 47,
   "metadata": {},
   "outputs": [],
   "source": [
    "exp_params_subdir = os.path.join(\n",
    "    exp_params_dir,\n",
    "    \"resnet_ret_train\"\n",
    ")"
   ]
  },
  {
   "cell_type": "code",
   "execution_count": 32,
   "metadata": {},
   "outputs": [],
   "source": [
    "for test_idx in range(1, 9):\n",
    "\n",
    "    eval_metrics_bad_filename = os.path.join(\n",
    "        exp_params_subdir,\n",
    "        \"test_50_{:03d}__eval_ctsrbm.json\".format(test_idx)\n",
    "    )\n",
    "\n",
    "    eval_metrics_good_filename = os.path.join(\n",
    "        exp_params_subdir,\n",
    "        \"test_50_{:03d}__eval_ctsrbm_metrics.json\".format(test_idx)\n",
    "    )\n",
    "\n",
    "    os.rename(eval_metrics_bad_filename, eval_metrics_good_filename)\n",
    "    eval_metrics_dict = load_json_dict(eval_metrics_good_filename)\n",
    "\n",
    "    eval_examples_orig_filename = os.path.join(\n",
    "        exp_params_dir,\n",
    "        \"resnet_ret_train\",\n",
    "        \"test_50_000__eval_ctsrbm_examples.json\".format(test_idx)\n",
    "    )\n",
    "\n",
    "    eval_examples_good_filename = os.path.join(\n",
    "        exp_params_subdir,\n",
    "        \"test_50_{:03d}__eval_ctsrbm_examples.json\".format(test_idx)\n",
    "    )\n",
    "\n",
    "    eval_examples_dict = load_json_dict(eval_examples_orig_filename)\n",
    "    eval_examples_dict[\"experiment_name\"] = eval_metrics_dict[\"experiment_name\"]\n",
    "    save_json_dict(eval_examples_good_filename, eval_examples_dict)"
   ]
  },
  {
   "cell_type": "code",
   "execution_count": 41,
   "metadata": {},
   "outputs": [],
   "source": [
    "for test_idx in range(9):\n",
    "\n",
    "    eval_examples_good_filename = os.path.join(\n",
    "        exp_params_subdir,\n",
    "        \"test_50_{:03d}__eval_ctsrbm_examples.json\".format(test_idx)\n",
    "    )\n",
    "\n",
    "    eval_examples_dict = load_json_dict(eval_examples_good_filename)\n",
    "    save_json_dict(eval_examples_good_filename, eval_examples_dict, indent=4)"
   ]
  },
  {
   "cell_type": "code",
   "execution_count": 48,
   "metadata": {},
   "outputs": [],
   "source": [
    "for test_idx in range(9):\n",
    "\n",
    "    eval_metrics_good_filename = os.path.join(\n",
    "        exp_params_subdir,\n",
    "        \"test_50_{:03d}__eval_ctsrbm_metrics.json\".format(test_idx)\n",
    "    )\n",
    "\n",
    "    eval_metrics_dict = load_json_dict(eval_metrics_good_filename)\n",
    "    eval_metrics_dict[\"settings\"][\"k_values\"] = [\"same\", \"all\", 1, 3, 5, 10]\n",
    "    save_json_dict(eval_metrics_good_filename, eval_metrics_dict, indent=4)"
   ]
  },
  {
   "cell_type": "code",
   "execution_count": null,
   "metadata": {},
   "outputs": [],
   "source": []
  },
  {
   "cell_type": "code",
   "execution_count": null,
   "metadata": {},
   "outputs": [],
   "source": []
  },
  {
   "cell_type": "code",
   "execution_count": null,
   "metadata": {},
   "outputs": [],
   "source": []
  }
 ],
 "metadata": {
  "kernelspec": {
   "display_name": ".venv",
   "language": "python",
   "name": "python3"
  },
  "language_info": {
   "codemirror_mode": {
    "name": "ipython",
    "version": 3
   },
   "file_extension": ".py",
   "mimetype": "text/x-python",
   "name": "python",
   "nbconvert_exporter": "python",
   "pygments_lexer": "ipython3",
   "version": "3.8.10"
  },
  "orig_nbformat": 4,
  "vscode": {
   "interpreter": {
    "hash": "c1d9cd8eb66510c5ec86eb907d6561b8001175da1689fbe0f45c40d854d32b14"
   }
  }
 },
 "nbformat": 4,
 "nbformat_minor": 2
}
