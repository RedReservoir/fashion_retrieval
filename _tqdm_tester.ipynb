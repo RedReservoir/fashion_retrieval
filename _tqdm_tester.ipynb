{
 "cells": [
  {
   "cell_type": "code",
   "execution_count": 22,
   "metadata": {},
   "outputs": [],
   "source": [
    "from tqdm import tqdm as tqdm_script\n",
    "from tqdm.notebook import tqdm as tqdm_notebook\n",
    "import time\n",
    "\n",
    "import utils.log_new\n",
    "import sys"
   ]
  },
  {
   "cell_type": "code",
   "execution_count": 29,
   "metadata": {},
   "outputs": [
    {
     "name": "stderr",
     "output_type": "stream",
     "text": [
      "    Progress: 100% 34157/34157 [00:05<00:00, 6279.36it/s]\n"
     ]
    }
   ],
   "source": [
    "out_streams = [\n",
    "    sys.stderr,\n",
    "    \"tqdm_file.txt\"\n",
    "]\n",
    "logger = utils.log_new.Logger(out_streams)\n",
    "\n",
    "num_values = 34157\n",
    "\n",
    "##\n",
    "\n",
    "raw_iterator = range(34157)\n",
    "\n",
    "tqdm_iterator = tqdm_script(\n",
    "    range(num_values),\n",
    "    miniters=len(raw_iterator)/10,\n",
    "    file=logger,\n",
    "    ascii=False,\n",
    "    desc=\"    Progress\",\n",
    "    ncols=0\n",
    "    )\n",
    "\n",
    "for _ in tqdm_iterator:\n",
    "    time.sleep(0.0001)"
   ]
  },
  {
   "cell_type": "code",
   "execution_count": 26,
   "metadata": {},
   "outputs": [
    {
     "data": {
      "application/vnd.jupyter.widget-view+json": {
       "model_id": "a9c512cb4df1432e8e8432b16394a635",
       "version_major": 2,
       "version_minor": 0
      },
      "text/plain": [
       "Description:   0%|          | 0/34157 [00:00<?, ?it/s]"
      ]
     },
     "metadata": {},
     "output_type": "display_data"
    }
   ],
   "source": [
    "out_streams = [\n",
    "    sys.stderr,\n",
    "    \"tqdm_file.txt\"\n",
    "]\n",
    "logger = utils.log_new.Logger(out_streams)\n",
    "\n",
    "num_values = 34157\n",
    "\n",
    "##\n",
    "\n",
    "for _ in tqdm_notebook(range(num_values), miniters=num_values//10, file=logger, desc=\"Description\", ascii=False):\n",
    "    time.sleep(0.0001)"
   ]
  }
 ],
 "metadata": {
  "kernelspec": {
   "display_name": ".venv",
   "language": "python",
   "name": "python3"
  },
  "language_info": {
   "codemirror_mode": {
    "name": "ipython",
    "version": 3
   },
   "file_extension": ".py",
   "mimetype": "text/x-python",
   "name": "python",
   "nbconvert_exporter": "python",
   "pygments_lexer": "ipython3",
   "version": "3.8.10"
  },
  "orig_nbformat": 4,
  "vscode": {
   "interpreter": {
    "hash": "c1d9cd8eb66510c5ec86eb907d6561b8001175da1689fbe0f45c40d854d32b14"
   }
  }
 },
 "nbformat": 4,
 "nbformat_minor": 2
}
