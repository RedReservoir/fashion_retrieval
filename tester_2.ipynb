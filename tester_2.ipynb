{
 "cells": [
  {
   "cell_type": "code",
   "execution_count": 33,
   "metadata": {},
   "outputs": [],
   "source": [
    "import os\n",
    "import uuid"
   ]
  },
  {
   "cell_type": "code",
   "execution_count": null,
   "metadata": {},
   "outputs": [],
   "source": [
    "dataset_dir = \"fashion_datasets/DeepFashion/Category_AttrPred_BM\""
   ]
  },
  {
   "attachments": {},
   "cell_type": "markdown",
   "metadata": {},
   "source": [
    "---"
   ]
  },
  {
   "cell_type": "code",
   "execution_count": null,
   "metadata": {},
   "outputs": [],
   "source": [
    "category_name_filename = os.path.join(dataset_dir, \"Anno_coarse\", \"list_category_cloth.txt\")\n",
    "category_name_file = open(category_name_filename, 'r')        \n",
    "\n",
    "category_name_list = []\n",
    "supcategory_idx_list = []\n",
    "supcategory_name_list = []\n",
    "\n",
    "for _ in range(2):\n",
    "    line = category_name_file.readline()\n",
    "\n",
    "for line in category_name_file.readlines():\n",
    "    tkns = line.split()\n",
    "    category_name_list.append(tkns[0])\n",
    "    supcategory_idx_list.append(int(tkns[1]))\n",
    "\n",
    "category_name_file.close()\n",
    "\n",
    "##\n",
    "\n",
    "supcategory_name_list = [\n",
    "    \"Upper-body\",\n",
    "    \"Lower-body\",\n",
    "    \"Full-body\"\n",
    "]"
   ]
  },
  {
   "cell_type": "code",
   "execution_count": null,
   "metadata": {},
   "outputs": [],
   "source": [
    "supcategory_name_list"
   ]
  },
  {
   "cell_type": "code",
   "execution_count": null,
   "metadata": {},
   "outputs": [],
   "source": [
    "supcategory_name_dict"
   ]
  },
  {
   "cell_type": "code",
   "execution_count": null,
   "metadata": {},
   "outputs": [],
   "source": [
    "category_super_idx_list"
   ]
  },
  {
   "attachments": {},
   "cell_type": "markdown",
   "metadata": {},
   "source": [
    "---"
   ]
  },
  {
   "cell_type": "code",
   "execution_count": null,
   "metadata": {},
   "outputs": [],
   "source": [
    "attribute_name_filename = os.path.join(dataset_dir, \"Anno_coarse\", \"list_attr_cloth.txt\")\n",
    "attribute_name_file = open(attribute_name_filename, 'r')        \n",
    "\n",
    "attribute_name_list = []\n",
    "supattribute_idx_list = []\n",
    "\n",
    "for _ in range(2):\n",
    "    line = attribute_name_file.readline()\n",
    "\n",
    "for line in attribute_name_file.readlines():\n",
    "    tkns = line.split()\n",
    "    attribute_name_list.append(\" \".join(tkns[:-1]))\n",
    "    supattribute_idx_list.append(int(tkns[-1]))\n",
    "\n",
    "attribute_name_file.close()\n",
    "\n",
    "##\n",
    "\n",
    "supattribute_name_list = [\n",
    "    \"Texture\",\n",
    "    \"Fabric\",\n",
    "    \"Shape\",\n",
    "    \"Part\",\n",
    "    \"Style\"\n",
    "]"
   ]
  },
  {
   "cell_type": "code",
   "execution_count": null,
   "metadata": {},
   "outputs": [],
   "source": [
    "supattribute_name_list"
   ]
  },
  {
   "attachments": {},
   "cell_type": "markdown",
   "metadata": {},
   "source": [
    "---"
   ]
  },
  {
   "cell_type": "code",
   "execution_count": null,
   "metadata": {},
   "outputs": [],
   "source": [
    "train_mask_idxs = []\n",
    "test_mask_idxs = []\n",
    "val_mask_idxs = []\n",
    "\n",
    "split_mask_filename = os.path.join(dataset_dir, \"Eval\", \"list_eval_partition.txt\")\n",
    "split_mask_file = open(split_mask_filename, 'r')\n",
    "\n",
    "for _ in range(2):\n",
    "    line = split_mask_file.readline()\n",
    "\n",
    "for img_idx, line in enumerate(split_mask_file.readlines()):\n",
    "    split_name = line[:-1].split()[1]\n",
    "    if split_name == \"train\": train_mask_idxs.append(img_idx)\n",
    "    elif split_name == \"test\": test_mask_idxs.append(img_idx)\n",
    "    elif split_name == \"val\": val_mask_idxs.append(img_idx)\n",
    "\n",
    "split_mask_file.close()"
   ]
  },
  {
   "cell_type": "code",
   "execution_count": null,
   "metadata": {},
   "outputs": [],
   "source": [
    "print(len(train_mask_idxs))\n",
    "print(len(test_mask_idxs))\n",
    "print(len(val_mask_idxs))"
   ]
  },
  {
   "attachments": {},
   "cell_type": "markdown",
   "metadata": {},
   "source": [
    "---"
   ]
  },
  {
   "cell_type": "code",
   "execution_count": null,
   "metadata": {},
   "outputs": [],
   "source": [
    "bbox_cursor_list = []\n",
    "\n",
    "bbox_filename = os.path.join(dataset_dir, \"Anno_coarse\", \"list_bbox.txt\")\n",
    "bbox_file = open(bbox_filename, 'r')\n",
    "\n",
    "for _ in range(2):\n",
    "    line = bbox_file.readline()\n",
    "\n",
    "read_obj = bbox_file.read()\n",
    "\n",
    "print(read_obj)\n",
    "\n",
    "bbox_file.close()"
   ]
  },
  {
   "cell_type": "code",
   "execution_count": 28,
   "metadata": {},
   "outputs": [],
   "source": [
    "bbox_cursor_list = []\n",
    "\n",
    "bbox_filename = os.path.join(dataset_dir, \"Anno_coarse\", \"list_bbox.txt\")\n",
    "bbox_file = open(bbox_filename, 'r')"
   ]
  },
  {
   "cell_type": "code",
   "execution_count": 31,
   "metadata": {},
   "outputs": [
    {
     "data": {
      "text/plain": [
       "'image_name  x_1  y_1  x_2  y_2\\n'"
      ]
     },
     "execution_count": 31,
     "metadata": {},
     "output_type": "execute_result"
    }
   ],
   "source": [
    "bbox_file.readline()"
   ]
  },
  {
   "cell_type": "code",
   "execution_count": 32,
   "metadata": {},
   "outputs": [
    {
     "data": {
      "text/plain": [
       "38"
      ]
     },
     "execution_count": 32,
     "metadata": {},
     "output_type": "execute_result"
    }
   ],
   "source": [
    "bbox_file.tell()"
   ]
  },
  {
   "cell_type": "code",
   "execution_count": 35,
   "metadata": {},
   "outputs": [
    {
     "data": {
      "text/plain": [
       "'fbacde67-7547-4397-9613-0d2743421615'"
      ]
     },
     "execution_count": 35,
     "metadata": {},
     "output_type": "execute_result"
    }
   ],
   "source": [
    "\n",
    "str(uuid.uuid4())"
   ]
  },
  {
   "cell_type": "code",
   "execution_count": null,
   "metadata": {},
   "outputs": [],
   "source": [
    "str(uuid.uuid4)"
   ]
  },
  {
   "cell_type": "code",
   "execution_count": 37,
   "metadata": {},
   "outputs": [
    {
     "data": {
      "text/plain": [
       "['Hola', 'que', 'tal']"
      ]
     },
     "execution_count": 37,
     "metadata": {},
     "output_type": "execute_result"
    }
   ],
   "source": [
    "\"Hola que tal\\n\".split()"
   ]
  },
  {
   "cell_type": "code",
   "execution_count": null,
   "metadata": {},
   "outputs": [],
   "source": []
  }
 ],
 "metadata": {
  "kernelspec": {
   "display_name": "Python 3",
   "language": "python",
   "name": "python3"
  },
  "language_info": {
   "codemirror_mode": {
    "name": "ipython",
    "version": 3
   },
   "file_extension": ".py",
   "mimetype": "text/x-python",
   "name": "python",
   "nbconvert_exporter": "python",
   "pygments_lexer": "ipython3",
   "version": "3.8.10"
  },
  "orig_nbformat": 4,
  "vscode": {
   "interpreter": {
    "hash": "916dbcbb3f70747c44a77c7bcd40155683ae19c65e1c03b4aa3499c5328201f1"
   }
  }
 },
 "nbformat": 4,
 "nbformat_minor": 2
}
