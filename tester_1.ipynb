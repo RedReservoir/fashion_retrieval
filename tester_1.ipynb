{
 "cells": [
  {
   "cell_type": "code",
   "execution_count": 1,
   "metadata": {},
   "outputs": [],
   "source": [
    "import os\n",
    "import sys\n",
    "import uuid\n",
    "import time\n",
    "\n",
    "from utils import *"
   ]
  },
  {
   "cell_type": "code",
   "execution_count": 2,
   "metadata": {},
   "outputs": [],
   "source": [
    "dataset_dir = os.path.join(\"fashion_datasets\", \"DeepFashion\", \"Category_AttrPred_BM\")\n",
    "data_filename = os.path.join(dataset_dir, \"Anno_coarse\", \"list_category_img.txt\")\n",
    "bbox_filename = os.path.join(dataset_dir, \"Anno_coarse\", \"list_bbox.txt\")"
   ]
  },
  {
   "cell_type": "code",
   "execution_count": 3,
   "metadata": {},
   "outputs": [],
   "source": [
    "data_cursor_list = []\n",
    "img_filename_list = []\n",
    "img_label_list = []\n",
    "\n",
    "data_file = open(data_filename, 'r')        \n",
    "\n",
    "for _ in range(2):\n",
    "    _ = data_file.readline()\n",
    "\n",
    "cursor = data_file.tell()\n",
    "line = data_file.readline()\n",
    "\n",
    "while line != \"\":\n",
    "\n",
    "    data_cursor_list.append(cursor)\n",
    "\n",
    "    tkns = line[:-1].split()\n",
    "    img_filename_list.append(tkns[0])\n",
    "    img_label_list.append(int(tkns[1]))\n",
    "\n",
    "    cursor = data_file.tell()\n",
    "    line = data_file.readline()\n",
    "\n",
    "data_file.close()"
   ]
  },
  {
   "cell_type": "code",
   "execution_count": 4,
   "metadata": {},
   "outputs": [],
   "source": [
    "bbox_cursor_list = []\n",
    "img_bbox_list = []\n",
    "\n",
    "bbox_file = open(bbox_filename, 'r')        \n",
    "\n",
    "for _ in range(2):\n",
    "    _ = bbox_file.readline()\n",
    "\n",
    "cursor = bbox_file.tell()\n",
    "line = bbox_file.readline()\n",
    "\n",
    "while line != \"\":\n",
    "\n",
    "    bbox_cursor_list.append(cursor)\n",
    "\n",
    "    tkns = line[:-1].split()\n",
    "    bbox = [int(tkns[idx]) for idx in range(1, 5)]\n",
    "    img_bbox_list.append(bbox)\n",
    "\n",
    "    cursor = bbox_file.tell()\n",
    "    line = bbox_file.readline()\n",
    "\n",
    "bbox_file.close()"
   ]
  },
  {
   "cell_type": "code",
   "execution_count": 5,
   "metadata": {},
   "outputs": [
    {
     "name": "stdout",
     "output_type": "stream",
     "text": [
      "28.26MB\n",
      "9.99MB\n",
      "57.43MB\n"
     ]
    }
   ],
   "source": [
    "print(sprint_fancy_num_bytes(get_num_bytes(img_filename_list)))\n",
    "print(sprint_fancy_num_bytes(get_num_bytes(img_label_list)))\n",
    "print(sprint_fancy_num_bytes(get_num_bytes(img_bbox_list)))"
   ]
  },
  {
   "cell_type": "code",
   "execution_count": 6,
   "metadata": {},
   "outputs": [
    {
     "name": "stdout",
     "output_type": "stream",
     "text": [
      "9.99MB\n",
      "9.99MB\n"
     ]
    }
   ],
   "source": [
    "print(sprint_fancy_num_bytes(get_num_bytes(data_cursor_list)))\n",
    "print(sprint_fancy_num_bytes(get_num_bytes(bbox_cursor_list)))"
   ]
  },
  {
   "attachments": {},
   "cell_type": "markdown",
   "metadata": {},
   "source": [
    "---"
   ]
  },
  {
   "cell_type": "code",
   "execution_count": 30,
   "metadata": {},
   "outputs": [
    {
     "name": "stdout",
     "output_type": "stream",
     "text": [
      "00:00.032\n"
     ]
    }
   ],
   "source": [
    "time_start = time.time()\n",
    "\n",
    "for img_filename, img_label, img_bbox in zip(img_filename_list, img_label_list, img_bbox_list):\n",
    "    pass\n",
    "\n",
    "time_end = time.time()\n",
    "print(sprint_fancy_time_diff(time_end - time_start))"
   ]
  },
  {
   "cell_type": "code",
   "execution_count": 33,
   "metadata": {},
   "outputs": [
    {
     "name": "stdout",
     "output_type": "stream",
     "text": [
      "00:03.383\n"
     ]
    }
   ],
   "source": [
    "data_file = open(data_filename, 'r')\n",
    "bbox_file = open(bbox_filename, 'r')\n",
    "\n",
    "time_start = time.time()\n",
    "\n",
    "for data_cursor, bbox_cursor in zip(data_cursor_list, bbox_cursor_list):\n",
    "    \n",
    "    data_file.seek(data_cursor)\n",
    "    data_line = data_file.readline()\n",
    "\n",
    "    bbox_file.seek(bbox_cursor)\n",
    "    bbox_line = bbox_file.readline()\n",
    "\n",
    "    data_tkns = data_line[:-1].split()\n",
    "    img_filename = data_tkns[0]\n",
    "    img_label = int(data_tkns[1])\n",
    "\n",
    "    bbox_tkns = bbox_line[:-1].split()\n",
    "    bbox = [int(bbox_tkns[idx]) for idx in range(1, 5)]\n",
    "\n",
    "time_end = time.time()\n",
    "print(sprint_fancy_time_diff(time_end - time_start))\n",
    "\n",
    "data_file.close()\n",
    "bbox_file.close()"
   ]
  },
  {
   "cell_type": "code",
   "execution_count": 12,
   "metadata": {},
   "outputs": [
    {
     "data": {
      "text/plain": [
       "[34, 107, 180, 253, 326, 399, 472, 545, 618, 691]"
      ]
     },
     "execution_count": 12,
     "metadata": {},
     "output_type": "execute_result"
    }
   ],
   "source": [
    "cursor_list[:10]"
   ]
  },
  {
   "cell_type": "code",
   "execution_count": 16,
   "metadata": {},
   "outputs": [
    {
     "name": "stdout",
     "output_type": "stream",
     "text": [
      "img/Sheer_Pleated-Front_Blouse/img_00000001.jpg                        3\n",
      "\n"
     ]
    }
   ],
   "source": [
    "data_file = open(data_filename, 'r')\n",
    "\n",
    "\n",
    "\n",
    "data_file.close()\n",
    "\n",
    "print(data)"
   ]
  },
  {
   "cell_type": "code",
   "execution_count": 30,
   "metadata": {},
   "outputs": [
    {
     "name": "stdout",
     "output_type": "stream",
     "text": [
      "9.99MB\n"
     ]
    }
   ],
   "source": [
    "print(byte_fancy_str(list_memory(cursor_list)))"
   ]
  }
 ],
 "metadata": {
  "kernelspec": {
   "display_name": "Python 3",
   "language": "python",
   "name": "python3"
  },
  "language_info": {
   "codemirror_mode": {
    "name": "ipython",
    "version": 3
   },
   "file_extension": ".py",
   "mimetype": "text/x-python",
   "name": "python",
   "nbconvert_exporter": "python",
   "pygments_lexer": "ipython3",
   "version": "3.8.10"
  },
  "orig_nbformat": 4,
  "vscode": {
   "interpreter": {
    "hash": "916dbcbb3f70747c44a77c7bcd40155683ae19c65e1c03b4aa3499c5328201f1"
   }
  }
 },
 "nbformat": 4,
 "nbformat_minor": 2
}
